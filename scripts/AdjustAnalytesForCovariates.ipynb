{
 "cells": [
  {
   "cell_type": "code",
   "execution_count": 1,
   "metadata": {},
   "outputs": [
    {
     "name": "stderr",
     "output_type": "stream",
     "text": [
      "Matplotlib created a temporary config/cache directory at /tmp/matplotlib-vtltlv59 because the default path (/home/jovyan/.cache/matplotlib) is not a writable directory; it is highly recommended to set the MPLCONFIGDIR environment variable to a writable directory, in particular to speed up the import of Matplotlib and to better support multiprocessing.\n"
     ]
    }
   ],
   "source": [
    "# Load packages\n",
    "from datetime import datetime\n",
    "import logging\n",
    "import math\n",
    "import matplotlib.pyplot as plt\n",
    "import numpy as np\n",
    "import os\n",
    "import pandas as pd\n",
    "import seaborn as sns\n",
    "import scipy\n",
    "import sys\n",
    "\n",
    "from scipy.stats import chisquare\n",
    "from sklearn.model_selection import KFold, cross_val_score\n",
    "from statsmodels.stats.outliers_influence import variance_inflation_factor\n",
    "\n",
    "# Set up logging\n",
    "from analytics.util.analytics_logger import GetAnalyticsLogger\n",
    "import logging\n",
    "logger = GetAnalyticsLogger()\n",
    "logger.setLevel(logging.INFO)\n",
    "logging.basicConfig(level=logging.INFO)\n",
    "logger = logging.getLogger('analytics')\n",
    "logger.setLevel(logging.INFO)\n",
    "\n",
    "# Snapshots\n",
    "from arivale_data_interface import *\n",
    "\n",
    "# set Seed\n",
    "np.random.seed(123)"
   ]
  },
  {
   "cell_type": "code",
   "execution_count": 2,
   "metadata": {},
   "outputs": [],
   "source": [
    "# declare universal variables\n",
    "SUFFIX = ' (protein)'"
   ]
  },
  {
   "cell_type": "code",
   "execution_count": 3,
   "metadata": {},
   "outputs": [],
   "source": [
    "def add_suffix_to_column_names(df, suffix):\n",
    "    new_columns = {}\n",
    "    for column in df.columns:\n",
    "        if column != 'Patient-ID':\n",
    "            new_column = column + suffix\n",
    "        else:\n",
    "            new_column = column\n",
    "        new_columns[column] = new_column\n",
    "    df.rename(columns=new_columns, inplace=True)\n",
    "    return df\n",
    "\n",
    "\n",
    "def calc_chi_square(dict_obs, dict_exp):\n",
    "    list_obs, list_exp = [], []\n",
    "    total_obs = sum(dict_obs.values())\n",
    "    total_exp = sum(dict_exp.values())\n",
    "    for key in dict_obs.keys():\n",
    "        list_obs.append(dict_obs[key])\n",
    "        list_exp.append(dict_exp[key])\n",
    "    chi_test = chisquare(f_obs=list_obs, f_exp=list_exp)\n",
    "    print(chi_test)\n",
    "    \n",
    "def create_binary_dict(df, col):\n",
    "    d = {}\n",
    "    d['No'] = len(df[df[col] == 0])\n",
    "    d['Yes'] = len(df[df[col] == 1])\n",
    "    return d"
   ]
  },
  {
   "cell_type": "code",
   "execution_count": 4,
   "metadata": {},
   "outputs": [],
   "source": [
    "dfpb = pd.read_table('data/proteins-final.csv', sep=',', dtype={'Patient-ID':str})\n",
    "dfpb = add_suffix_to_column_names(dfpb, SUFFIX)\n",
    "dfmb = pd.read_table('data/metabolites-final.csv', sep=',', dtype={'Patient-ID':str})\n",
    "dfmb.replace(0, np.nan, inplace=True)\n",
    "dfmirna = pd.read_table('data/mirna-final.csv', sep=',', dtype={'Patient-ID':str})\n",
    "dfmirna.replace(0, np.nan, inplace=True)\n",
    "dftb = pd.read_table('data/transcripts-final.csv', sep=',', dtype={'Patient-ID':str})\n",
    "dftb.replace(0, np.nan, inplace=True)\n",
    "\n",
    "dfp_analyte = pd.read_table('data/protein-meta-final.csv', sep=',')\n",
    "dfm_analyte = pd.read_table('data/metabolites-meta-final.csv', sep=',')\n",
    "dfmirna_analyte = pd.read_table('data/mirna-meta-final.csv', sep=',')\n",
    "dft_analyte = pd.read_table('data/transcripts-meta-final.csv', sep=',')\n",
    "\n",
    "df_clinical = pd.read_table('data/metadata-final.csv', sep=',', dtype={'Patient-ID':str})\n",
    "df_clinical = df_clinical[df_clinical['Condition']!='Control PTD']\n",
    "df_clinical_female = df_clinical[df_clinical['InfSex']==0]\n",
    "df_clinical_male = df_clinical[df_clinical['InfSex']==1]"
   ]
  },
  {
   "cell_type": "code",
   "execution_count": 5,
   "metadata": {},
   "outputs": [
    {
     "data": {
      "text/plain": [
       "((341, 1033),\n",
       " (318, 2416),\n",
       " (343, 461),\n",
       " (318, 52084),\n",
       " (333, 24),\n",
       " (163, 24),\n",
       " (165, 24))"
      ]
     },
     "execution_count": 5,
     "metadata": {},
     "output_type": "execute_result"
    }
   ],
   "source": [
    "dfmb.shape, dfmirna.shape, dfpb.shape, dftb.shape, df_clinical.shape, df_clinical_female.shape, df_clinical_male.shape"
   ]
  },
  {
   "cell_type": "markdown",
   "metadata": {},
   "source": [
    "# Set up annotations"
   ]
  },
  {
   "cell_type": "code",
   "execution_count": 6,
   "metadata": {},
   "outputs": [
    {
     "name": "stderr",
     "output_type": "stream",
     "text": [
      "/shared-libs/arivale-data-interface/pylib/arivale_data_interface/snapshots_interface.py:122: FutureWarning: The default value of regex will change from True to False in a future version.\n",
      "  t = pandas.to_datetime(x.str.replace(\"^arivale_snapshot.*(\\\\d{4}-\\\\d{2}-\\\\d{2}_\\\\d{4})$\", \"\\\\1\"), format=\"%Y-%m-%d_%H%M\")\n",
      "/shared-libs/arivale-data-interface/pylib/arivale_data_interface/snapshots_interface.py:227: FutureWarning: The default value of regex will change from True to False in a future version.\n",
      "  colnames = hdr.loc[~hdr.str.contains(\"^#\")].head(1).str.replace(\"\\n$\",\"\")\n",
      "/shared-libs/arivale-data-interface/pylib/arivale_data_interface/snapshots_interface.py:232: FutureWarning: The default value of regex will change from True to False in a future version.\n",
      "  hdr = hdr.loc[hdr.str.contains(\"^#\")].str.replace(\"\\n$\",\"\")\n",
      "/shared-libs/arivale-data-interface/pylib/arivale_data_interface/snapshots_interface.py:174: FutureWarning: The default value of regex will change from True to False in a future version.\n",
      "  fields = hdr.str.replace(\"^# [^:]+: *(.*)$\",r\"\\1\")\n",
      "/shared-libs/arivale-data-interface/pylib/arivale_data_interface/snapshots_interface.py:175: FutureWarning: The default value of regex will change from True to False in a future version.\n",
      "  fields.index = hdr.str.replace(\"^# ([^:]+):.*$\",r\"\\1\")\n",
      "/shared-libs/arivale-data-interface/pylib/arivale_data_interface/snapshots_interface.py:171: FutureWarning: The default value of regex will change from True to False in a future version.\n",
      "  return \"\\n\".join(list(hdr.loc[hdr.index >= i].str.replace(\"^# \",\"\")))\n"
     ]
    },
    {
     "name": "stdout",
     "output_type": "stream",
     "text": [
      "Metabolites: 1032\n",
      "MiRNAs: 2414\n",
      "Proteins: 452\n",
      "Transcripts: 51174\n",
      "Total: 52658\n"
     ]
    }
   ],
   "source": [
    "metam = get_snapshot('metabolomics_metadata')\n",
    "metam['CHEMICAL_ID'] = metam['CHEMICAL_ID'].astype(str)\n",
    "metap = get_snapshot('proteomics_metadata')\n",
    "\n",
    "metabolites = {}\n",
    "for index, row in dfm_analyte.iterrows():\n",
    "    metabolites[row['CHEMICAL_NAME']] = {'name': row['CHEMICAL_NAME'], 'sub_group': row['SUB_PATHWAY'], 'super_group': row['SUPER_PATHWAY']}\n",
    "proteins = {}\n",
    "for index, row in dfp_analyte.iterrows():\n",
    "    proteins[row['Assay'] + SUFFIX] = {'name': row['Assay'], 'sub_group': None, 'super_group': row['Panel']}\n",
    "miRNAs = {}\n",
    "for index, row in dfmirna_analyte.iterrows():\n",
    "    miRNAs[row['Transcript']] = {'name': row['Transcript'], 'sub_group': None, 'super_group': None}\n",
    "transcripts = {}\n",
    "for index, row in dft_analyte.iterrows():\n",
    "    transcripts[row['Transcript']] = {'name': row['Transcript'], 'sub_group': None, 'super_group': None}\n",
    "    \n",
    "# print the number of included analytes\n",
    "print('Metabolites:', str(len(metabolites)))\n",
    "print('MiRNAs:', str(len(miRNAs)))\n",
    "print('Proteins:', str(len(proteins)))\n",
    "print('Transcripts:', str(len(transcripts)))\n",
    "print('Total:', str(len(metabolites)+len(proteins)+len(transcripts)))"
   ]
  },
  {
   "cell_type": "code",
   "execution_count": 7,
   "metadata": {},
   "outputs": [
    {
     "name": "stdout",
     "output_type": "stream",
     "text": [
      "# Metabolites: 865\n",
      "# MiRNAs: 448\n",
      "# Proteins: 343\n",
      "# Transcripts: 9582\n",
      "# Total: 11238\n"
     ]
    }
   ],
   "source": [
    "# Drop missingness and non-varying values\n",
    "thresh_missingness = 0.8\n",
    "thresh_unique = 0.5\n",
    "thresh_mirna_read_counts = 10\n",
    "thresh_rna_read_counts = 500\n",
    "\n",
    "minNonNA = dfmb.shape[0] * thresh_missingness\n",
    "dfmb.dropna(thresh=minNonNA, axis=1, inplace=True)\n",
    "minUnique = dfmb.nunique()/len(dfmb)\n",
    "col_drop = minUnique[minUnique < thresh_unique].index\n",
    "dfmb.drop(columns=col_drop, inplace=True)\n",
    "\n",
    "minNonNA = dfmirna.shape[0] * thresh_missingness\n",
    "dfmirna.dropna(thresh=minNonNA, axis=1, inplace=True)\n",
    "minUnique = dfmirna.nunique()/len(dfmirna)\n",
    "col_drop = minUnique[minUnique < thresh_unique].index\n",
    "dfmirna.drop(columns=col_drop, inplace=True)\n",
    "col_sums = dfmirna.sum()\n",
    "col_sums.drop(col_sums.index[1], inplace=True)\n",
    "col_drop = col_sums[col_sums < thresh_mirna_read_counts].index\n",
    "dfmirna.drop(columns=col_drop, inplace=True)\n",
    "\n",
    "minNonNA = dfpb.shape[0] * thresh_missingness\n",
    "dfpb.dropna(thresh=minNonNA, axis=1, inplace=True)\n",
    "minUnique = dfpb.nunique()/len(dfpb)\n",
    "col_drop = minUnique[minUnique < thresh_unique].index\n",
    "dfpb.drop(columns=col_drop, inplace=True)\n",
    "\n",
    "minNonNA = dftb.shape[0] * thresh_missingness\n",
    "dftb.dropna(thresh=minNonNA, axis=1, inplace=True)\n",
    "minUnique = dftb.nunique()/len(dftb)\n",
    "col_drop = minUnique[minUnique < thresh_unique].index\n",
    "dftb.drop(columns=col_drop, inplace=True)\n",
    "col_sums = dftb.sum()\n",
    "col_sums.drop(col_sums.index[1], inplace=True)\n",
    "col_drop = col_sums[col_sums < thresh_rna_read_counts].index\n",
    "dftb.drop(columns=col_drop, inplace=True)\n",
    "\n",
    "dfm_analyte = list(set(metabolites.keys()).intersection(dfmb.columns))\n",
    "dfmirna_analyte = list(set(miRNAs.keys()).intersection(dfmirna.columns))\n",
    "dfp_analyte = list(set(proteins.keys()).intersection(dfpb.columns))\n",
    "dft_analyte = list(set(transcripts.keys()).intersection(dftb.columns))\n",
    "\n",
    "# Get all analytes together\n",
    "analytes = dfm_analyte + dfmirna_analyte + dfp_analyte + dft_analyte\n",
    "\n",
    "# print the number of included analytes that pass missingness threshold\n",
    "print('# Metabolites:', str(len(dfm_analyte)))\n",
    "print('# MiRNAs:', str(len(dfmirna_analyte)))\n",
    "print('# Proteins:', str(len(dfp_analyte)))\n",
    "print('# Transcripts:', str(len(dft_analyte)))\n",
    "print('# Total:', str(len(analytes)))\n",
    "\n",
    "\n",
    "# without 50% uniqueness threshold\n",
    "# Metabolites: 865\n",
    "# MiRNAs: 826\n",
    "# Proteins: 343\n",
    "# Transcripts: 23810\n",
    "# Total: 25844\n",
    "\n",
    "# with at least 25% uniqueness threshold\n",
    "# Metabolites: 865\n",
    "# MiRNAs: 619\n",
    "# Proteins: 343\n",
    "# Transcripts: 13424\n",
    "# Total: 15251\n",
    "\n",
    "# with at least 50% uniqueness threshold\n",
    "# Metabolites: 865\n",
    "# MiRNAs: 448\n",
    "# Proteins: 343\n",
    "# Transcripts: 9582\n",
    "# Total: 11238"
   ]
  },
  {
   "cell_type": "code",
   "execution_count": 8,
   "metadata": {},
   "outputs": [
    {
     "data": {
      "text/html": [
       "<div>\n",
       "<style scoped>\n",
       "    .dataframe tbody tr th:only-of-type {\n",
       "        vertical-align: middle;\n",
       "    }\n",
       "\n",
       "    .dataframe tbody tr th {\n",
       "        vertical-align: top;\n",
       "    }\n",
       "\n",
       "    .dataframe thead th {\n",
       "        text-align: right;\n",
       "    }\n",
       "</style>\n",
       "<table border=\"1\" class=\"dataframe\">\n",
       "  <thead>\n",
       "    <tr style=\"text-align: right;\">\n",
       "      <th></th>\n",
       "      <th>Patient-ID</th>\n",
       "      <th>Condition</th>\n",
       "      <th>LaborInitiation</th>\n",
       "      <th>MaternalAge</th>\n",
       "      <th>isAsian</th>\n",
       "      <th>isBlack</th>\n",
       "      <th>isNativeAmerican</th>\n",
       "      <th>isPacificIslander</th>\n",
       "      <th>isWhite</th>\n",
       "      <th>RaceMissing</th>\n",
       "      <th>...</th>\n",
       "      <th>Para</th>\n",
       "      <th>LaborOnset</th>\n",
       "      <th>Smoker</th>\n",
       "      <th>IllicitDrugUser</th>\n",
       "      <th>DeliveryMethod</th>\n",
       "      <th>PregnancyRelatedHypertension</th>\n",
       "      <th>FetalGrowthRestriction</th>\n",
       "      <th>Preeclampsia</th>\n",
       "      <th>InfSex</th>\n",
       "      <th>Birthweight</th>\n",
       "    </tr>\n",
       "  </thead>\n",
       "  <tbody>\n",
       "    <tr>\n",
       "      <th>0</th>\n",
       "      <td>KH-1100</td>\n",
       "      <td>PTD</td>\n",
       "      <td>1</td>\n",
       "      <td>42.0</td>\n",
       "      <td>0.0</td>\n",
       "      <td>0.0</td>\n",
       "      <td>0.0</td>\n",
       "      <td>0.0</td>\n",
       "      <td>1.0</td>\n",
       "      <td>0.0</td>\n",
       "      <td>...</td>\n",
       "      <td>1.0</td>\n",
       "      <td>0.0</td>\n",
       "      <td>0.0</td>\n",
       "      <td>0.0</td>\n",
       "      <td>1.0</td>\n",
       "      <td>0</td>\n",
       "      <td>0</td>\n",
       "      <td>0</td>\n",
       "      <td>0.0</td>\n",
       "      <td>2250.0</td>\n",
       "    </tr>\n",
       "    <tr>\n",
       "      <th>1</th>\n",
       "      <td>KH-1103</td>\n",
       "      <td>PTD</td>\n",
       "      <td>1</td>\n",
       "      <td>32.0</td>\n",
       "      <td>0.0</td>\n",
       "      <td>0.0</td>\n",
       "      <td>0.0</td>\n",
       "      <td>0.0</td>\n",
       "      <td>1.0</td>\n",
       "      <td>0.0</td>\n",
       "      <td>...</td>\n",
       "      <td>1.0</td>\n",
       "      <td>0.0</td>\n",
       "      <td>0.0</td>\n",
       "      <td>0.0</td>\n",
       "      <td>0.0</td>\n",
       "      <td>0</td>\n",
       "      <td>0</td>\n",
       "      <td>0</td>\n",
       "      <td>1.0</td>\n",
       "      <td>3060.0</td>\n",
       "    </tr>\n",
       "    <tr>\n",
       "      <th>2</th>\n",
       "      <td>KH-1132</td>\n",
       "      <td>Severe PE</td>\n",
       "      <td>0</td>\n",
       "      <td>31.0</td>\n",
       "      <td>1.0</td>\n",
       "      <td>0.0</td>\n",
       "      <td>0.0</td>\n",
       "      <td>0.0</td>\n",
       "      <td>0.0</td>\n",
       "      <td>0.0</td>\n",
       "      <td>...</td>\n",
       "      <td>0.0</td>\n",
       "      <td>0.0</td>\n",
       "      <td>0.0</td>\n",
       "      <td>0.0</td>\n",
       "      <td>0.0</td>\n",
       "      <td>1</td>\n",
       "      <td>0</td>\n",
       "      <td>1</td>\n",
       "      <td>1.0</td>\n",
       "      <td>3490.0</td>\n",
       "    </tr>\n",
       "    <tr>\n",
       "      <th>3</th>\n",
       "      <td>KH-1149</td>\n",
       "      <td>Severe PE</td>\n",
       "      <td>0</td>\n",
       "      <td>29.0</td>\n",
       "      <td>0.0</td>\n",
       "      <td>0.0</td>\n",
       "      <td>1.0</td>\n",
       "      <td>0.0</td>\n",
       "      <td>0.0</td>\n",
       "      <td>0.0</td>\n",
       "      <td>...</td>\n",
       "      <td>1.0</td>\n",
       "      <td>1.0</td>\n",
       "      <td>0.0</td>\n",
       "      <td>1.0</td>\n",
       "      <td>0.0</td>\n",
       "      <td>1</td>\n",
       "      <td>0</td>\n",
       "      <td>1</td>\n",
       "      <td>0.0</td>\n",
       "      <td>1545.0</td>\n",
       "    </tr>\n",
       "    <tr>\n",
       "      <th>4</th>\n",
       "      <td>MJ-0006</td>\n",
       "      <td>FGR</td>\n",
       "      <td>0</td>\n",
       "      <td>32.0</td>\n",
       "      <td>0.0</td>\n",
       "      <td>0.0</td>\n",
       "      <td>0.0</td>\n",
       "      <td>0.0</td>\n",
       "      <td>1.0</td>\n",
       "      <td>0.0</td>\n",
       "      <td>...</td>\n",
       "      <td>0.0</td>\n",
       "      <td>1.0</td>\n",
       "      <td>0.0</td>\n",
       "      <td>0.0</td>\n",
       "      <td>0.0</td>\n",
       "      <td>0</td>\n",
       "      <td>1</td>\n",
       "      <td>0</td>\n",
       "      <td>1.0</td>\n",
       "      <td>2295.0</td>\n",
       "    </tr>\n",
       "  </tbody>\n",
       "</table>\n",
       "<p>5 rows × 24 columns</p>\n",
       "</div>"
      ],
      "text/plain": [
       "  Patient-ID  Condition  LaborInitiation  MaternalAge  isAsian  isBlack  \\\n",
       "0    KH-1100        PTD                1         42.0      0.0      0.0   \n",
       "1    KH-1103        PTD                1         32.0      0.0      0.0   \n",
       "2    KH-1132  Severe PE                0         31.0      1.0      0.0   \n",
       "3    KH-1149  Severe PE                0         29.0      0.0      0.0   \n",
       "4    MJ-0006        FGR                0         32.0      0.0      0.0   \n",
       "\n",
       "   isNativeAmerican  isPacificIslander  isWhite  RaceMissing  ...  Para  \\\n",
       "0               0.0                0.0      1.0          0.0  ...   1.0   \n",
       "1               0.0                0.0      1.0          0.0  ...   1.0   \n",
       "2               0.0                0.0      0.0          0.0  ...   0.0   \n",
       "3               1.0                0.0      0.0          0.0  ...   1.0   \n",
       "4               0.0                0.0      1.0          0.0  ...   0.0   \n",
       "\n",
       "   LaborOnset  Smoker  IllicitDrugUser  DeliveryMethod  \\\n",
       "0         0.0     0.0              0.0             1.0   \n",
       "1         0.0     0.0              0.0             0.0   \n",
       "2         0.0     0.0              0.0             0.0   \n",
       "3         1.0     0.0              1.0             0.0   \n",
       "4         1.0     0.0              0.0             0.0   \n",
       "\n",
       "   PregnancyRelatedHypertension  FetalGrowthRestriction  Preeclampsia  InfSex  \\\n",
       "0                             0                       0             0     0.0   \n",
       "1                             0                       0             0     1.0   \n",
       "2                             1                       0             1     1.0   \n",
       "3                             1                       0             1     0.0   \n",
       "4                             0                       1             0     1.0   \n",
       "\n",
       "   Birthweight  \n",
       "0       2250.0  \n",
       "1       3060.0  \n",
       "2       3490.0  \n",
       "3       1545.0  \n",
       "4       2295.0  \n",
       "\n",
       "[5 rows x 24 columns]"
      ]
     },
     "execution_count": 8,
     "metadata": {},
     "output_type": "execute_result"
    }
   ],
   "source": [
    "df_clinical.head()"
   ]
  },
  {
   "cell_type": "code",
   "execution_count": 9,
   "metadata": {},
   "outputs": [],
   "source": [
    "df_female = df_clinical_female.merge(dfpb[['Patient-ID'] + list(dfp_analyte)], on=['Patient-ID'], how='inner')\n",
    "df_female = df_female.merge(dfmb[['Patient-ID'] + list(dfm_analyte)], on=['Patient-ID'], how='left')\n",
    "df_female = df_female.merge(dfmirna[['Patient-ID'] + list(dfmirna_analyte)], on=['Patient-ID'], how='left')\n",
    "df_female = df_female.merge(dftb[['Patient-ID'] + list(dft_analyte)], on=['Patient-ID'], how='left')\n",
    "df_female = df_female.fillna(-1)\n",
    "\n",
    "df_male = df_clinical_male.merge(dfpb[['Patient-ID'] + list(dfp_analyte)], on=['Patient-ID'], how='inner')\n",
    "df_male = df_male.merge(dfmb[['Patient-ID'] + list(dfm_analyte)], on=['Patient-ID'], how='left')\n",
    "df_male = df_male.merge(dfmirna[['Patient-ID'] + list(dfmirna_analyte)], on=['Patient-ID'], how='left')\n",
    "df_male = df_male.merge(dftb[['Patient-ID'] + list(dft_analyte)], on=['Patient-ID'], how='left')\n",
    "df_male = df_male.fillna(-1)"
   ]
  },
  {
   "cell_type": "code",
   "execution_count": 10,
   "metadata": {},
   "outputs": [
    {
     "data": {
      "text/plain": [
       "((160, 11262), (161, 11262))"
      ]
     },
     "execution_count": 10,
     "metadata": {},
     "output_type": "execute_result"
    }
   ],
   "source": [
    "df_female.shape, df_male.shape"
   ]
  },
  {
   "cell_type": "code",
   "execution_count": 11,
   "metadata": {},
   "outputs": [
    {
     "name": "stdout",
     "output_type": "stream",
     "text": [
      "0\n",
      "24\n",
      "0\n",
      "24\n"
     ]
    }
   ],
   "source": [
    "# Check to be sure all analytes are there\n",
    "print(len(set(analytes).difference(df_female.columns)))\n",
    "print(len(set(df_female.columns).difference(analytes)))\n",
    "print(len(set(analytes).difference(df_male.columns)))\n",
    "print(len(set(df_male.columns).difference(analytes)))"
   ]
  },
  {
   "cell_type": "code",
   "execution_count": 12,
   "metadata": {},
   "outputs": [
    {
     "data": {
      "text/plain": [
       "Control      56\n",
       "Severe PE    40\n",
       "PTD          26\n",
       "FGR          20\n",
       "FGR+hyp      18\n",
       "Name: Condition, dtype: int64"
      ]
     },
     "execution_count": 12,
     "metadata": {},
     "output_type": "execute_result"
    }
   ],
   "source": [
    "df_female['Condition'].value_counts()"
   ]
  },
  {
   "cell_type": "code",
   "execution_count": 13,
   "metadata": {},
   "outputs": [
    {
     "data": {
      "text/plain": [
       "Control      57\n",
       "PTD          45\n",
       "Severe PE    31\n",
       "FGR          16\n",
       "FGR+hyp      12\n",
       "Name: Condition, dtype: int64"
      ]
     },
     "execution_count": 13,
     "metadata": {},
     "output_type": "execute_result"
    }
   ],
   "source": [
    "df_male['Condition'].value_counts()"
   ]
  },
  {
   "cell_type": "code",
   "execution_count": 14,
   "metadata": {},
   "outputs": [
    {
     "name": "stdout",
     "output_type": "stream",
     "text": [
      "Power_divergenceResult(statistic=14.652669307677797, pvalue=0.0054785691723951485)\n"
     ]
    }
   ],
   "source": [
    "calc_chi_square(df_female['Condition'].value_counts().to_dict(), df_male['Condition'].value_counts().to_dict())"
   ]
  },
  {
   "cell_type": "code",
   "execution_count": 15,
   "metadata": {},
   "outputs": [
    {
     "name": "stdout",
     "output_type": "stream",
     "text": [
      "{'Asian': 9, 'Black': 28, 'NativeAmerican': 2, 'White': 117, 'Missing': 4}\n"
     ]
    }
   ],
   "source": [
    "dict_race_female = {}\n",
    "dict_race_female['Asian'] = len(df_female[df_female['isAsian']==1.0])\n",
    "dict_race_female['Black'] = len(df_female[df_female['isBlack']==1.0])\n",
    "dict_race_female['NativeAmerican'] = len(df_female[df_female['isNativeAmerican']==1.0])\n",
    "# dict_race_female['PacificIslander'] = len(df_female[df_female['isPacificIslander']==1.0])\n",
    "dict_race_female['White'] = len(df_female[df_female['isWhite']==1.0])\n",
    "dict_race_female['Missing'] = len(df_female[df_female['RaceMissing']==1.0])\n",
    "print(dict_race_female)"
   ]
  },
  {
   "cell_type": "code",
   "execution_count": 16,
   "metadata": {},
   "outputs": [
    {
     "name": "stdout",
     "output_type": "stream",
     "text": [
      "{'Asian': 9, 'Black': 36, 'NativeAmerican': 3, 'White': 112, 'Missing': 1}\n"
     ]
    }
   ],
   "source": [
    "dict_race_male = {}\n",
    "dict_race_male['Asian'] = len(df_male[df_male['isAsian']==1.0])\n",
    "dict_race_male['Black'] = len(df_male[df_male['isBlack']==1.0])\n",
    "dict_race_male['NativeAmerican'] = len(df_male[df_male['isNativeAmerican']==1.0])\n",
    "# dict_race_male['PacificIslander'] = len(df_male[df_male['isPacificIslander']==1.0])\n",
    "dict_race_male['White'] = len(df_male[df_male['isWhite']==1.0])\n",
    "dict_race_male['Missing'] = len(df_male[df_male['RaceMissing']==1.0])\n",
    "print(dict_race_male)"
   ]
  },
  {
   "cell_type": "code",
   "execution_count": 17,
   "metadata": {},
   "outputs": [
    {
     "name": "stdout",
     "output_type": "stream",
     "text": [
      "Power_divergenceResult(statistic=11.334325396825397, pvalue=0.023052793783350813)\n"
     ]
    }
   ],
   "source": [
    "calc_chi_square(dict_race_female, dict_race_male)"
   ]
  },
  {
   "cell_type": "code",
   "execution_count": 18,
   "metadata": {},
   "outputs": [
    {
     "data": {
      "text/plain": [
       " 0.0    133\n",
       "-1.0     25\n",
       " 1.0      2\n",
       "Name: Ethnicity, dtype: int64"
      ]
     },
     "execution_count": 18,
     "metadata": {},
     "output_type": "execute_result"
    }
   ],
   "source": [
    "df_female['Ethnicity'].value_counts()"
   ]
  },
  {
   "cell_type": "code",
   "execution_count": 19,
   "metadata": {},
   "outputs": [
    {
     "data": {
      "text/plain": [
       " 0.0    135\n",
       "-1.0     24\n",
       " 1.0      2\n",
       "Name: Ethnicity, dtype: int64"
      ]
     },
     "execution_count": 19,
     "metadata": {},
     "output_type": "execute_result"
    }
   ],
   "source": [
    "df_male['Ethnicity'].value_counts()"
   ]
  },
  {
   "cell_type": "code",
   "execution_count": 20,
   "metadata": {},
   "outputs": [
    {
     "name": "stdout",
     "output_type": "stream",
     "text": [
      "{'Hispanic': 2, 'Not Hispanic': 133, 'Missing': 25}\n"
     ]
    }
   ],
   "source": [
    "dict_hispanic_female = {}\n",
    "dict_hispanic_female['Hispanic'] = len(df_female[df_female['Ethnicity']==1.0])\n",
    "dict_hispanic_female['Not Hispanic'] = len(df_female[df_female['Ethnicity']==0.0])\n",
    "dict_hispanic_female['Missing'] = len(df_female[df_female['Ethnicity']==-1.0])\n",
    "print(dict_hispanic_female)"
   ]
  },
  {
   "cell_type": "code",
   "execution_count": 21,
   "metadata": {},
   "outputs": [
    {
     "name": "stdout",
     "output_type": "stream",
     "text": [
      "{'Hispanic': 2, 'Not Hispanic': 135, 'Missing': 24}\n"
     ]
    }
   ],
   "source": [
    "dict_hispanic_male = {}\n",
    "dict_hispanic_male['Hispanic'] = len(df_male[df_male['Ethnicity']==1.0])\n",
    "dict_hispanic_male['Not Hispanic'] = len(df_male[df_male['Ethnicity']==0.0])\n",
    "dict_hispanic_male['Missing'] = len(df_male[df_male['Ethnicity']==-1.0])\n",
    "print(dict_hispanic_male)"
   ]
  },
  {
   "cell_type": "code",
   "execution_count": 22,
   "metadata": {},
   "outputs": [
    {
     "name": "stdout",
     "output_type": "stream",
     "text": [
      "Power_divergenceResult(statistic=0.0712962962962963, pvalue=0.9649797636748616)\n"
     ]
    }
   ],
   "source": [
    "calc_chi_square(dict_hispanic_female, dict_hispanic_male)"
   ]
  },
  {
   "cell_type": "code",
   "execution_count": 23,
   "metadata": {},
   "outputs": [
    {
     "data": {
      "text/plain": [
       "0.0    139\n",
       "1.0     21\n",
       "Name: Smoker, dtype: int64"
      ]
     },
     "execution_count": 23,
     "metadata": {},
     "output_type": "execute_result"
    }
   ],
   "source": [
    "df_female.loc[df_female['Smoker'] == -1, 'Smoker'] = 0\n",
    "df_female['Smoker'].value_counts()"
   ]
  },
  {
   "cell_type": "code",
   "execution_count": 24,
   "metadata": {},
   "outputs": [
    {
     "data": {
      "text/plain": [
       "0.0    138\n",
       "1.0     23\n",
       "Name: Smoker, dtype: int64"
      ]
     },
     "execution_count": 24,
     "metadata": {},
     "output_type": "execute_result"
    }
   ],
   "source": [
    "df_male.loc[df_male['Smoker'] == -1, 'Smoker'] = 0\n",
    "df_male['Smoker'].value_counts()"
   ]
  },
  {
   "cell_type": "code",
   "execution_count": 25,
   "metadata": {},
   "outputs": [
    {
     "data": {
      "text/plain": [
       "(2.8705882352941177, 0.08633192523780854)"
      ]
     },
     "execution_count": 25,
     "metadata": {},
     "output_type": "execute_result"
    }
   ],
   "source": [
    "# Combine the two outcome columns into a single DataFrame\n",
    "combined_df = pd.concat([df_female['Smoker'], df_male['Smoker']], axis=1)\n",
    "\n",
    "# Rename the columns to 'outcome_x' and 'outcome_y'\n",
    "combined_df.columns = ['outcome_x', 'outcome_y']\n",
    "\n",
    "# Create the 2x2 contingency table using pd.crosstab()\n",
    "contingency_table = pd.crosstab(combined_df['outcome_x'], combined_df['outcome_y'])\n",
    "\n",
    "# Run Fisher's Exact Test\n",
    "scipy.stats.fisher_exact(contingency_table)"
   ]
  },
  {
   "cell_type": "code",
   "execution_count": 26,
   "metadata": {},
   "outputs": [
    {
     "name": "stdout",
     "output_type": "stream",
     "text": [
      "Power_divergenceResult(statistic=0.18115942028985507, pvalue=0.6703787406647558)\n"
     ]
    }
   ],
   "source": [
    "dict_female = create_binary_dict(df_female, 'Smoker')\n",
    "dict_male = create_binary_dict(df_male, 'Smoker')\n",
    "calc_chi_square(dict_female, dict_male)"
   ]
  },
  {
   "cell_type": "code",
   "execution_count": 27,
   "metadata": {},
   "outputs": [
    {
     "data": {
      "text/plain": [
       "0.0    137\n",
       "1.0     23\n",
       "Name: IllicitDrugUser, dtype: int64"
      ]
     },
     "execution_count": 27,
     "metadata": {},
     "output_type": "execute_result"
    }
   ],
   "source": [
    "df_female.loc[df_female['IllicitDrugUser'] == -1, 'IllicitDrugUser'] = 0\n",
    "df_female['IllicitDrugUser'].value_counts()"
   ]
  },
  {
   "cell_type": "code",
   "execution_count": 28,
   "metadata": {},
   "outputs": [
    {
     "data": {
      "text/plain": [
       "0.0    138\n",
       "1.0     23\n",
       "Name: IllicitDrugUser, dtype: int64"
      ]
     },
     "execution_count": 28,
     "metadata": {},
     "output_type": "execute_result"
    }
   ],
   "source": [
    "df_male.loc[df_male['IllicitDrugUser'] == -1, 'IllicitDrugUser'] = 0\n",
    "df_male['IllicitDrugUser'].value_counts()"
   ]
  },
  {
   "cell_type": "code",
   "execution_count": 29,
   "metadata": {},
   "outputs": [
    {
     "data": {
      "text/plain": [
       "(0.5260770975056689, 0.5332341022873762)"
      ]
     },
     "execution_count": 29,
     "metadata": {},
     "output_type": "execute_result"
    }
   ],
   "source": [
    "# Combine the two outcome columns into a single DataFrame\n",
    "combined_df = pd.concat([df_female['IllicitDrugUser'], df_male['IllicitDrugUser']], axis=1)\n",
    "\n",
    "# Rename the columns to 'outcome_x' and 'outcome_y'\n",
    "combined_df.columns = ['outcome_x', 'outcome_y']\n",
    "\n",
    "# Create the 2x2 contingency table using pd.crosstab()\n",
    "contingency_table = pd.crosstab(combined_df['outcome_x'], combined_df['outcome_y'])\n",
    "\n",
    "# Run Fisher's Exact Test\n",
    "scipy.stats.fisher_exact(contingency_table)"
   ]
  },
  {
   "cell_type": "code",
   "execution_count": 30,
   "metadata": {},
   "outputs": [
    {
     "name": "stdout",
     "output_type": "stream",
     "text": [
      "Power_divergenceResult(statistic=0.007246376811594203, pvalue=0.9321614961189602)\n"
     ]
    }
   ],
   "source": [
    "dict_female = create_binary_dict(df_female, 'IllicitDrugUser')\n",
    "dict_male = create_binary_dict(df_male, 'IllicitDrugUser')\n",
    "calc_chi_square(dict_female, dict_male)"
   ]
  },
  {
   "cell_type": "code",
   "execution_count": 31,
   "metadata": {},
   "outputs": [
    {
     "data": {
      "text/plain": [
       "0.0    91\n",
       "1.0    69\n",
       "Name: DeliveryMethod, dtype: int64"
      ]
     },
     "execution_count": 31,
     "metadata": {},
     "output_type": "execute_result"
    }
   ],
   "source": [
    "df_female['DeliveryMethod'].value_counts()"
   ]
  },
  {
   "cell_type": "code",
   "execution_count": 32,
   "metadata": {},
   "outputs": [
    {
     "data": {
      "text/plain": [
       "0.0    103\n",
       "1.0     58\n",
       "Name: DeliveryMethod, dtype: int64"
      ]
     },
     "execution_count": 32,
     "metadata": {},
     "output_type": "execute_result"
    }
   ],
   "source": [
    "df_male['DeliveryMethod'].value_counts()"
   ]
  },
  {
   "cell_type": "code",
   "execution_count": 33,
   "metadata": {},
   "outputs": [
    {
     "data": {
      "text/plain": [
       "(2.2832432432432435, 0.019283609722082894)"
      ]
     },
     "execution_count": 33,
     "metadata": {},
     "output_type": "execute_result"
    }
   ],
   "source": [
    "# Combine the two outcome columns into a single DataFrame\n",
    "combined_df = pd.concat([df_female['DeliveryMethod'], df_male['DeliveryMethod']], axis=1)\n",
    "\n",
    "# Rename the columns to 'outcome_x' and 'outcome_y'\n",
    "combined_df.columns = ['outcome_x', 'outcome_y']\n",
    "\n",
    "# Create the 2x2 contingency table using pd.crosstab()\n",
    "contingency_table = pd.crosstab(combined_df['outcome_x'], combined_df['outcome_y'])\n",
    "\n",
    "# Run Fisher's Exact Test\n",
    "scipy.stats.fisher_exact(contingency_table)"
   ]
  },
  {
   "cell_type": "code",
   "execution_count": 34,
   "metadata": {},
   "outputs": [
    {
     "name": "stdout",
     "output_type": "stream",
     "text": [
      "Power_divergenceResult(statistic=3.484265148978909, pvalue=0.06195486261309223)\n"
     ]
    }
   ],
   "source": [
    "dict_female = create_binary_dict(df_female, 'DeliveryMethod')\n",
    "dict_male = create_binary_dict(df_male, 'DeliveryMethod')\n",
    "calc_chi_square(dict_female, dict_male)"
   ]
  },
  {
   "cell_type": "code",
   "execution_count": 35,
   "metadata": {},
   "outputs": [
    {
     "data": {
      "text/plain": [
       "0    122\n",
       "1     38\n",
       "Name: FetalGrowthRestriction, dtype: int64"
      ]
     },
     "execution_count": 35,
     "metadata": {},
     "output_type": "execute_result"
    }
   ],
   "source": [
    "df_female['FetalGrowthRestriction'].value_counts()"
   ]
  },
  {
   "cell_type": "code",
   "execution_count": 36,
   "metadata": {},
   "outputs": [
    {
     "data": {
      "text/plain": [
       "0    133\n",
       "1     28\n",
       "Name: FetalGrowthRestriction, dtype: int64"
      ]
     },
     "execution_count": 36,
     "metadata": {},
     "output_type": "execute_result"
    }
   ],
   "source": [
    "df_male['FetalGrowthRestriction'].value_counts()"
   ]
  },
  {
   "cell_type": "code",
   "execution_count": 37,
   "metadata": {},
   "outputs": [
    {
     "data": {
      "text/plain": [
       "(4.011428571428572, 0.002338112961419649)"
      ]
     },
     "execution_count": 37,
     "metadata": {},
     "output_type": "execute_result"
    }
   ],
   "source": [
    "# Combine the two outcome columns into a single DataFrame\n",
    "combined_df = pd.concat([df_female['FetalGrowthRestriction'], df_male['FetalGrowthRestriction']], axis=1)\n",
    "\n",
    "# Rename the columns to 'outcome_x' and 'outcome_y'\n",
    "combined_df.columns = ['outcome_x', 'outcome_y']\n",
    "\n",
    "# Create the 2x2 contingency table using pd.crosstab()\n",
    "contingency_table = pd.crosstab(combined_df['outcome_x'], combined_df['outcome_y'])\n",
    "\n",
    "# Run Fisher's Exact Test\n",
    "scipy.stats.fisher_exact(contingency_table)"
   ]
  },
  {
   "cell_type": "code",
   "execution_count": 38,
   "metadata": {},
   "outputs": [
    {
     "name": "stdout",
     "output_type": "stream",
     "text": [
      "Power_divergenceResult(statistic=4.481203007518797, pvalue=0.03426959088750154)\n"
     ]
    }
   ],
   "source": [
    "dict_female = create_binary_dict(df_female, 'FetalGrowthRestriction')\n",
    "dict_male = create_binary_dict(df_male, 'FetalGrowthRestriction')\n",
    "calc_chi_square(dict_female, dict_male)"
   ]
  },
  {
   "cell_type": "code",
   "execution_count": 39,
   "metadata": {},
   "outputs": [
    {
     "data": {
      "text/plain": [
       "0    99\n",
       "1    61\n",
       "Name: LaborInitiation, dtype: int64"
      ]
     },
     "execution_count": 39,
     "metadata": {},
     "output_type": "execute_result"
    }
   ],
   "source": [
    "df_female['LaborInitiation'].value_counts()"
   ]
  },
  {
   "cell_type": "code",
   "execution_count": 40,
   "metadata": {},
   "outputs": [
    {
     "data": {
      "text/plain": [
       "1    82\n",
       "0    79\n",
       "Name: LaborInitiation, dtype: int64"
      ]
     },
     "execution_count": 40,
     "metadata": {},
     "output_type": "execute_result"
    }
   ],
   "source": [
    "df_male['LaborInitiation'].value_counts()"
   ]
  },
  {
   "cell_type": "code",
   "execution_count": 41,
   "metadata": {},
   "outputs": [
    {
     "data": {
      "text/plain": [
       "(3.2605263157894737, 0.0005997258607554897)"
      ]
     },
     "execution_count": 41,
     "metadata": {},
     "output_type": "execute_result"
    }
   ],
   "source": [
    "# Combine the two outcome columns into a single DataFrame\n",
    "combined_df = pd.concat([df_female['LaborInitiation'], df_male['LaborInitiation']], axis=1)\n",
    "\n",
    "# Rename the columns to 'outcome_x' and 'outcome_y'\n",
    "combined_df.columns = ['outcome_x', 'outcome_y']\n",
    "\n",
    "# Create the 2x2 contingency table using pd.crosstab()\n",
    "contingency_table = pd.crosstab(combined_df['outcome_x'], combined_df['outcome_y'])\n",
    "\n",
    "# Run Fisher's Exact Test\n",
    "scipy.stats.fisher_exact(contingency_table)"
   ]
  },
  {
   "cell_type": "code",
   "execution_count": 42,
   "metadata": {},
   "outputs": [
    {
     "name": "stdout",
     "output_type": "stream",
     "text": [
      "Power_divergenceResult(statistic=10.44133991972831, pvalue=0.0012322584454996497)\n"
     ]
    }
   ],
   "source": [
    "dict_female = create_binary_dict(df_female, 'LaborInitiation')\n",
    "dict_male = create_binary_dict(df_male, 'LaborInitiation')\n",
    "calc_chi_square(dict_female, dict_male)"
   ]
  },
  {
   "cell_type": "code",
   "execution_count": 43,
   "metadata": {},
   "outputs": [
    {
     "data": {
      "text/plain": [
       " 1.0    86\n",
       " 0.0    61\n",
       " 2.0    12\n",
       "-1.0     1\n",
       "Name: Grav, dtype: int64"
      ]
     },
     "execution_count": 43,
     "metadata": {},
     "output_type": "execute_result"
    }
   ],
   "source": [
    "df_female['Grav'].value_counts()"
   ]
  },
  {
   "cell_type": "code",
   "execution_count": 44,
   "metadata": {},
   "outputs": [
    {
     "data": {
      "text/plain": [
       "1.0    80\n",
       "0.0    74\n",
       "2.0     7\n",
       "Name: Grav, dtype: int64"
      ]
     },
     "execution_count": 44,
     "metadata": {},
     "output_type": "execute_result"
    }
   ],
   "source": [
    "df_male['Grav'].value_counts()"
   ]
  },
  {
   "cell_type": "code",
   "execution_count": 45,
   "metadata": {},
   "outputs": [
    {
     "name": "stdout",
     "output_type": "stream",
     "text": [
      "{'Primagravidia': 62, 'Low Multigravidia': 86, 'Grand Multigravidia': 12}\n"
     ]
    }
   ],
   "source": [
    "dict_gravidity_female = {}\n",
    "dict_gravidity_female['Primagravidia'] = len(df_female[df_female['Grav']==0.0]) + 1\n",
    "dict_gravidity_female['Low Multigravidia'] = len(df_female[df_female['Grav']==1.0])\n",
    "dict_gravidity_female['Grand Multigravidia'] = len(df_female[df_female['Grav']==2.0])\n",
    "print(dict_gravidity_female)"
   ]
  },
  {
   "cell_type": "code",
   "execution_count": 46,
   "metadata": {},
   "outputs": [
    {
     "name": "stdout",
     "output_type": "stream",
     "text": [
      "{'Primagravidia': 74, 'Low Multigravidia': 80, 'Grand Multigravidia': 7}\n"
     ]
    }
   ],
   "source": [
    "dict_gravidity_male = {}\n",
    "dict_gravidity_male['Primagravidia'] = len(df_male[df_male['Grav']==0.0])\n",
    "dict_gravidity_male['Low Multigravidia'] = len(df_male[df_male['Grav']==1.0])\n",
    "dict_gravidity_male['Grand Multigravidia'] = len(df_male[df_male['Grav']==2.0])\n",
    "print(dict_gravidity_male)"
   ]
  },
  {
   "cell_type": "code",
   "execution_count": 47,
   "metadata": {},
   "outputs": [
    {
     "name": "stdout",
     "output_type": "stream",
     "text": [
      "Power_divergenceResult(statistic=5.967374517374518, pvalue=0.05060589240953501)\n"
     ]
    }
   ],
   "source": [
    "calc_chi_square(dict_gravidity_female, dict_gravidity_male)"
   ]
  },
  {
   "cell_type": "code",
   "execution_count": 48,
   "metadata": {},
   "outputs": [
    {
     "data": {
      "text/plain": [
       "1.0    83\n",
       "0.0    74\n",
       "2.0     3\n",
       "Name: Para, dtype: int64"
      ]
     },
     "execution_count": 48,
     "metadata": {},
     "output_type": "execute_result"
    }
   ],
   "source": [
    "df_female['Para'].value_counts()"
   ]
  },
  {
   "cell_type": "code",
   "execution_count": 49,
   "metadata": {},
   "outputs": [
    {
     "data": {
      "text/plain": [
       "0.0    91\n",
       "1.0    70\n",
       "Name: Para, dtype: int64"
      ]
     },
     "execution_count": 49,
     "metadata": {},
     "output_type": "execute_result"
    }
   ],
   "source": [
    "df_male['Para'].value_counts()"
   ]
  },
  {
   "cell_type": "code",
   "execution_count": 50,
   "metadata": {},
   "outputs": [
    {
     "name": "stdout",
     "output_type": "stream",
     "text": [
      "{'Nulliparity': 74, 'Low Multiparity': 83, 'Grand Multipara': 3}\n"
     ]
    }
   ],
   "source": [
    "dict_parity_female = {}\n",
    "dict_parity_female['Nulliparity'] = len(df_female[df_female['Para']==0.0])\n",
    "dict_parity_female['Low Multiparity'] = len(df_female[df_female['Para']==1.0])\n",
    "dict_parity_female['Grand Multipara'] = len(df_female[df_female['Para']==2.0])\n",
    "print(dict_parity_female)"
   ]
  },
  {
   "cell_type": "code",
   "execution_count": 51,
   "metadata": {},
   "outputs": [
    {
     "name": "stdout",
     "output_type": "stream",
     "text": [
      "{'Nulliparity': 91, 'Low Multiparity': 70, 'Grand Multipara': 0}\n"
     ]
    }
   ],
   "source": [
    "dict_parity_male = {}\n",
    "dict_parity_male['Nulliparity'] = len(df_male[df_male['Para']==0.0])\n",
    "dict_parity_male['Low Multiparity'] = len(df_male[df_male['Para']==1.0])\n",
    "dict_parity_male['Grand Multipara'] = len(df_male[df_male['Para']==2.0])\n",
    "print(dict_parity_male)"
   ]
  },
  {
   "cell_type": "code",
   "execution_count": 52,
   "metadata": {},
   "outputs": [
    {
     "name": "stdout",
     "output_type": "stream",
     "text": [
      "Power_divergenceResult(statistic=inf, pvalue=0.0)\n"
     ]
    },
    {
     "name": "stderr",
     "output_type": "stream",
     "text": [
      "/opt/conda/envs/arivale-py3/lib/python3.7/site-packages/scipy/stats/stats.py:5745: RuntimeWarning: divide by zero encountered in true_divide\n",
      "  terms = (f_obs - f_exp)**2 / f_exp\n"
     ]
    }
   ],
   "source": [
    "calc_chi_square(dict_parity_female, dict_parity_male)"
   ]
  },
  {
   "cell_type": "code",
   "execution_count": 53,
   "metadata": {},
   "outputs": [
    {
     "data": {
      "text/plain": [
       "0    104\n",
       "1     56\n",
       "Name: Preeclampsia, dtype: int64"
      ]
     },
     "execution_count": 53,
     "metadata": {},
     "output_type": "execute_result"
    }
   ],
   "source": [
    "df_female['Preeclampsia'].value_counts()"
   ]
  },
  {
   "cell_type": "code",
   "execution_count": 54,
   "metadata": {},
   "outputs": [
    {
     "data": {
      "text/plain": [
       "0    120\n",
       "1     41\n",
       "Name: Preeclampsia, dtype: int64"
      ]
     },
     "execution_count": 54,
     "metadata": {},
     "output_type": "execute_result"
    }
   ],
   "source": [
    "df_male['Preeclampsia'].value_counts()"
   ]
  },
  {
   "cell_type": "code",
   "execution_count": 55,
   "metadata": {},
   "outputs": [
    {
     "data": {
      "text/plain": [
       "(9.080808080808081, 2.24197851569311e-08)"
      ]
     },
     "execution_count": 55,
     "metadata": {},
     "output_type": "execute_result"
    }
   ],
   "source": [
    "# Combine the two outcome columns into a single DataFrame\n",
    "combined_df = pd.concat([df_female['Preeclampsia'], df_male['Preeclampsia']], axis=1)\n",
    "\n",
    "# Rename the columns to 'outcome_x' and 'outcome_y'\n",
    "combined_df.columns = ['outcome_x', 'outcome_y']\n",
    "\n",
    "# Create the 2x2 contingency table using pd.crosstab()\n",
    "contingency_table = pd.crosstab(combined_df['outcome_x'], combined_df['outcome_y'])\n",
    "\n",
    "# Run Fisher's Exact Test\n",
    "scipy.stats.fisher_exact(contingency_table)"
   ]
  },
  {
   "cell_type": "code",
   "execution_count": 56,
   "metadata": {},
   "outputs": [
    {
     "name": "stdout",
     "output_type": "stream",
     "text": [
      "Power_divergenceResult(statistic=7.621138211382114, pvalue=0.0057688066867221145)\n"
     ]
    }
   ],
   "source": [
    "dict_female = create_binary_dict(df_female, 'Preeclampsia')\n",
    "dict_male = create_binary_dict(df_male, 'Preeclampsia')\n",
    "calc_chi_square(dict_female, dict_male)"
   ]
  },
  {
   "cell_type": "code",
   "execution_count": 57,
   "metadata": {},
   "outputs": [
    {
     "data": {
      "text/plain": [
       "0    101\n",
       "1     59\n",
       "Name: PregnancyRelatedHypertension, dtype: int64"
      ]
     },
     "execution_count": 57,
     "metadata": {},
     "output_type": "execute_result"
    }
   ],
   "source": [
    "df_female['PregnancyRelatedHypertension'].value_counts()"
   ]
  },
  {
   "cell_type": "code",
   "execution_count": 58,
   "metadata": {},
   "outputs": [
    {
     "data": {
      "text/plain": [
       "0    117\n",
       "1     44\n",
       "Name: PregnancyRelatedHypertension, dtype: int64"
      ]
     },
     "execution_count": 58,
     "metadata": {},
     "output_type": "execute_result"
    }
   ],
   "source": [
    "df_male['PregnancyRelatedHypertension'].value_counts()"
   ]
  },
  {
   "cell_type": "code",
   "execution_count": 59,
   "metadata": {},
   "outputs": [
    {
     "data": {
      "text/plain": [
       "(9.696969696969697, 5.820898113677413e-09)"
      ]
     },
     "execution_count": 59,
     "metadata": {},
     "output_type": "execute_result"
    }
   ],
   "source": [
    "# Combine the two outcome columns into a single DataFrame\n",
    "combined_df = pd.concat([df_female['PregnancyRelatedHypertension'], df_male['PregnancyRelatedHypertension']], axis=1)\n",
    "\n",
    "# Rename the columns to 'outcome_x' and 'outcome_y'\n",
    "combined_df.columns = ['outcome_x', 'outcome_y']\n",
    "\n",
    "# Create the 2x2 contingency table using pd.crosstab()\n",
    "contingency_table = pd.crosstab(combined_df['outcome_x'], combined_df['outcome_y'])\n",
    "\n",
    "# Run Fisher's Exact Test\n",
    "scipy.stats.fisher_exact(contingency_table)"
   ]
  },
  {
   "cell_type": "code",
   "execution_count": 60,
   "metadata": {},
   "outputs": [
    {
     "name": "stdout",
     "output_type": "stream",
     "text": [
      "Power_divergenceResult(statistic=7.301670551670552, pvalue=0.00688905299012639)\n"
     ]
    }
   ],
   "source": [
    "dict_female = create_binary_dict(df_female, 'PregnancyRelatedHypertension')\n",
    "dict_male = create_binary_dict(df_male, 'PregnancyRelatedHypertension')\n",
    "calc_chi_square(dict_female, dict_male)"
   ]
  },
  {
   "cell_type": "code",
   "execution_count": 61,
   "metadata": {},
   "outputs": [
    {
     "name": "stdout",
     "output_type": "stream",
     "text": [
      "Median: 37.357142859999996\n",
      "IQR: 4.035714287499999\n"
     ]
    },
    {
     "data": {
      "text/plain": [
       "<AxesSubplot:>"
      ]
     },
     "execution_count": 61,
     "metadata": {},
     "output_type": "execute_result"
    },
    {
     "data": {
      "image/png": "[encoded data removed]",
      "text/plain": [
       "<Figure size 432x288 with 1 Axes>"
      ]
     },
     "metadata": {
      "needs_background": "light"
     },
     "output_type": "display_data"
    }
   ],
   "source": [
    "print('Median:', np.median(df_female['WksGest']))\n",
    "print('IQR:', scipy.stats.iqr(df_female['WksGest']))\n",
    "df_female['WksGest'].hist()"
   ]
  },
  {
   "cell_type": "code",
   "execution_count": 62,
   "metadata": {},
   "outputs": [
    {
     "name": "stdout",
     "output_type": "stream",
     "text": [
      "Median: 37.14285714\n",
      "IQR: 4.285714290000001\n"
     ]
    },
    {
     "data": {
      "text/plain": [
       "<AxesSubplot:>"
      ]
     },
     "execution_count": 62,
     "metadata": {},
     "output_type": "execute_result"
    },
    {
     "data": {
      "image/png": "[encoded data removed]",
      "text/plain": [
       "<Figure size 432x288 with 1 Axes>"
      ]
     },
     "metadata": {
      "needs_background": "light"
     },
     "output_type": "display_data"
    }
   ],
   "source": [
    "print('Median:', np.median(df_male['WksGest']))\n",
    "print('IQR:', scipy.stats.iqr(df_male['WksGest']))\n",
    "df_male['WksGest'].hist()"
   ]
  },
  {
   "cell_type": "code",
   "execution_count": 63,
   "metadata": {},
   "outputs": [
    {
     "data": {
      "text/plain": [
       "MannwhitneyuResult(statistic=13403.0, pvalue=0.5295664133187532)"
      ]
     },
     "execution_count": 63,
     "metadata": {},
     "output_type": "execute_result"
    }
   ],
   "source": [
    "scipy.stats.mannwhitneyu(df_female['WksGest'], df_male['WksGest'], alternative='two-sided')"
   ]
  },
  {
   "cell_type": "code",
   "execution_count": 64,
   "metadata": {},
   "outputs": [
    {
     "name": "stdout",
     "output_type": "stream",
     "text": [
      "Median: 30.0\n",
      "IQR: 8.0\n"
     ]
    },
    {
     "data": {
      "text/plain": [
       "<AxesSubplot:>"
      ]
     },
     "execution_count": 64,
     "metadata": {},
     "output_type": "execute_result"
    },
    {
     "data": {
      "image/png": "[encoded data removed]",
      "text/plain": [
       "<Figure size 432x288 with 1 Axes>"
      ]
     },
     "metadata": {
      "needs_background": "light"
     },
     "output_type": "display_data"
    }
   ],
   "source": [
    "print('Median:', np.median(df_female['MaternalAge']))\n",
    "print('IQR:', scipy.stats.iqr(df_female['MaternalAge']))\n",
    "df_female['MaternalAge'].hist()"
   ]
  },
  {
   "cell_type": "code",
   "execution_count": 65,
   "metadata": {},
   "outputs": [
    {
     "name": "stdout",
     "output_type": "stream",
     "text": [
      "Median: 30.0\n",
      "IQR: 8.0\n"
     ]
    },
    {
     "data": {
      "text/plain": [
       "<AxesSubplot:>"
      ]
     },
     "execution_count": 65,
     "metadata": {},
     "output_type": "execute_result"
    },
    {
     "data": {
      "image/png": "[encoded data removed]",
      "text/plain": [
       "<Figure size 432x288 with 1 Axes>"
      ]
     },
     "metadata": {
      "needs_background": "light"
     },
     "output_type": "display_data"
    }
   ],
   "source": [
    "print('Median:', np.median(df_male['MaternalAge']))\n",
    "print('IQR:', scipy.stats.iqr(df_male['MaternalAge']))\n",
    "df_male['MaternalAge'].hist()"
   ]
  },
  {
   "cell_type": "code",
   "execution_count": 66,
   "metadata": {},
   "outputs": [
    {
     "data": {
      "text/plain": [
       "MannwhitneyuResult(statistic=14075.0, pvalue=0.1501580705314405)"
      ]
     },
     "execution_count": 66,
     "metadata": {},
     "output_type": "execute_result"
    }
   ],
   "source": [
    "scipy.stats.mannwhitneyu(df_female['MaternalAge'], df_male['MaternalAge'], alternative='two-sided')"
   ]
  },
  {
   "cell_type": "code",
   "execution_count": 67,
   "metadata": {},
   "outputs": [],
   "source": [
    "def median_impute_missing_data(df, feature):\n",
    "    n_missing = df.shape[0] - len(df[feature][df[feature] >= 0])\n",
    "    print('Number of missing values replaced by median imputation:', str(n_missing))\n",
    "    median = df[feature][df[feature] >= 0].median()\n",
    "    df[feature] = df[feature].fillna(median)\n",
    "    df[feature] = df[feature].replace(-1, median)\n",
    "    return df"
   ]
  },
  {
   "cell_type": "code",
   "execution_count": 68,
   "metadata": {},
   "outputs": [
    {
     "name": "stdout",
     "output_type": "stream",
     "text": [
      "Number of missing values replaced by median imputation: 6\n",
      "Median: 26.785221231395475\n",
      "IQR: 7.465511319152032\n"
     ]
    },
    {
     "data": {
      "text/plain": [
       "<AxesSubplot:>"
      ]
     },
     "execution_count": 68,
     "metadata": {},
     "output_type": "execute_result"
    },
    {
     "data": {
      "image/png": "[encoded data removed]",
      "text/plain": [
       "<Figure size 432x288 with 1 Axes>"
      ]
     },
     "metadata": {
      "needs_background": "light"
     },
     "output_type": "display_data"
    }
   ],
   "source": [
    "df_female = median_impute_missing_data(df_female, 'PregravidBMI')\n",
    "print('Median:', np.median(df_female['PregravidBMI']))\n",
    "print('IQR:', scipy.stats.iqr(df_female['PregravidBMI']))\n",
    "df_female['PregravidBMI'].hist()"
   ]
  },
  {
   "cell_type": "code",
   "execution_count": 69,
   "metadata": {},
   "outputs": [
    {
     "name": "stdout",
     "output_type": "stream",
     "text": [
      "Number of missing values replaced by median imputation: 5\n",
      "Median: 24.47147627189867\n",
      "IQR: 6.34785027316839\n"
     ]
    },
    {
     "data": {
      "text/plain": [
       "<AxesSubplot:>"
      ]
     },
     "execution_count": 69,
     "metadata": {},
     "output_type": "execute_result"
    },
    {
     "data": {
      "image/png": "[encoded data removed]",
      "text/plain": [
       "<Figure size 432x288 with 1 Axes>"
      ]
     },
     "metadata": {
      "needs_background": "light"
     },
     "output_type": "display_data"
    }
   ],
   "source": [
    "df_male = median_impute_missing_data(df_male, 'PregravidBMI')\n",
    "print('Median:', np.median(df_male['PregravidBMI']))\n",
    "print('IQR:', scipy.stats.iqr(df_male['PregravidBMI']))\n",
    "df_male['PregravidBMI'].hist()"
   ]
  },
  {
   "cell_type": "code",
   "execution_count": 70,
   "metadata": {},
   "outputs": [
    {
     "data": {
      "text/plain": [
       "MannwhitneyuResult(statistic=15166.0, pvalue=0.005977817568741362)"
      ]
     },
     "execution_count": 70,
     "metadata": {},
     "output_type": "execute_result"
    }
   ],
   "source": [
    "scipy.stats.mannwhitneyu(df_female['PregravidBMI'], df_male['PregravidBMI'], alternative='two-sided')"
   ]
  },
  {
   "cell_type": "code",
   "execution_count": 71,
   "metadata": {},
   "outputs": [
    {
     "name": "stdout",
     "output_type": "stream",
     "text": [
      "Median: 2665.0\n",
      "IQR: 1188.75\n"
     ]
    },
    {
     "data": {
      "text/plain": [
       "<AxesSubplot:>"
      ]
     },
     "execution_count": 71,
     "metadata": {},
     "output_type": "execute_result"
    },
    {
     "data": {
      "image/png": "[encoded data removed]",
      "text/plain": [
       "<Figure size 432x288 with 1 Axes>"
      ]
     },
     "metadata": {
      "needs_background": "light"
     },
     "output_type": "display_data"
    }
   ],
   "source": [
    "print('Median:', np.median(df_female['Birthweight']))\n",
    "print('IQR:', scipy.stats.iqr(df_female['Birthweight']))\n",
    "df_female['Birthweight'].hist()"
   ]
  },
  {
   "cell_type": "code",
   "execution_count": 72,
   "metadata": {},
   "outputs": [
    {
     "name": "stdout",
     "output_type": "stream",
     "text": [
      "Median: 2800.0\n",
      "IQR: 1161.0\n"
     ]
    },
    {
     "data": {
      "text/plain": [
       "<AxesSubplot:>"
      ]
     },
     "execution_count": 72,
     "metadata": {},
     "output_type": "execute_result"
    },
    {
     "data": {
      "image/png": "[encoded data removed]",
      "text/plain": [
       "<Figure size 432x288 with 1 Axes>"
      ]
     },
     "metadata": {
      "needs_background": "light"
     },
     "output_type": "display_data"
    }
   ],
   "source": [
    "print('Median:', np.median(df_male['Birthweight']))\n",
    "print('IQR:', scipy.stats.iqr(df_male['Birthweight']))\n",
    "df_male['Birthweight'].hist()"
   ]
  },
  {
   "cell_type": "code",
   "execution_count": 73,
   "metadata": {},
   "outputs": [
    {
     "data": {
      "text/plain": [
       "MannwhitneyuResult(statistic=12052.5, pvalue=0.3198750858739373)"
      ]
     },
     "execution_count": 73,
     "metadata": {},
     "output_type": "execute_result"
    }
   ],
   "source": [
    "scipy.stats.mannwhitneyu(df_female['Birthweight'], df_male['Birthweight'], alternative='two-sided')"
   ]
  },
  {
   "cell_type": "markdown",
   "metadata": {},
   "source": [
    "# Adjust values for ordinary least squares model"
   ]
  },
  {
   "cell_type": "code",
   "execution_count": 74,
   "metadata": {},
   "outputs": [],
   "source": [
    "df_female['WksGestSquared'] = df_female['WksGest'] ** 2\n",
    "df_female['MaternalAgeSquared'] = df_female['MaternalAge'] ** 2\n",
    "df_female['PregravidBMISquared'] = df_female['PregravidBMI'] ** 2\n",
    "\n",
    "df_male['WksGestSquared'] = df_male['WksGest'] ** 2\n",
    "df_male['MaternalAgeSquared'] = df_male['MaternalAge'] ** 2\n",
    "df_male['PregravidBMISquared'] = df_male['PregravidBMI'] ** 2"
   ]
  },
  {
   "cell_type": "markdown",
   "metadata": {},
   "source": [
    "# Evaluate Correlation Matrix of Variables"
   ]
  },
  {
   "cell_type": "code",
   "execution_count": 75,
   "metadata": {},
   "outputs": [
    {
     "name": "stdout",
     "output_type": "stream",
     "text": [
      "                      WksGest  WksGestSquared  MaternalAge  \\\n",
      "WksGest              1.000000        0.997499     0.153611   \n",
      "WksGestSquared       0.997499        1.000000     0.153448   \n",
      "MaternalAge          0.153611        0.153448     1.000000   \n",
      "MaternalAgeSquared   0.142142        0.140866     0.992931   \n",
      "PregravidBMI        -0.143199       -0.150667    -0.132378   \n",
      "PregravidBMISquared -0.144283       -0.151689    -0.133656   \n",
      "DeliveryMethod      -0.204338       -0.198471    -0.083980   \n",
      "LaborInitiation      0.050883        0.051527     0.124607   \n",
      "Smoker               0.003837        0.000154    -0.086651   \n",
      "IllicitDrugUser     -0.002739       -0.008330     0.005704   \n",
      "\n",
      "                     MaternalAgeSquared  PregravidBMI  PregravidBMISquared  \\\n",
      "WksGest                        0.142142     -0.143199            -0.144283   \n",
      "WksGestSquared                 0.140866     -0.150667            -0.151689   \n",
      "MaternalAge                    0.992931     -0.132378            -0.133656   \n",
      "MaternalAgeSquared             1.000000     -0.125361            -0.128562   \n",
      "PregravidBMI                  -0.125361      1.000000             0.992063   \n",
      "PregravidBMISquared           -0.128562      0.992063             1.000000   \n",
      "DeliveryMethod                -0.055435      0.152759             0.156155   \n",
      "LaborInitiation                0.099868     -0.137371            -0.134891   \n",
      "Smoker                        -0.078202      0.040541             0.044762   \n",
      "IllicitDrugUser                0.005291     -0.017999            -0.012231   \n",
      "\n",
      "                     DeliveryMethod  LaborInitiation    Smoker  \\\n",
      "WksGest                   -0.204338         0.050883  0.003837   \n",
      "WksGestSquared            -0.198471         0.051527  0.000154   \n",
      "MaternalAge               -0.083980         0.124607 -0.086651   \n",
      "MaternalAgeSquared        -0.055435         0.099868 -0.078202   \n",
      "PregravidBMI               0.152759        -0.137371  0.040541   \n",
      "PregravidBMISquared        0.156155        -0.134891  0.044762   \n",
      "DeliveryMethod             1.000000        -0.293772 -0.002102   \n",
      "LaborInitiation           -0.293772         1.000000 -0.038347   \n",
      "Smoker                    -0.002102        -0.038347  1.000000   \n",
      "IllicitDrugUser           -0.069019         0.008482  0.684850   \n",
      "\n",
      "                     IllicitDrugUser  \n",
      "WksGest                    -0.002739  \n",
      "WksGestSquared             -0.008330  \n",
      "MaternalAge                 0.005704  \n",
      "MaternalAgeSquared          0.005291  \n",
      "PregravidBMI               -0.017999  \n",
      "PregravidBMISquared        -0.012231  \n",
      "DeliveryMethod             -0.069019  \n",
      "LaborInitiation             0.008482  \n",
      "Smoker                      0.684850  \n",
      "IllicitDrugUser             1.000000  \n"
     ]
    }
   ],
   "source": [
    "# select variables\n",
    "df_female_correlation = df_female[['WksGest', 'WksGestSquared', 'MaternalAge', 'MaternalAgeSquared', 'PregravidBMI', 'PregravidBMISquared', 'DeliveryMethod', 'LaborInitiation', 'Smoker', 'IllicitDrugUser']]\n",
    "\n",
    "# Calculate the correlation matrix\n",
    "correlation_matrix = df_female_correlation.corr()\n",
    "\n",
    "print(correlation_matrix)"
   ]
  },
  {
   "cell_type": "code",
   "execution_count": 76,
   "metadata": {},
   "outputs": [
    {
     "data": {
      "image/png": "[encoded data removed]",
      "text/plain": [
       "<Figure size 432x288 with 2 Axes>"
      ]
     },
     "metadata": {
      "needs_background": "light"
     },
     "output_type": "display_data"
    }
   ],
   "source": [
    "sns.heatmap(correlation_matrix, annot=True, cmap='coolwarm')\n",
    "plt.show()"
   ]
  },
  {
   "cell_type": "code",
   "execution_count": 77,
   "metadata": {},
   "outputs": [
    {
     "name": "stdout",
     "output_type": "stream",
     "text": [
      "                      WksGest  WksGestSquared  MaternalAge  \\\n",
      "WksGest              1.000000        0.998280     0.075971   \n",
      "WksGestSquared       0.998280        1.000000     0.071787   \n",
      "MaternalAge          0.075971        0.071787     1.000000   \n",
      "MaternalAgeSquared   0.062981        0.058050     0.993495   \n",
      "PregravidBMI        -0.020939       -0.023551     0.041861   \n",
      "PregravidBMISquared -0.029477       -0.033256     0.036674   \n",
      "DeliveryMethod      -0.080271       -0.080333    -0.102596   \n",
      "LaborInitiation     -0.128324       -0.129418     0.126518   \n",
      "Smoker              -0.007868       -0.010161    -0.191702   \n",
      "IllicitDrugUser     -0.069148       -0.073229    -0.125552   \n",
      "\n",
      "                     MaternalAgeSquared  PregravidBMI  PregravidBMISquared  \\\n",
      "WksGest                        0.062981     -0.020939            -0.029477   \n",
      "WksGestSquared                 0.058050     -0.023551            -0.033256   \n",
      "MaternalAge                    0.993495      0.041861             0.036674   \n",
      "MaternalAgeSquared             1.000000      0.038627             0.032490   \n",
      "PregravidBMI                   0.038627      1.000000             0.987335   \n",
      "PregravidBMISquared            0.032490      0.987335             1.000000   \n",
      "DeliveryMethod                -0.092522      0.108568             0.074576   \n",
      "LaborInitiation                0.107903     -0.143119            -0.125430   \n",
      "Smoker                        -0.189951     -0.086979            -0.071770   \n",
      "IllicitDrugUser               -0.121501     -0.011665            -0.006526   \n",
      "\n",
      "                     DeliveryMethod  LaborInitiation    Smoker  \\\n",
      "WksGest                   -0.080271        -0.128324 -0.007868   \n",
      "WksGestSquared            -0.080333        -0.129418 -0.010161   \n",
      "MaternalAge               -0.102596         0.126518 -0.191702   \n",
      "MaternalAgeSquared        -0.092522         0.107903 -0.189951   \n",
      "PregravidBMI               0.108568        -0.143119 -0.086979   \n",
      "PregravidBMISquared        0.074576        -0.125430 -0.071770   \n",
      "DeliveryMethod             1.000000        -0.453954  0.063383   \n",
      "LaborInitiation           -0.453954         1.000000  0.045651   \n",
      "Smoker                     0.063383         0.045651  1.000000   \n",
      "IllicitDrugUser            0.063383         0.152169  0.644928   \n",
      "\n",
      "                     IllicitDrugUser  \n",
      "WksGest                    -0.069148  \n",
      "WksGestSquared             -0.073229  \n",
      "MaternalAge                -0.125552  \n",
      "MaternalAgeSquared         -0.121501  \n",
      "PregravidBMI               -0.011665  \n",
      "PregravidBMISquared        -0.006526  \n",
      "DeliveryMethod              0.063383  \n",
      "LaborInitiation             0.152169  \n",
      "Smoker                      0.644928  \n",
      "IllicitDrugUser             1.000000  \n"
     ]
    }
   ],
   "source": [
    "# select variables\n",
    "df_male_correlation = df_male[['WksGest', 'WksGestSquared', 'MaternalAge', 'MaternalAgeSquared', 'PregravidBMI', 'PregravidBMISquared', 'DeliveryMethod', 'LaborInitiation', 'Smoker', 'IllicitDrugUser']]\n",
    "\n",
    "# Calculate the correlation matrix\n",
    "correlation_matrix = df_male_correlation.corr()\n",
    "\n",
    "print(correlation_matrix)"
   ]
  },
  {
   "cell_type": "code",
   "execution_count": 78,
   "metadata": {},
   "outputs": [
    {
     "data": {
      "image/png": "[encoded data removed]",
      "text/plain": [
       "<Figure size 432x288 with 2 Axes>"
      ]
     },
     "metadata": {
      "needs_background": "light"
     },
     "output_type": "display_data"
    }
   ],
   "source": [
    "sns.heatmap(correlation_matrix, annot=True, cmap='coolwarm')\n",
    "plt.show()"
   ]
  },
  {
   "cell_type": "code",
   "execution_count": 79,
   "metadata": {},
   "outputs": [
    {
     "name": "stdout",
     "output_type": "stream",
     "text": [
      "                      WksGest  PregravidBMISquared  LaborInitiation    Smoker  \\\n",
      "WksGest              1.000000            -0.144283         0.050883  0.003837   \n",
      "PregravidBMISquared -0.144283             1.000000        -0.134891  0.044762   \n",
      "LaborInitiation      0.050883            -0.134891         1.000000 -0.038347   \n",
      "Smoker               0.003837             0.044762        -0.038347  1.000000   \n",
      "IllicitDrugUser     -0.002739            -0.012231         0.008482  0.684850   \n",
      "\n",
      "                     IllicitDrugUser  \n",
      "WksGest                    -0.002739  \n",
      "PregravidBMISquared        -0.012231  \n",
      "LaborInitiation             0.008482  \n",
      "Smoker                      0.684850  \n",
      "IllicitDrugUser             1.000000  \n"
     ]
    }
   ],
   "source": [
    "# select variables\n",
    "df_female_correlation = df_female[['WksGest', 'PregravidBMISquared', 'LaborInitiation', 'Smoker', 'IllicitDrugUser']]\n",
    "\n",
    "# Calculate the correlation matrix\n",
    "correlation_matrix = df_female_correlation.corr()\n",
    "\n",
    "print(correlation_matrix)"
   ]
  },
  {
   "cell_type": "code",
   "execution_count": 80,
   "metadata": {},
   "outputs": [
    {
     "data": {
      "image/png": "[encoded data removed]",
      "text/plain": [
       "<Figure size 432x288 with 2 Axes>"
      ]
     },
     "metadata": {
      "needs_background": "light"
     },
     "output_type": "display_data"
    },
    {
     "data": {
      "text/plain": [
       "<Figure size 432x288 with 0 Axes>"
      ]
     },
     "metadata": {},
     "output_type": "display_data"
    }
   ],
   "source": [
    "sns.heatmap(correlation_matrix, annot=True, cmap='coolwarm')\n",
    "plt.show()\n",
    "plt.savefig('output/female_cofactor_correlation_matrix.pdf', bbox_inches='tight')"
   ]
  },
  {
   "cell_type": "code",
   "execution_count": 81,
   "metadata": {},
   "outputs": [
    {
     "name": "stdout",
     "output_type": "stream",
     "text": [
      "                      WksGest  PregravidBMISquared  LaborInitiation    Smoker  \\\n",
      "WksGest              1.000000            -0.029477        -0.128324 -0.007868   \n",
      "PregravidBMISquared -0.029477             1.000000        -0.125430 -0.071770   \n",
      "LaborInitiation     -0.128324            -0.125430         1.000000  0.045651   \n",
      "Smoker              -0.007868            -0.071770         0.045651  1.000000   \n",
      "IllicitDrugUser     -0.069148            -0.006526         0.152169  0.644928   \n",
      "\n",
      "                     IllicitDrugUser  \n",
      "WksGest                    -0.069148  \n",
      "PregravidBMISquared        -0.006526  \n",
      "LaborInitiation             0.152169  \n",
      "Smoker                      0.644928  \n",
      "IllicitDrugUser             1.000000  \n"
     ]
    }
   ],
   "source": [
    "# select variables\n",
    "df_male_correlation = df_male[['WksGest', 'PregravidBMISquared', 'LaborInitiation', 'Smoker', 'IllicitDrugUser']]\n",
    "\n",
    "# Calculate the correlation matrix\n",
    "correlation_matrix = df_male_correlation.corr()\n",
    "\n",
    "print(correlation_matrix)"
   ]
  },
  {
   "cell_type": "code",
   "execution_count": 82,
   "metadata": {},
   "outputs": [
    {
     "data": {
      "image/png": "[encoded data removed]",
      "text/plain": [
       "<Figure size 432x288 with 2 Axes>"
      ]
     },
     "metadata": {
      "needs_background": "light"
     },
     "output_type": "display_data"
    },
    {
     "data": {
      "text/plain": [
       "<Figure size 432x288 with 0 Axes>"
      ]
     },
     "metadata": {},
     "output_type": "display_data"
    }
   ],
   "source": [
    "sns.heatmap(correlation_matrix, annot=True, cmap='coolwarm')\n",
    "plt.show()\n",
    "plt.savefig('output/male_cofactor_correlation_matrix.pdf', bbox_inches='tight')"
   ]
  },
  {
   "cell_type": "markdown",
   "metadata": {},
   "source": [
    "# Perform Variant Impact Factor Analysis - Female Fetus"
   ]
  },
  {
   "cell_type": "code",
   "execution_count": 83,
   "metadata": {},
   "outputs": [
    {
     "name": "stdout",
     "output_type": "stream",
     "text": [
      "           feature        VIF\n",
      "0          WksGest  41.282202\n",
      "1      MaternalAge  27.178431\n",
      "2     PregravidBMI  18.370291\n",
      "3   DeliveryMethod   1.943446\n",
      "4  LaborInitiation   1.787691\n",
      "5           Smoker   2.219279\n",
      "6  IllicitDrugUser   2.238379\n"
     ]
    }
   ],
   "source": [
    "df_female_vif = df_female[['WksGest', 'MaternalAge', 'PregravidBMI', 'DeliveryMethod', 'LaborInitiation', 'Smoker', 'IllicitDrugUser']]\n",
    "\n",
    "# VIF dataframe\n",
    "vif_data = pd.DataFrame()\n",
    "vif_data[\"feature\"] = df_female_vif.columns\n",
    "  \n",
    "# calculating VIF for each feature\n",
    "vif_data[\"VIF\"] = [variance_inflation_factor(df_female_vif.values, i)\n",
    "                          for i in range(len(df_female_vif.columns))]\n",
    "  \n",
    "print(vif_data)"
   ]
  },
  {
   "cell_type": "code",
   "execution_count": 84,
   "metadata": {},
   "outputs": [
    {
     "name": "stdout",
     "output_type": "stream",
     "text": [
      "       feature        VIF\n",
      "0      WksGest  26.221276\n",
      "1  MaternalAge  26.221276\n"
     ]
    }
   ],
   "source": [
    "df_female_vif = df_female[['WksGest', 'MaternalAge']]\n",
    "\n",
    "# VIF dataframe\n",
    "vif_data = pd.DataFrame()\n",
    "vif_data[\"feature\"] = df_female_vif.columns\n",
    "  \n",
    "# calculating VIF for each feature\n",
    "vif_data[\"VIF\"] = [variance_inflation_factor(df_female_vif.values, i)\n",
    "                          for i in range(len(df_female_vif.columns))]\n",
    "  \n",
    "print(vif_data)"
   ]
  },
  {
   "cell_type": "code",
   "execution_count": 85,
   "metadata": {},
   "outputs": [
    {
     "name": "stdout",
     "output_type": "stream",
     "text": [
      "           feature       VIF\n",
      "0   DeliveryMethod  1.056476\n",
      "1  LaborInitiation  1.056476\n"
     ]
    }
   ],
   "source": [
    "df_female_vif = df_female[['DeliveryMethod', 'LaborInitiation']]\n",
    "\n",
    "# VIF dataframe\n",
    "vif_data = pd.DataFrame()\n",
    "vif_data[\"feature\"] = df_female_vif.columns\n",
    "  \n",
    "# calculating VIF for each feature\n",
    "vif_data[\"VIF\"] = [variance_inflation_factor(df_female_vif.values, i)\n",
    "                          for i in range(len(df_female_vif.columns))]\n",
    "  \n",
    "print(vif_data)"
   ]
  },
  {
   "cell_type": "code",
   "execution_count": 86,
   "metadata": {},
   "outputs": [
    {
     "name": "stdout",
     "output_type": "stream",
     "text": [
      "           feature        VIF\n",
      "0          WksGest  18.862759\n",
      "1     PregravidBMI  18.315942\n",
      "2   DeliveryMethod   1.936344\n",
      "3  LaborInitiation   1.757402\n",
      "4           Smoker   2.187249\n",
      "5  IllicitDrugUser   2.217328\n"
     ]
    }
   ],
   "source": [
    "df_female_vif = df_female[['WksGest', 'PregravidBMI', 'DeliveryMethod', 'LaborInitiation', 'Smoker', 'IllicitDrugUser']]\n",
    "\n",
    "# VIF dataframe\n",
    "vif_data = pd.DataFrame()\n",
    "vif_data[\"feature\"] = df_female_vif.columns\n",
    "  \n",
    "# calculating VIF for each feature\n",
    "vif_data[\"VIF\"] = [variance_inflation_factor(df_female_vif.values, i)\n",
    "                          for i in range(len(df_female_vif.columns))]\n",
    "  \n",
    "print(vif_data)"
   ]
  },
  {
   "cell_type": "code",
   "execution_count": 87,
   "metadata": {},
   "outputs": [
    {
     "name": "stdout",
     "output_type": "stream",
     "text": [
      "               feature        VIF\n",
      "0              WksGest  15.065076\n",
      "1   MaternalAgeSquared   8.736488\n",
      "2  PregravidBMISquared   5.744378\n",
      "3       DeliveryMethod   1.910943\n",
      "4      LaborInitiation   1.775563\n",
      "5               Smoker   2.213751\n",
      "6      IllicitDrugUser   2.233021\n"
     ]
    }
   ],
   "source": [
    "df_female_vif = df_female[['WksGest', 'MaternalAgeSquared', 'PregravidBMISquared', 'DeliveryMethod', 'LaborInitiation', 'Smoker', 'IllicitDrugUser']]\n",
    "\n",
    "# VIF dataframe\n",
    "vif_data = pd.DataFrame()\n",
    "vif_data[\"feature\"] = df_female_vif.columns\n",
    "  \n",
    "# calculating VIF for each feature\n",
    "vif_data[\"VIF\"] = [variance_inflation_factor(df_female_vif.values, i)\n",
    "                          for i in range(len(df_female_vif.columns))]\n",
    "  \n",
    "print(vif_data)"
   ]
  },
  {
   "cell_type": "code",
   "execution_count": 88,
   "metadata": {},
   "outputs": [
    {
     "name": "stdout",
     "output_type": "stream",
     "text": [
      "              feature       VIF\n",
      "0      WksGestSquared  8.485230\n",
      "1  MaternalAgeSquared  7.985326\n",
      "2      DeliveryMethod  1.656578\n",
      "3              Smoker  2.203786\n",
      "4     IllicitDrugUser  2.230613\n"
     ]
    }
   ],
   "source": [
    "df_female_vif = df_female[['WksGestSquared', 'MaternalAgeSquared', 'DeliveryMethod', 'Smoker', 'IllicitDrugUser']]\n",
    "\n",
    "# VIF dataframe\n",
    "vif_data = pd.DataFrame()\n",
    "vif_data[\"feature\"] = df_female_vif.columns\n",
    "  \n",
    "# calculating VIF for each feature\n",
    "vif_data[\"VIF\"] = [variance_inflation_factor(df_female_vif.values, i)\n",
    "                          for i in range(len(df_female_vif.columns))]\n",
    "  \n",
    "print(vif_data)"
   ]
  },
  {
   "cell_type": "code",
   "execution_count": 89,
   "metadata": {},
   "outputs": [
    {
     "name": "stdout",
     "output_type": "stream",
     "text": [
      "               feature       VIF\n",
      "0              WksGest  6.671874\n",
      "1  PregravidBMISquared  5.531549\n",
      "2      LaborInitiation  1.646690\n",
      "3               Smoker  2.185514\n",
      "4      IllicitDrugUser  2.207770\n"
     ]
    }
   ],
   "source": [
    "df_female_vif = df_female[['WksGest', 'PregravidBMISquared', 'LaborInitiation', 'Smoker', 'IllicitDrugUser']]\n",
    "\n",
    "# VIF dataframe\n",
    "vif_data = pd.DataFrame()\n",
    "vif_data[\"feature\"] = df_female_vif.columns\n",
    "  \n",
    "# calculating VIF for each feature\n",
    "vif_data[\"VIF\"] = [variance_inflation_factor(df_female_vif.values, i)\n",
    "                          for i in range(len(df_female_vif.columns))]\n",
    "  \n",
    "print(vif_data)"
   ]
  },
  {
   "cell_type": "code",
   "execution_count": 90,
   "metadata": {},
   "outputs": [
    {
     "name": "stdout",
     "output_type": "stream",
     "text": [
      "               feature        VIF\n",
      "0       WksGestSquared  11.900799\n",
      "1   MaternalAgeSquared   8.132110\n",
      "2  PregravidBMISquared   5.170969\n",
      "3       DeliveryMethod   1.882582\n",
      "4      LaborInitiation   1.749664\n",
      "5               Smoker   2.214176\n",
      "6      IllicitDrugUser   2.232285\n"
     ]
    }
   ],
   "source": [
    "df_female_vif = df_female[['WksGestSquared', 'MaternalAgeSquared', 'PregravidBMISquared', 'DeliveryMethod', 'LaborInitiation', 'Smoker', 'IllicitDrugUser']]\n",
    "\n",
    "# VIF dataframe\n",
    "vif_data = pd.DataFrame()\n",
    "vif_data[\"feature\"] = df_female_vif.columns\n",
    "  \n",
    "# calculating VIF for each feature\n",
    "vif_data[\"VIF\"] = [variance_inflation_factor(df_female_vif.values, i)\n",
    "                          for i in range(len(df_female_vif.columns))]\n",
    "  \n",
    "print(vif_data)"
   ]
  },
  {
   "cell_type": "code",
   "execution_count": 91,
   "metadata": {},
   "outputs": [
    {
     "name": "stdout",
     "output_type": "stream",
     "text": [
      "               feature       VIF\n",
      "0       WksGestSquared  6.098898\n",
      "1  PregravidBMISquared  5.165124\n",
      "2       DeliveryMethod  1.864392\n",
      "3      LaborInitiation  1.719813\n",
      "4               Smoker  2.188869\n",
      "5      IllicitDrugUser  2.211830\n"
     ]
    }
   ],
   "source": [
    "df_female_vif = df_female[['WksGestSquared', 'PregravidBMISquared', 'DeliveryMethod', 'LaborInitiation', 'Smoker', 'IllicitDrugUser']]\n",
    "\n",
    "# VIF dataframe\n",
    "vif_data = pd.DataFrame()\n",
    "vif_data[\"feature\"] = df_female_vif.columns\n",
    "  \n",
    "# calculating VIF for each feature\n",
    "vif_data[\"VIF\"] = [variance_inflation_factor(df_female_vif.values, i)\n",
    "                          for i in range(len(df_female_vif.columns))]\n",
    "  \n",
    "print(vif_data)"
   ]
  },
  {
   "cell_type": "code",
   "execution_count": 92,
   "metadata": {},
   "outputs": [
    {
     "name": "stdout",
     "output_type": "stream",
     "text": [
      "           feature       VIF\n",
      "0          WksGest  1.818612\n",
      "1  LaborInitiation  1.625987\n",
      "2           Smoker  2.175998\n",
      "3  IllicitDrugUser  2.203470\n"
     ]
    }
   ],
   "source": [
    "df_female_vif = df_female[['WksGest', 'LaborInitiation', 'Smoker', 'IllicitDrugUser']]\n",
    "\n",
    "# VIF dataframe\n",
    "vif_data = pd.DataFrame()\n",
    "vif_data[\"feature\"] = df_female_vif.columns\n",
    "  \n",
    "# calculating VIF for each feature\n",
    "vif_data[\"VIF\"] = [variance_inflation_factor(df_female_vif.values, i)\n",
    "                          for i in range(len(df_female_vif.columns))]\n",
    "  \n",
    "print(vif_data)"
   ]
  },
  {
   "cell_type": "markdown",
   "metadata": {},
   "source": [
    "# Perform Variant Impact Factor Analysis - Male Fetus"
   ]
  },
  {
   "cell_type": "code",
   "execution_count": 93,
   "metadata": {},
   "outputs": [
    {
     "name": "stdout",
     "output_type": "stream",
     "text": [
      "           feature        VIF\n",
      "0          WksGest  35.180360\n",
      "1      MaternalAge  26.967327\n",
      "2     PregravidBMI  15.704043\n",
      "3   DeliveryMethod   1.963876\n",
      "4  LaborInitiation   2.666695\n",
      "5           Smoker   2.066770\n",
      "6  IllicitDrugUser   2.096296\n"
     ]
    }
   ],
   "source": [
    "df_male_vif = df_male[['WksGest', 'MaternalAge', 'PregravidBMI', 'DeliveryMethod', 'LaborInitiation', 'Smoker', 'IllicitDrugUser']]\n",
    "\n",
    "# VIF dataframe\n",
    "vif_data = pd.DataFrame()\n",
    "vif_data[\"feature\"] = df_male_vif.columns\n",
    "  \n",
    "# calculating VIF for each feature\n",
    "vif_data[\"VIF\"] = [variance_inflation_factor(df_male_vif.values, i)\n",
    "                          for i in range(len(df_male_vif.columns))]\n",
    "  \n",
    "print(vif_data)"
   ]
  },
  {
   "cell_type": "code",
   "execution_count": 94,
   "metadata": {},
   "outputs": [
    {
     "name": "stdout",
     "output_type": "stream",
     "text": [
      "       feature        VIF\n",
      "0      WksGest  24.243874\n",
      "1  MaternalAge  24.243874\n"
     ]
    }
   ],
   "source": [
    "df_male_vif = df_male[['WksGest', 'MaternalAge']]\n",
    "\n",
    "# VIF dataframe\n",
    "vif_data = pd.DataFrame()\n",
    "vif_data[\"feature\"] = df_male_vif.columns\n",
    "  \n",
    "# calculating VIF for each feature\n",
    "vif_data[\"VIF\"] = [variance_inflation_factor(df_male_vif.values, i)\n",
    "                          for i in range(len(df_male_vif.columns))]\n",
    "  \n",
    "print(vif_data)"
   ]
  },
  {
   "cell_type": "code",
   "execution_count": 95,
   "metadata": {},
   "outputs": [
    {
     "name": "stdout",
     "output_type": "stream",
     "text": [
      "           feature       VIF\n",
      "0   DeliveryMethod  1.031223\n",
      "1  LaborInitiation  1.031223\n"
     ]
    }
   ],
   "source": [
    "df_male_vif = df_male[['DeliveryMethod', 'LaborInitiation']]\n",
    "\n",
    "# VIF dataframe\n",
    "vif_data = pd.DataFrame()\n",
    "vif_data[\"feature\"] = df_male_vif.columns\n",
    "  \n",
    "# calculating VIF for each feature\n",
    "vif_data[\"VIF\"] = [variance_inflation_factor(df_male_vif.values, i)\n",
    "                          for i in range(len(df_male_vif.columns))]\n",
    "  \n",
    "print(vif_data)"
   ]
  },
  {
   "cell_type": "code",
   "execution_count": 96,
   "metadata": {},
   "outputs": [
    {
     "name": "stdout",
     "output_type": "stream",
     "text": [
      "           feature        VIF\n",
      "0          WksGest  17.243296\n",
      "1     PregravidBMI  15.284867\n",
      "2   DeliveryMethod   1.958693\n",
      "3  LaborInitiation   2.532278\n",
      "4           Smoker   2.035874\n",
      "5  IllicitDrugUser   2.095597\n"
     ]
    }
   ],
   "source": [
    "df_male_vif = df_male[['WksGest', 'PregravidBMI', 'DeliveryMethod', 'LaborInitiation', 'Smoker', 'IllicitDrugUser']]\n",
    "\n",
    "# VIF dataframe\n",
    "vif_data = pd.DataFrame()\n",
    "vif_data[\"feature\"] = df_male_vif.columns\n",
    "  \n",
    "# calculating VIF for each feature\n",
    "vif_data[\"VIF\"] = [variance_inflation_factor(df_male_vif.values, i)\n",
    "                          for i in range(len(df_male_vif.columns))]\n",
    "  \n",
    "print(vif_data)"
   ]
  },
  {
   "cell_type": "code",
   "execution_count": 97,
   "metadata": {},
   "outputs": [
    {
     "name": "stdout",
     "output_type": "stream",
     "text": [
      "               feature        VIF\n",
      "0              WksGest  13.078937\n",
      "1   MaternalAgeSquared   8.612023\n",
      "2  PregravidBMISquared   4.061328\n",
      "3       DeliveryMethod   1.931529\n",
      "4      LaborInitiation   2.606422\n",
      "5               Smoker   2.068229\n",
      "6      IllicitDrugUser   2.093038\n"
     ]
    }
   ],
   "source": [
    "df_male_vif = df_male[['WksGest', 'MaternalAgeSquared', 'PregravidBMISquared', 'DeliveryMethod', 'LaborInitiation', 'Smoker', 'IllicitDrugUser']]\n",
    "\n",
    "# VIF dataframe\n",
    "vif_data = pd.DataFrame()\n",
    "vif_data[\"feature\"] = df_male_vif.columns\n",
    "  \n",
    "# calculating VIF for each feature\n",
    "vif_data[\"VIF\"] = [variance_inflation_factor(df_male_vif.values, i)\n",
    "                          for i in range(len(df_male_vif.columns))]\n",
    "  \n",
    "print(vif_data)"
   ]
  },
  {
   "cell_type": "code",
   "execution_count": 98,
   "metadata": {},
   "outputs": [
    {
     "name": "stdout",
     "output_type": "stream",
     "text": [
      "               feature       VIF\n",
      "0              WksGest  6.771811\n",
      "1  PregravidBMISquared  4.042245\n",
      "2       DeliveryMethod  1.930819\n",
      "3      LaborInitiation  2.540845\n",
      "4               Smoker  2.029356\n",
      "5      IllicitDrugUser  2.092808\n"
     ]
    }
   ],
   "source": [
    "df_male_vif = df_male[['WksGest', 'PregravidBMISquared', 'DeliveryMethod', 'LaborInitiation', 'Smoker', 'IllicitDrugUser']]\n",
    "\n",
    "# VIF dataframe\n",
    "vif_data = pd.DataFrame()\n",
    "vif_data[\"feature\"] = df_male_vif.columns\n",
    "  \n",
    "# calculating VIF for each feature\n",
    "vif_data[\"VIF\"] = [variance_inflation_factor(df_male_vif.values, i)\n",
    "                          for i in range(len(df_male_vif.columns))]\n",
    "  \n",
    "print(vif_data)"
   ]
  },
  {
   "cell_type": "code",
   "execution_count": 99,
   "metadata": {},
   "outputs": [
    {
     "name": "stdout",
     "output_type": "stream",
     "text": [
      "               feature       VIF\n",
      "0              WksGest  5.485421\n",
      "1  PregravidBMISquared  4.025662\n",
      "2      LaborInitiation  2.059313\n",
      "3               Smoker  2.029321\n",
      "4      IllicitDrugUser  2.064074\n"
     ]
    }
   ],
   "source": [
    "df_male_vif = df_male[['WksGest', 'PregravidBMISquared', 'LaborInitiation', 'Smoker', 'IllicitDrugUser']]\n",
    "\n",
    "# VIF dataframe\n",
    "vif_data = pd.DataFrame()\n",
    "vif_data[\"feature\"] = df_male_vif.columns\n",
    "  \n",
    "# calculating VIF for each feature\n",
    "vif_data[\"VIF\"] = [variance_inflation_factor(df_male_vif.values, i)\n",
    "                          for i in range(len(df_male_vif.columns))]\n",
    "  \n",
    "print(vif_data)"
   ]
  },
  {
   "cell_type": "code",
   "execution_count": 100,
   "metadata": {},
   "outputs": [
    {
     "name": "stdout",
     "output_type": "stream",
     "text": [
      "               feature        VIF\n",
      "0       WksGestSquared  10.328795\n",
      "1   MaternalAgeSquared   7.975452\n",
      "2  PregravidBMISquared   3.869815\n",
      "3       DeliveryMethod   1.861538\n",
      "4      LaborInitiation   2.500540\n",
      "5               Smoker   2.058673\n",
      "6      IllicitDrugUser   2.094553\n"
     ]
    }
   ],
   "source": [
    "df_male_vif = df_male[['WksGestSquared', 'MaternalAgeSquared', 'PregravidBMISquared', 'DeliveryMethod', 'LaborInitiation', 'Smoker', 'IllicitDrugUser']]\n",
    "\n",
    "# VIF dataframe\n",
    "vif_data = pd.DataFrame()\n",
    "vif_data[\"feature\"] = df_male_vif.columns\n",
    "  \n",
    "# calculating VIF for each feature\n",
    "vif_data[\"VIF\"] = [variance_inflation_factor(df_male_vif.values, i)\n",
    "                          for i in range(len(df_male_vif.columns))]\n",
    "  \n",
    "print(vif_data)"
   ]
  },
  {
   "cell_type": "code",
   "execution_count": 101,
   "metadata": {},
   "outputs": [
    {
     "name": "stdout",
     "output_type": "stream",
     "text": [
      "              feature       VIF\n",
      "0      WksGestSquared  7.804718\n",
      "1  MaternalAgeSquared  7.381303\n",
      "2              Smoker  2.044629\n",
      "3     IllicitDrugUser  1.990358\n"
     ]
    }
   ],
   "source": [
    "df_male_vif = df_male[['WksGestSquared', 'MaternalAgeSquared', 'Smoker', 'IllicitDrugUser']]\n",
    "\n",
    "# VIF dataframe\n",
    "vif_data = pd.DataFrame()\n",
    "vif_data[\"feature\"] = df_male_vif.columns\n",
    "  \n",
    "# calculating VIF for each feature\n",
    "vif_data[\"VIF\"] = [variance_inflation_factor(df_male_vif.values, i)\n",
    "                          for i in range(len(df_male_vif.columns))]\n",
    "  \n",
    "print(vif_data)"
   ]
  },
  {
   "cell_type": "code",
   "execution_count": 102,
   "metadata": {},
   "outputs": [
    {
     "name": "stdout",
     "output_type": "stream",
     "text": [
      "               feature       VIF\n",
      "0       WksGestSquared  5.774733\n",
      "1  PregravidBMISquared  3.796138\n",
      "2       DeliveryMethod  1.848419\n",
      "3      LaborInitiation  2.358272\n",
      "4               Smoker  2.027495\n",
      "5      IllicitDrugUser  2.094286\n"
     ]
    }
   ],
   "source": [
    "df_male_vif = df_male[['WksGestSquared', 'PregravidBMISquared', 'DeliveryMethod', 'LaborInitiation', 'Smoker', 'IllicitDrugUser']]\n",
    "\n",
    "# VIF dataframe\n",
    "vif_data = pd.DataFrame()\n",
    "vif_data[\"feature\"] = df_male_vif.columns\n",
    "  \n",
    "# calculating VIF for each feature\n",
    "vif_data[\"VIF\"] = [variance_inflation_factor(df_male_vif.values, i)\n",
    "                          for i in range(len(df_male_vif.columns))]\n",
    "  \n",
    "print(vif_data)"
   ]
  },
  {
   "cell_type": "code",
   "execution_count": 103,
   "metadata": {},
   "outputs": [
    {
     "name": "stdout",
     "output_type": "stream",
     "text": [
      "           feature       VIF\n",
      "0          WksGest  2.101625\n",
      "1  LaborInitiation  2.040347\n",
      "2           Smoker  2.009801\n",
      "3  IllicitDrugUser  2.049935\n"
     ]
    }
   ],
   "source": [
    "df_male_vif = df_male[['WksGest', 'LaborInitiation', 'Smoker', 'IllicitDrugUser']]\n",
    "\n",
    "# VIF dataframe\n",
    "vif_data = pd.DataFrame()\n",
    "vif_data[\"feature\"] = df_male_vif.columns\n",
    "  \n",
    "# calculating VIF for each feature\n",
    "vif_data[\"VIF\"] = [variance_inflation_factor(df_male_vif.values, i)\n",
    "                          for i in range(len(df_male_vif.columns))]\n",
    "  \n",
    "print(vif_data)"
   ]
  },
  {
   "cell_type": "markdown",
   "metadata": {},
   "source": [
    "# Correlation network"
   ]
  },
  {
   "cell_type": "code",
   "execution_count": 104,
   "metadata": {},
   "outputs": [
    {
     "name": "stderr",
     "output_type": "stream",
     "text": [
      "/opt/conda/envs/arivale-py3/lib/python3.7/site-packages/statsmodels/stats/_lilliefors.py:163: DeprecationWarning: `np.float` is a deprecated alias for the builtin `float`. To silence this warning, use `float` by itself. Doing this will not modify any behavior and is safe. If you specifically wanted the numpy scalar type, use `np.float64` here.\n",
      "Deprecated in NumPy 1.20; for more details and guidance: https://numpy.org/devdocs/release/1.20.0-notes.html#deprecations\n",
      "  size = np.array(sorted(cv_data), dtype=np.float)\n"
     ]
    }
   ],
   "source": [
    "import statsmodels.api as sm\n",
    "import statsmodels.formula.api as smf\n",
    "import statsmodels.sandbox.stats.multicomp\n",
    "from statsmodels.genmod.families import family, links\n",
    "import itertools"
   ]
  },
  {
   "cell_type": "code",
   "execution_count": 105,
   "metadata": {},
   "outputs": [],
   "source": [
    "DROP_COLS = [\n",
    "            'Patient-ID', 'Grav', 'DeliveryMethod', \n",
    "            'Para', 'Ethnicity', 'isAsian', \n",
    "            'isBlack', 'Condition', 'isWhite',\n",
    "            'InfSex', 'Birthweight', 'LaborOnset',\n",
    "            'WksGestSquared', 'MaternalAge',\n",
    "            'MaternalAgeSquared', 'PregravidBMI'\n",
    "             ]"
   ]
  },
  {
   "cell_type": "code",
   "execution_count": 106,
   "metadata": {},
   "outputs": [],
   "source": [
    "def detect_outliers(data):\n",
    "    \n",
    "    # if no data is passed return False\n",
    "    if len(data) == 0:\n",
    "        False\n",
    "        \n",
    "    # Calculate z-scores\n",
    "    z_scores = scipy.stats.zscore(data)\n",
    "    \n",
    "    # Define a z-score threshold for outliers (e.g., |z-score| > 3)\n",
    "    threshold = 3\n",
    "    \n",
    "    # Identify extreme outliers\n",
    "    extreme_outliers = data[abs(z_scores) > threshold]\n",
    "    \n",
    "    # if extreme outliers compose more than 2.5% of the data then mark it as extreme outliers present\n",
    "    if len(extreme_outliers)/len(data) > 0.025:\n",
    "        return True\n",
    "    \n",
    "    return False\n",
    "\n",
    "\n",
    "def log_sig_analytes(df, feature):\n",
    "    logger.info('Analytes that are significantly regulated by {}'.format(feature))\n",
    "    for analyte in df['Analyte']:\n",
    "        logger.info('{}'.format(analyte))\n",
    "    logger.info('\\n')\n",
    "\n",
    "\n",
    "def run_glm(dat, analytes, sex, max_run=None):\n",
    "    \n",
    "    fhandler = logging.FileHandler(filename='output/glm.single.' + sex + '.all.miniDP3.log', mode='a')\n",
    "    logger.addHandler(fhandler)\n",
    "    f_failed = open('output/failed.glm.single.' + sex + '.all.miniDP3.txt', mode='w')\n",
    "    f_output_model_eval = open('glm.single.' + sex + '.ols.model.evaluation.txt', mode='w')\n",
    "    f_output = 'output/glm.single.' + sex + '.all.miniDP3.txt'\n",
    "    f_output_sig = 'output/glm.single.' + sex + '.sig.miniDP3.txt'\n",
    "         \n",
    "    count = 0 \n",
    "    done = 0\n",
    "    skipped = 0\n",
    "    completed = 0\n",
    "\n",
    "    results = []\n",
    "    results_sig = []\n",
    "    columns = list(dat.columns)\n",
    "\n",
    "    start_time = datetime.now()\n",
    "    \n",
    "    for analyte in analytes:\n",
    "        \n",
    "        # Default is gaussian- only switch to gamma if the analyte levels follow a non-normal distribution\n",
    "        family_type = family.Gaussian()\n",
    "        #family_type = family.Gaussian(link=sm.families.links.log())\n",
    "        family_type.link = links.identity()\n",
    "        family_name = 'Gaussian'\n",
    "        #family_name = 'Log Normal Distribution'\n",
    "        family_link = 'Identity'\n",
    "        \n",
    "        sub = dat[['Patient-ID', analyte, 'WksGest', 'PregravidBMISquared', 'LaborInitiation', 'Smoker', 'IllicitDrugUser']].copy()\n",
    "        sub.rename(columns={analyte:'Analyte'}, inplace=True)\n",
    "        sub['Analyte'] = sub['Analyte'].astype(np.float64)\n",
    "        \n",
    "        # log transfrom data\n",
    "        # sub['Analyte'] = np.log(sub['Analyte'])\n",
    "        \n",
    "        # evaluate if there are extreme values\n",
    "        extreme_outliers = detect_outliers(sub['Analyte'])\n",
    "        \n",
    "        # evaluate data normality using an anderson darling test\n",
    "        ks_statistic, ks_p_value = scipy.stats.kstest(sub['Analyte'], 'norm')\n",
    "        \n",
    "        # if data is skewed or fails a normality test (with Bonferonni multiple hypothesis correction), then use the gamma family\n",
    "        if abs(sub['Analyte'].skew()) > 1.5 or ks_p_value < 0.05:\n",
    "\n",
    "            # Set any zero values to 1/2 the smallest value\n",
    "            sub.loc[sub['Analyte']==0, analyte] = (sub.loc[sub['Analyte']>0, 'Analyte'].min() / 2.0)\n",
    "\n",
    "            family_type = family.Gamma()\n",
    "            family_type.link = links.log()\n",
    "            family_name = 'Gamma'\n",
    "            family_link = 'Log'\n",
    "\n",
    "        try:\n",
    "            ols_model = 'Analyte ~ WksGest + PregravidBMISquared + C(LaborInitiation) + C(Smoker) + C(IllicitDrugUser)'\n",
    "            model = smf.glm(ols_model, data=sub, family=family_type, missing='drop')\n",
    "            if extreme_outliers:\n",
    "                # Fit the robust GLM model with robust Huber estimation\n",
    "                fitted_model = model.fit(cov_type='hc0', maxiter=100)\n",
    "            else:\n",
    "                fitted_model = model.fit(maxiter=100)\n",
    "\n",
    "            # Calculate the pseudo R-squared\n",
    "            null_deviance = fitted_model.null_deviance\n",
    "            residual_deviance = fitted_model.deviance\n",
    "            pseudo_r_squared = 1 - (residual_deviance / null_deviance)\n",
    "            \n",
    "            # write to results\n",
    "            results.append((analyte, len(fitted_model.fittedvalues), family_name, family_link, extreme_outliers, ks_statistic, ks_p_value, fitted_model.converged, *fitted_model.params, *fitted_model.pvalues, pseudo_r_squared))\n",
    "            completed += 1\n",
    "\n",
    "        except Exception as e:\n",
    "            logger.info('Failed analytes {} with error {}'.format(analyte, str(e)))\n",
    "            f_failed.write(analyte + '\\n')\n",
    "                  \n",
    "        count += 1\n",
    "        if (max_run is not None) and (count >= max_run):\n",
    "            break\n",
    "\n",
    "        if (count % 100) == 0:\n",
    "            elapsed_time = datetime.now() - start_time    \n",
    "            logger.info('Finished {} in {:.3f} seconds (skipped {})'.format(count, elapsed_time.total_seconds(), skipped))\n",
    "    \n",
    "    df = pd.DataFrame(results, columns=['Analyte', 'N', 'Model Family', 'Link Function', 'Extreme Outliers', 'K-S Statistic', 'K-S p-value', 'Converged', *fitted_model.params.index, *[str(x)+'_p' for x in fitted_model.pvalues.index], 'Pseudo_R_Squared'])\n",
    "    df.sort_values(['WksGest_p'], ascending=True, inplace=True)\n",
    "    f_failed.close()\n",
    "\n",
    "    np.seterr(all='warn')\n",
    "    logger.info('\\nNumber of analytes analyzed: {}'.format(str(count)))\n",
    "    logger.info('Number of analytes with converged formula: {}'.format(str(df.shape[0])))\n",
    "    (adj_pval_index, adj_pval, _, _) = statsmodels.sandbox.stats.multicomp.multipletests(df.loc[~df['WksGest_p'].isnull(), 'WksGest_p'], alpha=0.05, method='fdr_bh')\n",
    "    df.loc[~df['WksGest_p'].isnull(), 'pval_adj'] = adj_pval\n",
    "    df.sort_values(['pval_adj'], ascending=True, inplace=True)\n",
    "    df.to_csv(f_output, index=False, sep='\\t')\n",
    "    \n",
    "    # filter for significance\n",
    "    df = df[df['pval_adj']<0.05] #benjammini-hochman\n",
    "    logger.info('Number of analytes whose levels are significantly regulated by gestational weeks as a function of pregravid bmi, labor initiation, smoking status, and illicit drug use status: {}'.format(str(df.shape[0])))\n",
    "    df.to_csv(f_output_sig, index=False, sep='\\t')\n",
    "    #bonferroni_correction = 0.05/count\n",
    "    \n",
    "    fhandler.close()\n",
    "    f_failed.close()\n",
    "    \n",
    "    return df"
   ]
  },
  {
   "cell_type": "code",
   "execution_count": 107,
   "metadata": {},
   "outputs": [
    {
     "data": {
      "text/plain": [
       "\"\\n    # identify analytes significantly regulated by each feature and log info\\n    df_WksGest = df[df['WksGest_p'] < bonferroni_correction]\\n    logger.info('Number of analytes significantly regulated by gestational age: {}'.format(str(df_WksGest.shape[0])))\\n    log_sig_analytes(df_WksGest, 'Weeks of Gestation')\\n\\n    df_PregravidBMI = df[df['PregravidBMISquared_p'] < bonferroni_correction]\\n    logger.info('Number of analytes significantly regulated by pregravid BMI: {}'.format(str(df_PregravidBMI.shape[0])))\\n    log_sig_analytes(df_PregravidBMI, 'Pregravid BMI')\\n    \\n    df_LaborInitiation = df[df['C(LaborInitiation)[T.1]_p'] < bonferroni_correction]\\n    logger.info('Number of analytes significantly regulated by labor onset: {}'.format(str(df_LaborInitiation.shape[0])))\\n    log_sig_analytes(df_LaborInitiation, 'Labor Initiation')\\n    \\n    df_Smoker = df[df['C(Smoker)[T.1.0]_p'] < bonferroni_correction]\\n    logger.info('Number of analytes significantly regulated by smoking status: {}'.format(str(df_Smoker.shape[0])))\\n    log_sig_analytes(df_Smoker, 'Smoker')\\n    \\n    # combine all significnatly regulated analytes into one dataframe\\n    df = pd.concat([df_WksGest, df_PregravidBMI, df_LaborInitiation, df_Smoker]).drop_duplicates() #bonferroni correction\\n    logger.info('\\nBonferroni Correction: p<{}'.format(str(bonferroni_correction)))\\n    logger.info('Number of analytes whose levels are significantly regulated by Gestational Weeks, PregravidBMI, Labor Onset and/or Smoking Status: {}'.format(str(df.shape[0])))\\n    df.to_csv(f_output_sig, index=False, sep='\\t')\\n \""
      ]
     },
     "execution_count": 107,
     "metadata": {},
     "output_type": "execute_result"
    }
   ],
   "source": [
    "'''\n",
    "    # identify analytes significantly regulated by each feature and log info\n",
    "    df_WksGest = df[df['WksGest_p'] < bonferroni_correction]\n",
    "    logger.info('Number of analytes significantly regulated by gestational age: {}'.format(str(df_WksGest.shape[0])))\n",
    "    log_sig_analytes(df_WksGest, 'Weeks of Gestation')\n",
    "\n",
    "    df_PregravidBMI = df[df['PregravidBMISquared_p'] < bonferroni_correction]\n",
    "    logger.info('Number of analytes significantly regulated by pregravid BMI: {}'.format(str(df_PregravidBMI.shape[0])))\n",
    "    log_sig_analytes(df_PregravidBMI, 'Pregravid BMI')\n",
    "    \n",
    "    df_LaborInitiation = df[df['C(LaborInitiation)[T.1]_p'] < bonferroni_correction]\n",
    "    logger.info('Number of analytes significantly regulated by labor onset: {}'.format(str(df_LaborInitiation.shape[0])))\n",
    "    log_sig_analytes(df_LaborInitiation, 'Labor Initiation')\n",
    "    \n",
    "    df_Smoker = df[df['C(Smoker)[T.1.0]_p'] < bonferroni_correction]\n",
    "    logger.info('Number of analytes significantly regulated by smoking status: {}'.format(str(df_Smoker.shape[0])))\n",
    "    log_sig_analytes(df_Smoker, 'Smoker')\n",
    "    \n",
    "    # combine all significnatly regulated analytes into one dataframe\n",
    "    df = pd.concat([df_WksGest, df_PregravidBMI, df_LaborInitiation, df_Smoker]).drop_duplicates() #bonferroni correction\n",
    "    logger.info('\\nBonferroni Correction: p<{}'.format(str(bonferroni_correction)))\n",
    "    logger.info('Number of analytes whose levels are significantly regulated by Gestational Weeks, PregravidBMI, Labor Onset and/or Smoking Status: {}'.format(str(df.shape[0])))\n",
    "    df.to_csv(f_output_sig, index=False, sep='\\t')\n",
    " ''' "
   ]
  },
  {
   "cell_type": "code",
   "execution_count": 108,
   "metadata": {},
   "outputs": [
    {
     "name": "stderr",
     "output_type": "stream",
     "text": [
      "/opt/conda/envs/arivale-py3/lib/python3.7/site-packages/statsmodels/genmod/generalized_linear_model.py:1132: DeprecationWarning: `np.float` is a deprecated alias for the builtin `float`. To silence this warning, use `float` by itself. Doing this will not modify any behavior and is safe. If you specifically wanted the numpy scalar type, use `np.float64` here.\n",
      "Deprecated in NumPy 1.20; for more details and guidance: https://numpy.org/devdocs/release/1.20.0-notes.html#deprecations\n",
      "  start_params = np.zeros(self.exog.shape[1], np.float)\n",
      "/opt/conda/envs/arivale-py3/lib/python3.7/site-packages/statsmodels/genmod/families/links.py:517: RuntimeWarning: overflow encountered in exp\n",
      "  return np.exp(z)\n",
      "/opt/conda/envs/arivale-py3/lib/python3.7/site-packages/statsmodels/genmod/families/family.py:697: RuntimeWarning: divide by zero encountered in true_divide\n",
      "  endog_mu = self._clean(endog / mu)\n",
      "/opt/conda/envs/arivale-py3/lib/python3.7/site-packages/statsmodels/genmod/families/family.py:698: RuntimeWarning: divide by zero encountered in true_divide\n",
      "  resid_dev = -np.log(endog_mu) + (endog - mu) / mu\n",
      "/opt/conda/envs/arivale-py3/lib/python3.7/site-packages/statsmodels/genmod/families/family.py:698: RuntimeWarning: invalid value encountered in true_divide\n",
      "  resid_dev = -np.log(endog_mu) + (endog - mu) / mu\n",
      "/opt/conda/envs/arivale-py3/lib/python3.7/site-packages/statsmodels/genmod/families/family.py:698: RuntimeWarning: invalid value encountered in add\n",
      "  resid_dev = -np.log(endog_mu) + (endog - mu) / mu\n",
      "/opt/conda/envs/arivale-py3/lib/python3.7/site-packages/statsmodels/genmod/families/family.py:699: RuntimeWarning: overflow encountered in multiply\n",
      "  return 2 * resid_dev\n",
      "/opt/conda/envs/arivale-py3/lib/python3.7/site-packages/statsmodels/genmod/generalized_linear_model.py:773: RuntimeWarning: overflow encountered in power\n",
      "  resid = np.power(self.endog - mu, 2) * self.iweights\n",
      "/opt/conda/envs/arivale-py3/lib/python3.7/site-packages/statsmodels/genmod/families/varfuncs.py:104: RuntimeWarning: overflow encountered in power\n",
      "  return np.power(np.fabs(mu), self.power)\n",
      "/opt/conda/envs/arivale-py3/lib/python3.7/site-packages/statsmodels/genmod/generalized_linear_model.py:774: RuntimeWarning: divide by zero encountered in true_divide\n",
      "  return np.sum(resid / self.family.variance(mu)) / self.df_resid\n",
      "/opt/conda/envs/arivale-py3/lib/python3.7/site-packages/statsmodels/genmod/generalized_linear_model.py:774: RuntimeWarning: invalid value encountered in true_divide\n",
      "  return np.sum(resid / self.family.variance(mu)) / self.df_resid\n",
      "/opt/conda/envs/arivale-py3/lib/python3.7/site-packages/statsmodels/genmod/families/family.py:134: RuntimeWarning: invalid value encountered in multiply\n",
      "  return 1. / (self.link.deriv(mu)**2 * self.variance(mu))\n",
      "/opt/conda/envs/arivale-py3/lib/python3.7/site-packages/statsmodels/genmod/families/family.py:134: RuntimeWarning: divide by zero encountered in true_divide\n",
      "  return 1. / (self.link.deriv(mu)**2 * self.variance(mu))\n",
      "/opt/conda/envs/arivale-py3/lib/python3.7/site-packages/statsmodels/genmod/generalized_linear_model.py:1162: RuntimeWarning: invalid value encountered in multiply\n",
      "  - self._offset_exposure)\n",
      "2024-06-21 05:57:06,545 INFO Failed analytes gamma-glutamylphenylalanine with error NaN, inf or invalid value detected in weights, estimation infeasible.\n",
      "INFO:analytics:Failed analytes gamma-glutamylphenylalanine with error NaN, inf or invalid value detected in weights, estimation infeasible.\n",
      "2024-06-21 05:57:06,574 INFO Failed analytes X-15136 with error NaN, inf or invalid value detected in weights, estimation infeasible.\n",
      "INFO:analytics:Failed analytes X-15136 with error NaN, inf or invalid value detected in weights, estimation infeasible.\n",
      "2024-06-21 05:57:06,684 INFO Failed analytes sphingadienine with error NaN, inf or invalid value detected in weights, estimation infeasible.\n",
      "INFO:analytics:Failed analytes sphingadienine with error NaN, inf or invalid value detected in weights, estimation infeasible.\n",
      "2024-06-21 05:57:06,759 INFO Failed analytes glutarate (C5-DC) with error NaN, inf or invalid value detected in weights, estimation infeasible.\n",
      "INFO:analytics:Failed analytes glutarate (C5-DC) with error NaN, inf or invalid value detected in weights, estimation infeasible.\n",
      "2024-06-21 05:57:06,790 INFO Failed analytes guanidinoacetate with error NaN, inf or invalid value detected in weights, estimation infeasible.\n",
      "INFO:analytics:Failed analytes guanidinoacetate with error NaN, inf or invalid value detected in weights, estimation infeasible.\n",
      "2024-06-21 05:57:06,899 INFO Failed analytes kynurenine with error NaN, inf or invalid value detected in weights, estimation infeasible.\n",
      "INFO:analytics:Failed analytes kynurenine with error NaN, inf or invalid value detected in weights, estimation infeasible.\n",
      "2024-06-21 05:57:06,928 INFO Failed analytes sphingomyelin (d18:1/17:0, d17:1/18:0, d19:1/16:0) with error NaN, inf or invalid value detected in weights, estimation infeasible.\n",
      "INFO:analytics:Failed analytes sphingomyelin (d18:1/17:0, d17:1/18:0, d19:1/16:0) with error NaN, inf or invalid value detected in weights, estimation infeasible.\n",
      "2024-06-21 05:57:07,284 INFO Failed analytes 1-(1-enyl-palmitoyl)-GPC (P-16:0)* with error NaN, inf or invalid value detected in weights, estimation infeasible.\n",
      "INFO:analytics:Failed analytes 1-(1-enyl-palmitoyl)-GPC (P-16:0)* with error NaN, inf or invalid value detected in weights, estimation infeasible.\n",
      "2024-06-21 05:57:07,401 INFO Failed analytes oleoyl-arachidonoyl-glycerol (18:1/20:4) [2]* with error NaN, inf or invalid value detected in weights, estimation infeasible.\n",
      "INFO:analytics:Failed analytes oleoyl-arachidonoyl-glycerol (18:1/20:4) [2]* with error NaN, inf or invalid value detected in weights, estimation infeasible.\n",
      "/opt/conda/envs/arivale-py3/lib/python3.7/site-packages/statsmodels/genmod/generalized_linear_model.py:774: RuntimeWarning: overflow encountered in true_divide\n",
      "  return np.sum(resid / self.family.variance(mu)) / self.df_resid\n",
      "2024-06-21 05:57:07,477 INFO Failed analytes uridine 5'-diphosphate (UDP) with error NaN, inf or invalid value detected in weights, estimation infeasible.\n",
      "INFO:analytics:Failed analytes uridine 5'-diphosphate (UDP) with error NaN, inf or invalid value detected in weights, estimation infeasible.\n",
      "2024-06-21 05:57:07,507 INFO Failed analytes sphingomyelin (d18:2/14:0, d18:1/14:1)* with error NaN, inf or invalid value detected in weights, estimation infeasible.\n",
      "INFO:analytics:Failed analytes sphingomyelin (d18:2/14:0, d18:1/14:1)* with error NaN, inf or invalid value detected in weights, estimation infeasible.\n",
      "2024-06-21 05:57:07,624 INFO Failed analytes 4-hydroxyphenylpyruvate with error NaN, inf or invalid value detected in weights, estimation infeasible.\n",
      "INFO:analytics:Failed analytes 4-hydroxyphenylpyruvate with error NaN, inf or invalid value detected in weights, estimation infeasible.\n",
      "2024-06-21 05:57:07,782 INFO Failed analytes ceramide (d18:2/24:1, d18:1/24:2)* with error NaN, inf or invalid value detected in weights, estimation infeasible.\n",
      "INFO:analytics:Failed analytes ceramide (d18:2/24:1, d18:1/24:2)* with error NaN, inf or invalid value detected in weights, estimation infeasible.\n",
      "2024-06-21 05:57:07,812 INFO Failed analytes gamma-carboxyglutamate with error NaN, inf or invalid value detected in weights, estimation infeasible.\n",
      "INFO:analytics:Failed analytes gamma-carboxyglutamate with error NaN, inf or invalid value detected in weights, estimation infeasible.\n",
      "2024-06-21 05:57:07,927 INFO Failed analytes taurochenodeoxycholic acid 3-sulfate with error NaN, inf or invalid value detected in weights, estimation infeasible.\n",
      "INFO:analytics:Failed analytes taurochenodeoxycholic acid 3-sulfate with error NaN, inf or invalid value detected in weights, estimation infeasible.\n",
      "2024-06-21 05:57:08,043 INFO Failed analytes X-22776 with error NaN, inf or invalid value detected in weights, estimation infeasible.\n",
      "INFO:analytics:Failed analytes X-22776 with error NaN, inf or invalid value detected in weights, estimation infeasible.\n",
      "2024-06-21 05:57:08,072 INFO Failed analytes N-acetylglutamate with error NaN, inf or invalid value detected in weights, estimation infeasible.\n",
      "INFO:analytics:Failed analytes N-acetylglutamate with error NaN, inf or invalid value detected in weights, estimation infeasible.\n",
      "2024-06-21 05:57:08,102 INFO Failed analytes sphingomyelin (d18:0/18:0, d19:0/17:0)* with error NaN, inf or invalid value detected in weights, estimation infeasible.\n",
      "INFO:analytics:Failed analytes sphingomyelin (d18:0/18:0, d19:0/17:0)* with error NaN, inf or invalid value detected in weights, estimation infeasible.\n",
      "2024-06-21 05:57:08,175 INFO Failed analytes methylphosphate with error NaN, inf or invalid value detected in weights, estimation infeasible.\n",
      "INFO:analytics:Failed analytes methylphosphate with error NaN, inf or invalid value detected in weights, estimation infeasible.\n",
      "/opt/conda/envs/arivale-py3/lib/python3.7/site-packages/statsmodels/genmod/families/family.py:697: RuntimeWarning: overflow encountered in true_divide\n",
      "  endog_mu = self._clean(endog / mu)\n",
      "/opt/conda/envs/arivale-py3/lib/python3.7/site-packages/statsmodels/genmod/families/family.py:698: RuntimeWarning: overflow encountered in true_divide\n",
      "  resid_dev = -np.log(endog_mu) + (endog - mu) / mu\n",
      "2024-06-21 05:57:08,206 INFO Failed analytes 2-aminoadipate with error NaN, inf or invalid value detected in weights, estimation infeasible.\n",
      "INFO:analytics:Failed analytes 2-aminoadipate with error NaN, inf or invalid value detected in weights, estimation infeasible.\n",
      "2024-06-21 05:57:08,235 INFO Failed analytes N-acetyl-isoputreanine with error NaN, inf or invalid value detected in weights, estimation infeasible.\n",
      "INFO:analytics:Failed analytes N-acetyl-isoputreanine with error NaN, inf or invalid value detected in weights, estimation infeasible.\n",
      "2024-06-21 05:57:08,451 INFO Failed analytes glucose 6-phosphate with error NaN, inf or invalid value detected in weights, estimation infeasible.\n",
      "INFO:analytics:Failed analytes glucose 6-phosphate with error NaN, inf or invalid value detected in weights, estimation infeasible.\n",
      "2024-06-21 05:57:08,481 INFO Failed analytes gamma-glutamyl-epsilon-lysine with error NaN, inf or invalid value detected in weights, estimation infeasible.\n",
      "INFO:analytics:Failed analytes gamma-glutamyl-epsilon-lysine with error NaN, inf or invalid value detected in weights, estimation infeasible.\n",
      "2024-06-21 05:57:08,512 INFO Failed analytes ornithine with error NaN, inf or invalid value detected in weights, estimation infeasible.\n",
      "INFO:analytics:Failed analytes ornithine with error NaN, inf or invalid value detected in weights, estimation infeasible.\n",
      "2024-06-21 05:57:08,543 INFO Failed analytes methionine sulfone with error NaN, inf or invalid value detected in weights, estimation infeasible.\n",
      "INFO:analytics:Failed analytes methionine sulfone with error NaN, inf or invalid value detected in weights, estimation infeasible.\n",
      "2024-06-21 05:57:08,644 INFO Failed analytes nicotinamide with error NaN, inf or invalid value detected in weights, estimation infeasible.\n",
      "INFO:analytics:Failed analytes nicotinamide with error NaN, inf or invalid value detected in weights, estimation infeasible.\n",
      "2024-06-21 05:57:08,759 INFO Failed analytes 1-(1-enyl-stearoyl)-2-oleoyl-GPE (P-18:0/18:1) with error NaN, inf or invalid value detected in weights, estimation infeasible.\n",
      "INFO:analytics:Failed analytes 1-(1-enyl-stearoyl)-2-oleoyl-GPE (P-18:0/18:1) with error NaN, inf or invalid value detected in weights, estimation infeasible.\n",
      "2024-06-21 05:57:08,835 INFO Failed analytes uridine 5'-triphosphate (UTP) with error NaN, inf or invalid value detected in weights, estimation infeasible.\n",
      "INFO:analytics:Failed analytes uridine 5'-triphosphate (UTP) with error NaN, inf or invalid value detected in weights, estimation infeasible.\n",
      "2024-06-21 05:57:08,864 INFO Failed analytes glucuronate with error NaN, inf or invalid value detected in weights, estimation infeasible.\n",
      "INFO:analytics:Failed analytes glucuronate with error NaN, inf or invalid value detected in weights, estimation infeasible.\n",
      "2024-06-21 05:57:08,893 INFO Failed analytes hydroxy-CMPF* with error NaN, inf or invalid value detected in weights, estimation infeasible.\n",
      "INFO:analytics:Failed analytes hydroxy-CMPF* with error NaN, inf or invalid value detected in weights, estimation infeasible.\n",
      "2024-06-21 05:57:08,964 INFO Failed analytes indolelactate with error NaN, inf or invalid value detected in weights, estimation infeasible.\n",
      "INFO:analytics:Failed analytes indolelactate with error NaN, inf or invalid value detected in weights, estimation infeasible.\n",
      "2024-06-21 05:57:09,034 INFO Failed analytes hydroxyasparagine** with error NaN, inf or invalid value detected in weights, estimation infeasible.\n",
      "INFO:analytics:Failed analytes hydroxyasparagine** with error NaN, inf or invalid value detected in weights, estimation infeasible.\n",
      "2024-06-21 05:57:09,070 INFO Failed analytes S-lactoylglutathione with error NaN, inf or invalid value detected in weights, estimation infeasible.\n",
      "INFO:analytics:Failed analytes S-lactoylglutathione with error NaN, inf or invalid value detected in weights, estimation infeasible.\n",
      "2024-06-21 05:57:09,099 INFO Failed analytes 4-acetamidobutanoate with error NaN, inf or invalid value detected in weights, estimation infeasible.\n",
      "INFO:analytics:Failed analytes 4-acetamidobutanoate with error NaN, inf or invalid value detected in weights, estimation infeasible.\n",
      "2024-06-21 05:57:09,130 INFO Failed analytes gamma-glutamylthreonine with error NaN, inf or invalid value detected in weights, estimation infeasible.\n",
      "INFO:analytics:Failed analytes gamma-glutamylthreonine with error NaN, inf or invalid value detected in weights, estimation infeasible.\n",
      "2024-06-21 05:57:09,162 INFO Failed analytes 1-(1-enyl-palmitoyl)-2-palmitoleoyl-GPC (P-16:0/16:1)* with error NaN, inf or invalid value detected in weights, estimation infeasible.\n",
      "INFO:analytics:Failed analytes 1-(1-enyl-palmitoyl)-2-palmitoleoyl-GPC (P-16:0/16:1)* with error NaN, inf or invalid value detected in weights, estimation infeasible.\n",
      "2024-06-21 05:57:09,229 INFO Failed analytes dehydroascorbate with error NaN, inf or invalid value detected in weights, estimation infeasible.\n",
      "INFO:analytics:Failed analytes dehydroascorbate with error NaN, inf or invalid value detected in weights, estimation infeasible.\n",
      "2024-06-21 05:57:09,384 INFO Failed analytes 5-methylthioadenosine (MTA) with error NaN, inf or invalid value detected in weights, estimation infeasible.\n",
      "INFO:analytics:Failed analytes 5-methylthioadenosine (MTA) with error NaN, inf or invalid value detected in weights, estimation infeasible.\n",
      "2024-06-21 05:57:09,551 INFO Failed analytes ribonate with error NaN, inf or invalid value detected in weights, estimation infeasible.\n",
      "INFO:analytics:Failed analytes ribonate with error NaN, inf or invalid value detected in weights, estimation infeasible.\n",
      "2024-06-21 05:57:09,579 INFO Failed analytes 1-palmitoyl-2-linoleoyl-GPI (16:0/18:2) with error NaN, inf or invalid value detected in weights, estimation infeasible.\n",
      "INFO:analytics:Failed analytes 1-palmitoyl-2-linoleoyl-GPI (16:0/18:2) with error NaN, inf or invalid value detected in weights, estimation infeasible.\n",
      "2024-06-21 05:57:09,755 INFO Failed analytes myristoylcarnitine (C14) with error NaN, inf or invalid value detected in weights, estimation infeasible.\n",
      "INFO:analytics:Failed analytes myristoylcarnitine (C14) with error NaN, inf or invalid value detected in weights, estimation infeasible.\n",
      "2024-06-21 05:57:09,785 INFO Failed analytes phenylacetylglutamine with error NaN, inf or invalid value detected in weights, estimation infeasible.\n",
      "INFO:analytics:Failed analytes phenylacetylglutamine with error NaN, inf or invalid value detected in weights, estimation infeasible.\n",
      "2024-06-21 05:57:10,463 INFO Failed analytes threonine with error NaN, inf or invalid value detected in weights, estimation infeasible.\n",
      "INFO:analytics:Failed analytes threonine with error NaN, inf or invalid value detected in weights, estimation infeasible.\n",
      "2024-06-21 05:57:10,494 INFO Failed analytes X-12798 with error NaN, inf or invalid value detected in weights, estimation infeasible.\n",
      "INFO:analytics:Failed analytes X-12798 with error NaN, inf or invalid value detected in weights, estimation infeasible.\n",
      "2024-06-21 05:57:10,525 INFO Failed analytes 1-oleoyl-GPE (18:1) with error NaN, inf or invalid value detected in weights, estimation infeasible.\n",
      "INFO:analytics:Failed analytes 1-oleoyl-GPE (18:1) with error NaN, inf or invalid value detected in weights, estimation infeasible.\n",
      "2024-06-21 05:57:10,527 INFO Finished 100 in 4.014 seconds (skipped 0)\n",
      "INFO:analytics:Finished 100 in 4.014 seconds (skipped 0)\n",
      "2024-06-21 05:57:10,703 INFO Failed analytes creatine with error NaN, inf or invalid value detected in weights, estimation infeasible.\n",
      "INFO:analytics:Failed analytes creatine with error NaN, inf or invalid value detected in weights, estimation infeasible.\n",
      "2024-06-21 05:57:10,859 INFO Failed analytes 1-methyl-4-imidazoleacetate with error NaN, inf or invalid value detected in weights, estimation infeasible.\n",
      "INFO:analytics:Failed analytes 1-methyl-4-imidazoleacetate with error NaN, inf or invalid value detected in weights, estimation infeasible.\n",
      "2024-06-21 05:57:11,065 INFO Failed analytes 1-oleoyl-2-arachidonoyl-GPI (18:1/20:4)* with error NaN, inf or invalid value detected in weights, estimation infeasible.\n",
      "INFO:analytics:Failed analytes 1-oleoyl-2-arachidonoyl-GPI (18:1/20:4)* with error NaN, inf or invalid value detected in weights, estimation infeasible.\n",
      "2024-06-21 05:57:11,139 INFO Failed analytes X-23737 with error NaN, inf or invalid value detected in weights, estimation infeasible.\n",
      "INFO:analytics:Failed analytes X-23737 with error NaN, inf or invalid value detected in weights, estimation infeasible.\n",
      "2024-06-21 05:57:11,174 INFO Failed analytes bilirubin degradation product, C17H18N2O4 (2)** with error NaN, inf or invalid value detected in weights, estimation infeasible.\n",
      "INFO:analytics:Failed analytes bilirubin degradation product, C17H18N2O4 (2)** with error NaN, inf or invalid value detected in weights, estimation infeasible.\n",
      "2024-06-21 05:57:11,204 INFO Failed analytes uridine 2'-monophosphate (2'-UMP)* with error NaN, inf or invalid value detected in weights, estimation infeasible.\n",
      "INFO:analytics:Failed analytes uridine 2'-monophosphate (2'-UMP)* with error NaN, inf or invalid value detected in weights, estimation infeasible.\n",
      "2024-06-21 05:57:11,319 INFO Failed analytes stearoyl-docosahexaenoyl-glycerol (18:0/22:6) [2]* with error NaN, inf or invalid value detected in weights, estimation infeasible.\n",
      "INFO:analytics:Failed analytes stearoyl-docosahexaenoyl-glycerol (18:0/22:6) [2]* with error NaN, inf or invalid value detected in weights, estimation infeasible.\n",
      "2024-06-21 05:57:11,348 INFO Failed analytes dimethylglycine with error NaN, inf or invalid value detected in weights, estimation infeasible.\n",
      "INFO:analytics:Failed analytes dimethylglycine with error NaN, inf or invalid value detected in weights, estimation infeasible.\n",
      "2024-06-21 05:57:11,419 INFO Failed analytes myo-inositol with error NaN, inf or invalid value detected in weights, estimation infeasible.\n",
      "INFO:analytics:Failed analytes myo-inositol with error NaN, inf or invalid value detected in weights, estimation infeasible.\n",
      "2024-06-21 05:57:11,451 INFO Failed analytes histamine with error NaN, inf or invalid value detected in weights, estimation infeasible.\n",
      "INFO:analytics:Failed analytes histamine with error NaN, inf or invalid value detected in weights, estimation infeasible.\n",
      "2024-06-21 05:57:11,482 INFO Failed analytes 5-oxoproline with error NaN, inf or invalid value detected in weights, estimation infeasible.\n",
      "INFO:analytics:Failed analytes 5-oxoproline with error NaN, inf or invalid value detected in weights, estimation infeasible.\n",
      "2024-06-21 05:57:11,561 INFO Failed analytes gamma-glutamylalanine with error NaN, inf or invalid value detected in weights, estimation infeasible.\n",
      "INFO:analytics:Failed analytes gamma-glutamylalanine with error NaN, inf or invalid value detected in weights, estimation infeasible.\n",
      "2024-06-21 05:57:11,675 INFO Failed analytes (3'-5')-adenylyluridine with error NaN, inf or invalid value detected in weights, estimation infeasible.\n",
      "INFO:analytics:Failed analytes (3'-5')-adenylyluridine with error NaN, inf or invalid value detected in weights, estimation infeasible.\n",
      "2024-06-21 05:57:11,822 INFO Failed analytes 1-(1-enyl-palmitoyl)-GPE (P-16:0)* with error NaN, inf or invalid value detected in weights, estimation infeasible.\n",
      "INFO:analytics:Failed analytes 1-(1-enyl-palmitoyl)-GPE (P-16:0)* with error NaN, inf or invalid value detected in weights, estimation infeasible.\n",
      "2024-06-21 05:57:11,896 INFO Failed analytes 1-stearoyl-GPS (18:0)* with error NaN, inf or invalid value detected in weights, estimation infeasible.\n",
      "INFO:analytics:Failed analytes 1-stearoyl-GPS (18:0)* with error NaN, inf or invalid value detected in weights, estimation infeasible.\n",
      "2024-06-21 05:57:11,985 INFO Failed analytes 1-(1-enyl-palmitoyl)-2-palmitoyl-GPC (P-16:0/16:0)* with error NaN, inf or invalid value detected in weights, estimation infeasible.\n",
      "INFO:analytics:Failed analytes 1-(1-enyl-palmitoyl)-2-palmitoyl-GPC (P-16:0/16:0)* with error NaN, inf or invalid value detected in weights, estimation infeasible.\n",
      "2024-06-21 05:57:12,059 INFO Failed analytes uridine with error NaN, inf or invalid value detected in weights, estimation infeasible.\n",
      "INFO:analytics:Failed analytes uridine with error NaN, inf or invalid value detected in weights, estimation infeasible.\n",
      "2024-06-21 05:57:12,127 INFO Failed analytes 3-(3-amino-3-carboxypropyl)uridine* with error NaN, inf or invalid value detected in weights, estimation infeasible.\n",
      "INFO:analytics:Failed analytes 3-(3-amino-3-carboxypropyl)uridine* with error NaN, inf or invalid value detected in weights, estimation infeasible.\n",
      "2024-06-21 05:57:12,156 INFO Failed analytes X-23739 with error NaN, inf or invalid value detected in weights, estimation infeasible.\n",
      "INFO:analytics:Failed analytes X-23739 with error NaN, inf or invalid value detected in weights, estimation infeasible.\n",
      "2024-06-21 05:57:12,188 INFO Failed analytes 21-hydroxypregnanolone disulfate with error NaN, inf or invalid value detected in weights, estimation infeasible.\n",
      "INFO:analytics:Failed analytes 21-hydroxypregnanolone disulfate with error NaN, inf or invalid value detected in weights, estimation infeasible.\n",
      "2024-06-21 05:57:12,221 INFO Failed analytes hexanoylcarnitine (C6) with error NaN, inf or invalid value detected in weights, estimation infeasible.\n",
      "INFO:analytics:Failed analytes hexanoylcarnitine (C6) with error NaN, inf or invalid value detected in weights, estimation infeasible.\n",
      "2024-06-21 05:57:12,302 INFO Failed analytes cytidine 5'-diphosphocholine with error NaN, inf or invalid value detected in weights, estimation infeasible.\n",
      "INFO:analytics:Failed analytes cytidine 5'-diphosphocholine with error NaN, inf or invalid value detected in weights, estimation infeasible.\n",
      "2024-06-21 05:57:12,401 INFO Failed analytes X-22918 with error NaN, inf or invalid value detected in weights, estimation infeasible.\n",
      "INFO:analytics:Failed analytes X-22918 with error NaN, inf or invalid value detected in weights, estimation infeasible.\n",
      "2024-06-21 05:57:12,430 INFO Failed analytes 1-palmitoyl-2-arachidonoyl-GPE (16:0/20:4)* with error NaN, inf or invalid value detected in weights, estimation infeasible.\n",
      "INFO:analytics:Failed analytes 1-palmitoyl-2-arachidonoyl-GPE (16:0/20:4)* with error NaN, inf or invalid value detected in weights, estimation infeasible.\n",
      "2024-06-21 05:57:12,544 INFO Failed analytes X-24546 with error NaN, inf or invalid value detected in weights, estimation infeasible.\n",
      "INFO:analytics:Failed analytes X-24546 with error NaN, inf or invalid value detected in weights, estimation infeasible.\n",
      "2024-06-21 05:57:12,734 INFO Failed analytes 21-hydroxypregnenolone disulfate with error NaN, inf or invalid value detected in weights, estimation infeasible.\n",
      "INFO:analytics:Failed analytes 21-hydroxypregnenolone disulfate with error NaN, inf or invalid value detected in weights, estimation infeasible.\n",
      "2024-06-21 05:57:12,877 INFO Failed analytes 3-methoxytyrosine with error NaN, inf or invalid value detected in weights, estimation infeasible.\n",
      "INFO:analytics:Failed analytes 3-methoxytyrosine with error NaN, inf or invalid value detected in weights, estimation infeasible.\n",
      "2024-06-21 05:57:13,064 INFO Failed analytes 3-hydroxy-3-methylglutarate with error NaN, inf or invalid value detected in weights, estimation infeasible.\n",
      "INFO:analytics:Failed analytes 3-hydroxy-3-methylglutarate with error NaN, inf or invalid value detected in weights, estimation infeasible.\n",
      "2024-06-21 05:57:13,135 INFO Failed analytes ribose with error NaN, inf or invalid value detected in weights, estimation infeasible.\n",
      "INFO:analytics:Failed analytes ribose with error NaN, inf or invalid value detected in weights, estimation infeasible.\n",
      "2024-06-21 05:57:13,205 INFO Failed analytes thiamin diphosphate with error NaN, inf or invalid value detected in weights, estimation infeasible.\n",
      "INFO:analytics:Failed analytes thiamin diphosphate with error NaN, inf or invalid value detected in weights, estimation infeasible.\n",
      "2024-06-21 05:57:13,538 INFO Failed analytes X-12104 with error NaN, inf or invalid value detected in weights, estimation infeasible.\n",
      "INFO:analytics:Failed analytes X-12104 with error NaN, inf or invalid value detected in weights, estimation infeasible.\n",
      "2024-06-21 05:57:13,691 INFO Failed analytes palmitoylcarnitine (C16) with error NaN, inf or invalid value detected in weights, estimation infeasible.\n",
      "INFO:analytics:Failed analytes palmitoylcarnitine (C16) with error NaN, inf or invalid value detected in weights, estimation infeasible.\n",
      "2024-06-21 05:57:13,721 INFO Failed analytes valine with error NaN, inf or invalid value detected in weights, estimation infeasible.\n",
      "INFO:analytics:Failed analytes valine with error NaN, inf or invalid value detected in weights, estimation infeasible.\n",
      "2024-06-21 05:57:13,856 INFO Failed analytes asparagine with error NaN, inf or invalid value detected in weights, estimation infeasible.\n",
      "INFO:analytics:Failed analytes asparagine with error NaN, inf or invalid value detected in weights, estimation infeasible.\n",
      "2024-06-21 05:57:13,884 INFO Failed analytes 16a-hydroxy DHEA 3-sulfate with error NaN, inf or invalid value detected in weights, estimation infeasible.\n",
      "INFO:analytics:Failed analytes 16a-hydroxy DHEA 3-sulfate with error NaN, inf or invalid value detected in weights, estimation infeasible.\n",
      "2024-06-21 05:57:14,042 INFO Failed analytes margaroylcarnitine (C17)* with error NaN, inf or invalid value detected in weights, estimation infeasible.\n",
      "INFO:analytics:Failed analytes margaroylcarnitine (C17)* with error NaN, inf or invalid value detected in weights, estimation infeasible.\n",
      "2024-06-21 05:57:14,348 INFO Failed analytes linoleoyl-linoleoyl-glycerol (18:2/18:2) [2]* with error NaN, inf or invalid value detected in weights, estimation infeasible.\n",
      "INFO:analytics:Failed analytes linoleoyl-linoleoyl-glycerol (18:2/18:2) [2]* with error NaN, inf or invalid value detected in weights, estimation infeasible.\n",
      "2024-06-21 05:57:14,378 INFO Failed analytes testosterone sulfate with error NaN, inf or invalid value detected in weights, estimation infeasible.\n",
      "INFO:analytics:Failed analytes testosterone sulfate with error NaN, inf or invalid value detected in weights, estimation infeasible.\n",
      "2024-06-21 05:57:14,412 INFO Failed analytes orotate with error NaN, inf or invalid value detected in weights, estimation infeasible.\n",
      "INFO:analytics:Failed analytes orotate with error NaN, inf or invalid value detected in weights, estimation infeasible.\n",
      "2024-06-21 05:57:14,494 INFO Failed analytes 2-hydroxyadipate with error NaN, inf or invalid value detected in weights, estimation infeasible.\n",
      "INFO:analytics:Failed analytes 2-hydroxyadipate with error NaN, inf or invalid value detected in weights, estimation infeasible.\n",
      "2024-06-21 05:57:14,536 INFO Finished 200 in 8.023 seconds (skipped 0)\n",
      "INFO:analytics:Finished 200 in 8.023 seconds (skipped 0)\n",
      "2024-06-21 05:57:14,623 INFO Failed analytes deoxycholate with error NaN, inf or invalid value detected in weights, estimation infeasible.\n",
      "INFO:analytics:Failed analytes deoxycholate with error NaN, inf or invalid value detected in weights, estimation infeasible.\n",
      "2024-06-21 05:57:14,699 INFO Failed analytes lactate with error NaN, inf or invalid value detected in weights, estimation infeasible.\n",
      "INFO:analytics:Failed analytes lactate with error NaN, inf or invalid value detected in weights, estimation infeasible.\n",
      "2024-06-21 05:57:14,767 INFO Failed analytes N-stearoyl-sphingosine (d18:1/18:0)* with error NaN, inf or invalid value detected in weights, estimation infeasible.\n",
      "INFO:analytics:Failed analytes N-stearoyl-sphingosine (d18:1/18:0)* with error NaN, inf or invalid value detected in weights, estimation infeasible.\n",
      "2024-06-21 05:57:15,066 INFO Failed analytes UDP-glucuronate with error NaN, inf or invalid value detected in weights, estimation infeasible.\n",
      "INFO:analytics:Failed analytes UDP-glucuronate with error NaN, inf or invalid value detected in weights, estimation infeasible.\n",
      "2024-06-21 05:57:15,180 INFO Failed analytes 1-myristoyl-2-arachidonoyl-GPC (14:0/20:4)* with error NaN, inf or invalid value detected in weights, estimation infeasible.\n",
      "INFO:analytics:Failed analytes 1-myristoyl-2-arachidonoyl-GPC (14:0/20:4)* with error NaN, inf or invalid value detected in weights, estimation infeasible.\n",
      "2024-06-21 05:57:15,209 INFO Failed analytes erythronate* with error NaN, inf or invalid value detected in weights, estimation infeasible.\n",
      "INFO:analytics:Failed analytes erythronate* with error NaN, inf or invalid value detected in weights, estimation infeasible.\n",
      "2024-06-21 05:57:15,285 INFO Failed analytes X-21364 with error NaN, inf or invalid value detected in weights, estimation infeasible.\n",
      "INFO:analytics:Failed analytes X-21364 with error NaN, inf or invalid value detected in weights, estimation infeasible.\n",
      "2024-06-21 05:57:15,355 INFO Failed analytes heme with error NaN, inf or invalid value detected in weights, estimation infeasible.\n",
      "INFO:analytics:Failed analytes heme with error NaN, inf or invalid value detected in weights, estimation infeasible.\n",
      "2024-06-21 05:57:15,393 INFO Failed analytes histidine betaine (hercynine)* with error NaN, inf or invalid value detected in weights, estimation infeasible.\n",
      "INFO:analytics:Failed analytes histidine betaine (hercynine)* with error NaN, inf or invalid value detected in weights, estimation infeasible.\n",
      "2024-06-21 05:57:15,510 INFO Failed analytes N1-methylinosine with error NaN, inf or invalid value detected in weights, estimation infeasible.\n",
      "INFO:analytics:Failed analytes N1-methylinosine with error NaN, inf or invalid value detected in weights, estimation infeasible.\n",
      "2024-06-21 05:57:15,865 INFO Failed analytes isoleucylhydroxyproline* with error NaN, inf or invalid value detected in weights, estimation infeasible.\n",
      "INFO:analytics:Failed analytes isoleucylhydroxyproline* with error NaN, inf or invalid value detected in weights, estimation infeasible.\n",
      "2024-06-21 05:57:16,083 INFO Failed analytes 1-stearoyl-GPI (18:0) with error NaN, inf or invalid value detected in weights, estimation infeasible.\n",
      "INFO:analytics:Failed analytes 1-stearoyl-GPI (18:0) with error NaN, inf or invalid value detected in weights, estimation infeasible.\n",
      "2024-06-21 05:57:16,248 INFO Failed analytes (3'-5')-guanylyladenosine* with error NaN, inf or invalid value detected in weights, estimation infeasible.\n",
      "INFO:analytics:Failed analytes (3'-5')-guanylyladenosine* with error NaN, inf or invalid value detected in weights, estimation infeasible.\n",
      "2024-06-21 05:57:16,279 INFO Failed analytes 1-stearoyl-GPC (18:0) with error NaN, inf or invalid value detected in weights, estimation infeasible.\n",
      "INFO:analytics:Failed analytes 1-stearoyl-GPC (18:0) with error NaN, inf or invalid value detected in weights, estimation infeasible.\n",
      "2024-06-21 05:57:16,309 INFO Failed analytes 1-linoleoyl-GPE (18:2)* with error NaN, inf or invalid value detected in weights, estimation infeasible.\n",
      "INFO:analytics:Failed analytes 1-linoleoyl-GPE (18:2)* with error NaN, inf or invalid value detected in weights, estimation infeasible.\n",
      "2024-06-21 05:57:16,380 INFO Failed analytes X-21470 with error NaN, inf or invalid value detected in weights, estimation infeasible.\n",
      "INFO:analytics:Failed analytes X-21470 with error NaN, inf or invalid value detected in weights, estimation infeasible.\n",
      "2024-06-21 05:57:16,448 INFO Failed analytes palmitoyl sphingomyelin (d18:1/16:0) with error NaN, inf or invalid value detected in weights, estimation infeasible.\n",
      "INFO:analytics:Failed analytes palmitoyl sphingomyelin (d18:1/16:0) with error NaN, inf or invalid value detected in weights, estimation infeasible.\n",
      "2024-06-21 05:57:16,478 INFO Failed analytes methionine with error NaN, inf or invalid value detected in weights, estimation infeasible.\n",
      "INFO:analytics:Failed analytes methionine with error NaN, inf or invalid value detected in weights, estimation infeasible.\n",
      "2024-06-21 05:57:16,560 INFO Failed analytes N-acetylvaline with error NaN, inf or invalid value detected in weights, estimation infeasible.\n",
      "INFO:analytics:Failed analytes N-acetylvaline with error NaN, inf or invalid value detected in weights, estimation infeasible.\n",
      "2024-06-21 05:57:16,629 INFO Failed analytes N-arachidonoyltaurine with error NaN, inf or invalid value detected in weights, estimation infeasible.\n",
      "INFO:analytics:Failed analytes N-arachidonoyltaurine with error NaN, inf or invalid value detected in weights, estimation infeasible.\n",
      "2024-06-21 05:57:16,660 INFO Failed analytes gamma-glutamylglutamine with error NaN, inf or invalid value detected in weights, estimation infeasible.\n",
      "INFO:analytics:Failed analytes gamma-glutamylglutamine with error NaN, inf or invalid value detected in weights, estimation infeasible.\n",
      "2024-06-21 05:57:16,690 INFO Failed analytes 3-carboxy-4-methyl-5-pentyl-2-furanpropionate (3-CMPFP)** with error NaN, inf or invalid value detected in weights, estimation infeasible.\n",
      "INFO:analytics:Failed analytes 3-carboxy-4-methyl-5-pentyl-2-furanpropionate (3-CMPFP)** with error NaN, inf or invalid value detected in weights, estimation infeasible.\n",
      "2024-06-21 05:57:16,720 INFO Failed analytes S-adenosylhomocysteine (SAH) with error NaN, inf or invalid value detected in weights, estimation infeasible.\n",
      "INFO:analytics:Failed analytes S-adenosylhomocysteine (SAH) with error NaN, inf or invalid value detected in weights, estimation infeasible.\n",
      "2024-06-21 05:57:16,787 INFO Failed analytes palmitoyl-sphingosine-phosphoethanolamine (d18:1/16:0) with error NaN, inf or invalid value detected in weights, estimation infeasible.\n",
      "INFO:analytics:Failed analytes palmitoyl-sphingosine-phosphoethanolamine (d18:1/16:0) with error NaN, inf or invalid value detected in weights, estimation infeasible.\n",
      "2024-06-21 05:57:16,816 INFO Failed analytes alanylleucine with error NaN, inf or invalid value detected in weights, estimation infeasible.\n",
      "INFO:analytics:Failed analytes alanylleucine with error NaN, inf or invalid value detected in weights, estimation infeasible.\n",
      "2024-06-21 05:57:16,846 INFO Failed analytes tyrosine with error NaN, inf or invalid value detected in weights, estimation infeasible.\n",
      "INFO:analytics:Failed analytes tyrosine with error NaN, inf or invalid value detected in weights, estimation infeasible.\n",
      "2024-06-21 05:57:17,059 INFO Failed analytes 5alpha-pregnan-3beta-ol,20-one sulfate with error NaN, inf or invalid value detected in weights, estimation infeasible.\n",
      "INFO:analytics:Failed analytes 5alpha-pregnan-3beta-ol,20-one sulfate with error NaN, inf or invalid value detected in weights, estimation infeasible.\n",
      "2024-06-21 05:57:17,240 INFO Failed analytes X-23481 with error NaN, inf or invalid value detected in weights, estimation infeasible.\n",
      "INFO:analytics:Failed analytes X-23481 with error NaN, inf or invalid value detected in weights, estimation infeasible.\n",
      "2024-06-21 05:57:17,280 INFO Failed analytes trizma acetate with error NaN, inf or invalid value detected in weights, estimation infeasible.\n",
      "INFO:analytics:Failed analytes trizma acetate with error NaN, inf or invalid value detected in weights, estimation infeasible.\n",
      "2024-06-21 05:57:17,345 INFO Failed analytes cis-4-decenoate (10:1n6)* with error NaN, inf or invalid value detected in weights, estimation infeasible.\n",
      "INFO:analytics:Failed analytes cis-4-decenoate (10:1n6)* with error NaN, inf or invalid value detected in weights, estimation infeasible.\n",
      "2024-06-21 05:57:17,600 INFO Failed analytes 1-oleoyl-2-docosahexaenoyl-GPE (18:1/22:6)* with error NaN, inf or invalid value detected in weights, estimation infeasible.\n",
      "INFO:analytics:Failed analytes 1-oleoyl-2-docosahexaenoyl-GPE (18:1/22:6)* with error NaN, inf or invalid value detected in weights, estimation infeasible.\n",
      "2024-06-21 05:57:17,787 INFO Failed analytes O-sulfo-L-tyrosine with error NaN, inf or invalid value detected in weights, estimation infeasible.\n",
      "INFO:analytics:Failed analytes O-sulfo-L-tyrosine with error NaN, inf or invalid value detected in weights, estimation infeasible.\n",
      "2024-06-21 05:57:17,901 INFO Failed analytes adrenoylcarnitine (C22:4)* with error NaN, inf or invalid value detected in weights, estimation infeasible.\n",
      "INFO:analytics:Failed analytes adrenoylcarnitine (C22:4)* with error NaN, inf or invalid value detected in weights, estimation infeasible.\n",
      "2024-06-21 05:57:18,048 INFO Failed analytes 1-palmitoyl-2-stearoyl-GPE (16:0/18:0)* with error NaN, inf or invalid value detected in weights, estimation infeasible.\n",
      "INFO:analytics:Failed analytes 1-palmitoyl-2-stearoyl-GPE (16:0/18:0)* with error NaN, inf or invalid value detected in weights, estimation infeasible.\n",
      "2024-06-21 05:57:18,135 INFO Failed analytes X-11381 with error NaN, inf or invalid value detected in weights, estimation infeasible.\n",
      "INFO:analytics:Failed analytes X-11381 with error NaN, inf or invalid value detected in weights, estimation infeasible.\n",
      "2024-06-21 05:57:18,212 INFO Failed analytes succinate with error NaN, inf or invalid value detected in weights, estimation infeasible.\n",
      "INFO:analytics:Failed analytes succinate with error NaN, inf or invalid value detected in weights, estimation infeasible.\n",
      "2024-06-21 05:57:18,297 INFO Failed analytes 3-hydroxymyristate with error NaN, inf or invalid value detected in weights, estimation infeasible.\n",
      "INFO:analytics:Failed analytes 3-hydroxymyristate with error NaN, inf or invalid value detected in weights, estimation infeasible.\n",
      "2024-06-21 05:57:18,327 INFO Failed analytes adenosine 2'-monophosphate (2'-AMP) with error NaN, inf or invalid value detected in weights, estimation infeasible.\n",
      "INFO:analytics:Failed analytes adenosine 2'-monophosphate (2'-AMP) with error NaN, inf or invalid value detected in weights, estimation infeasible.\n",
      "2024-06-21 05:57:18,417 INFO Finished 300 in 11.905 seconds (skipped 0)\n",
      "INFO:analytics:Finished 300 in 11.905 seconds (skipped 0)\n",
      "2024-06-21 05:57:18,488 INFO Failed analytes 1-linoleoyl-GPC (18:2) with error NaN, inf or invalid value detected in weights, estimation infeasible.\n",
      "INFO:analytics:Failed analytes 1-linoleoyl-GPC (18:2) with error NaN, inf or invalid value detected in weights, estimation infeasible.\n",
      "2024-06-21 05:57:18,683 INFO Failed analytes N-acetylthreonine with error NaN, inf or invalid value detected in weights, estimation infeasible.\n",
      "INFO:analytics:Failed analytes N-acetylthreonine with error NaN, inf or invalid value detected in weights, estimation infeasible.\n",
      "2024-06-21 05:57:18,731 INFO Failed analytes stearoyl-arachidonoyl-glycerol (18:0/20:4) [2]* with error NaN, inf or invalid value detected in weights, estimation infeasible.\n",
      "INFO:analytics:Failed analytes stearoyl-arachidonoyl-glycerol (18:0/20:4) [2]* with error NaN, inf or invalid value detected in weights, estimation infeasible.\n",
      "2024-06-21 05:57:18,819 INFO Failed analytes oleoyl-linoleoyl-glycerol (18:1/18:2) [2] with error NaN, inf or invalid value detected in weights, estimation infeasible.\n",
      "INFO:analytics:Failed analytes oleoyl-linoleoyl-glycerol (18:1/18:2) [2] with error NaN, inf or invalid value detected in weights, estimation infeasible.\n",
      "2024-06-21 05:57:19,146 INFO Failed analytes X-23974 with error NaN, inf or invalid value detected in weights, estimation infeasible.\n",
      "INFO:analytics:Failed analytes X-23974 with error NaN, inf or invalid value detected in weights, estimation infeasible.\n",
      "2024-06-21 05:57:19,301 INFO Failed analytes 1-myristoyl-2-palmitoyl-GPC (14:0/16:0) with error NaN, inf or invalid value detected in weights, estimation infeasible.\n",
      "INFO:analytics:Failed analytes 1-myristoyl-2-palmitoyl-GPC (14:0/16:0) with error NaN, inf or invalid value detected in weights, estimation infeasible.\n",
      "2024-06-21 05:57:19,330 INFO Failed analytes 3-phosphoglycerate with error NaN, inf or invalid value detected in weights, estimation infeasible.\n",
      "INFO:analytics:Failed analytes 3-phosphoglycerate with error NaN, inf or invalid value detected in weights, estimation infeasible.\n",
      "2024-06-21 05:57:19,528 INFO Failed analytes stearoylcarnitine (C18) with error NaN, inf or invalid value detected in weights, estimation infeasible.\n",
      "INFO:analytics:Failed analytes stearoylcarnitine (C18) with error NaN, inf or invalid value detected in weights, estimation infeasible.\n",
      "2024-06-21 05:57:19,636 INFO Failed analytes N-acetylaspartate (NAA) with error NaN, inf or invalid value detected in weights, estimation infeasible.\n",
      "INFO:analytics:Failed analytes N-acetylaspartate (NAA) with error NaN, inf or invalid value detected in weights, estimation infeasible.\n",
      "2024-06-21 05:57:19,705 INFO Failed analytes butenoylcarnitine (C4:1) with error NaN, inf or invalid value detected in weights, estimation infeasible.\n",
      "INFO:analytics:Failed analytes butenoylcarnitine (C4:1) with error NaN, inf or invalid value detected in weights, estimation infeasible.\n",
      "2024-06-21 05:57:19,782 INFO Failed analytes X-24027 with error NaN, inf or invalid value detected in weights, estimation infeasible.\n",
      "INFO:analytics:Failed analytes X-24027 with error NaN, inf or invalid value detected in weights, estimation infeasible.\n",
      "2024-06-21 05:57:19,861 INFO Failed analytes dodecadienoate (12:2)* with error NaN, inf or invalid value detected in weights, estimation infeasible.\n",
      "INFO:analytics:Failed analytes dodecadienoate (12:2)* with error NaN, inf or invalid value detected in weights, estimation infeasible.\n",
      "2024-06-21 05:57:19,930 INFO Failed analytes sphingosine with error NaN, inf or invalid value detected in weights, estimation infeasible.\n",
      "INFO:analytics:Failed analytes sphingosine with error NaN, inf or invalid value detected in weights, estimation infeasible.\n",
      "2024-06-21 05:57:19,997 INFO Failed analytes serine with error NaN, inf or invalid value detected in weights, estimation infeasible.\n",
      "INFO:analytics:Failed analytes serine with error NaN, inf or invalid value detected in weights, estimation infeasible.\n",
      "2024-06-21 05:57:20,095 INFO Failed analytes phenyllactate (PLA) with error NaN, inf or invalid value detected in weights, estimation infeasible.\n",
      "INFO:analytics:Failed analytes phenyllactate (PLA) with error NaN, inf or invalid value detected in weights, estimation infeasible.\n",
      "2024-06-21 05:57:20,288 INFO Failed analytes sphingomyelin (d18:2/24:2)* with error NaN, inf or invalid value detected in weights, estimation infeasible.\n",
      "INFO:analytics:Failed analytes sphingomyelin (d18:2/24:2)* with error NaN, inf or invalid value detected in weights, estimation infeasible.\n",
      "2024-06-21 05:57:20,321 INFO Failed analytes adenosine 3',5'-diphosphate with error NaN, inf or invalid value detected in weights, estimation infeasible.\n",
      "INFO:analytics:Failed analytes adenosine 3',5'-diphosphate with error NaN, inf or invalid value detected in weights, estimation infeasible.\n",
      "2024-06-21 05:57:20,510 INFO Failed analytes azelate (C9-DC) with error NaN, inf or invalid value detected in weights, estimation infeasible.\n",
      "INFO:analytics:Failed analytes azelate (C9-DC) with error NaN, inf or invalid value detected in weights, estimation infeasible.\n",
      "2024-06-21 05:57:20,914 INFO Failed analytes 2'-deoxyinosine with error NaN, inf or invalid value detected in weights, estimation infeasible.\n",
      "INFO:analytics:Failed analytes 2'-deoxyinosine with error NaN, inf or invalid value detected in weights, estimation infeasible.\n",
      "2024-06-21 05:57:20,943 INFO Failed analytes 1,2-dilinoleoyl-GPC (18:2/18:2) with error NaN, inf or invalid value detected in weights, estimation infeasible.\n",
      "INFO:analytics:Failed analytes 1,2-dilinoleoyl-GPC (18:2/18:2) with error NaN, inf or invalid value detected in weights, estimation infeasible.\n",
      "2024-06-21 05:57:20,975 INFO Failed analytes hypotaurine with error NaN, inf or invalid value detected in weights, estimation infeasible.\n",
      "INFO:analytics:Failed analytes hypotaurine with error NaN, inf or invalid value detected in weights, estimation infeasible.\n",
      "2024-06-21 05:57:21,047 INFO Failed analytes glycerate with error NaN, inf or invalid value detected in weights, estimation infeasible.\n",
      "INFO:analytics:Failed analytes glycerate with error NaN, inf or invalid value detected in weights, estimation infeasible.\n",
      "2024-06-21 05:57:21,119 INFO Failed analytes palmitoyl-linoleoyl-glycerol (16:0/18:2) [2]* with error NaN, inf or invalid value detected in weights, estimation infeasible.\n",
      "INFO:analytics:Failed analytes palmitoyl-linoleoyl-glycerol (16:0/18:2) [2]* with error NaN, inf or invalid value detected in weights, estimation infeasible.\n",
      "2024-06-21 05:57:21,149 INFO Failed analytes UDP-glucose with error NaN, inf or invalid value detected in weights, estimation infeasible.\n",
      "INFO:analytics:Failed analytes UDP-glucose with error NaN, inf or invalid value detected in weights, estimation infeasible.\n",
      "2024-06-21 05:57:21,179 INFO Failed analytes 1-palmitoleoylglycerol (16:1)* with error NaN, inf or invalid value detected in weights, estimation infeasible.\n",
      "INFO:analytics:Failed analytes 1-palmitoleoylglycerol (16:1)* with error NaN, inf or invalid value detected in weights, estimation infeasible.\n",
      "2024-06-21 05:57:21,296 INFO Failed analytes carnitine with error NaN, inf or invalid value detected in weights, estimation infeasible.\n",
      "INFO:analytics:Failed analytes carnitine with error NaN, inf or invalid value detected in weights, estimation infeasible.\n",
      "2024-06-21 05:57:21,325 INFO Failed analytes phenylalanine with error NaN, inf or invalid value detected in weights, estimation infeasible.\n",
      "INFO:analytics:Failed analytes phenylalanine with error NaN, inf or invalid value detected in weights, estimation infeasible.\n",
      "2024-06-21 05:57:21,359 INFO Failed analytes glycine with error NaN, inf or invalid value detected in weights, estimation infeasible.\n",
      "INFO:analytics:Failed analytes glycine with error NaN, inf or invalid value detected in weights, estimation infeasible.\n",
      "2024-06-21 05:57:21,478 INFO Failed analytes 5alpha-pregnan-3beta,20alpha-diol disulfate with error NaN, inf or invalid value detected in weights, estimation infeasible.\n",
      "INFO:analytics:Failed analytes 5alpha-pregnan-3beta,20alpha-diol disulfate with error NaN, inf or invalid value detected in weights, estimation infeasible.\n",
      "2024-06-21 05:57:21,690 INFO Failed analytes N-acetylhistidine with error NaN, inf or invalid value detected in weights, estimation infeasible.\n",
      "INFO:analytics:Failed analytes N-acetylhistidine with error NaN, inf or invalid value detected in weights, estimation infeasible.\n",
      "2024-06-21 05:57:21,718 INFO Failed analytes ceramide (d18:1/17:0, d17:1/18:0)* with error NaN, inf or invalid value detected in weights, estimation infeasible.\n",
      "INFO:analytics:Failed analytes ceramide (d18:1/17:0, d17:1/18:0)* with error NaN, inf or invalid value detected in weights, estimation infeasible.\n",
      "2024-06-21 05:57:21,748 INFO Failed analytes X-10445 with error NaN, inf or invalid value detected in weights, estimation infeasible.\n",
      "INFO:analytics:Failed analytes X-10445 with error NaN, inf or invalid value detected in weights, estimation infeasible.\n",
      "2024-06-21 05:57:21,776 INFO Failed analytes xanthine with error NaN, inf or invalid value detected in weights, estimation infeasible.\n",
      "INFO:analytics:Failed analytes xanthine with error NaN, inf or invalid value detected in weights, estimation infeasible.\n",
      "2024-06-21 05:57:21,846 INFO Failed analytes stearidonate (18:4n3) with error NaN, inf or invalid value detected in weights, estimation infeasible.\n",
      "INFO:analytics:Failed analytes stearidonate (18:4n3) with error NaN, inf or invalid value detected in weights, estimation infeasible.\n",
      "2024-06-21 05:57:21,958 INFO Failed analytes cytosine with error NaN, inf or invalid value detected in weights, estimation infeasible.\n",
      "INFO:analytics:Failed analytes cytosine with error NaN, inf or invalid value detected in weights, estimation infeasible.\n",
      "2024-06-21 05:57:22,038 INFO Failed analytes 1-stearoyl-2-docosahexaenoyl-GPC (18:0/22:6) with error NaN, inf or invalid value detected in weights, estimation infeasible.\n",
      "INFO:analytics:Failed analytes 1-stearoyl-2-docosahexaenoyl-GPC (18:0/22:6) with error NaN, inf or invalid value detected in weights, estimation infeasible.\n",
      "2024-06-21 05:57:22,066 INFO Failed analytes (3'-5')-uridylyluridine with error NaN, inf or invalid value detected in weights, estimation infeasible.\n",
      "INFO:analytics:Failed analytes (3'-5')-uridylyluridine with error NaN, inf or invalid value detected in weights, estimation infeasible.\n",
      "2024-06-21 05:57:22,106 INFO Failed analytes CoA-glutathione* with error NaN, inf or invalid value detected in weights, estimation infeasible.\n",
      "INFO:analytics:Failed analytes CoA-glutathione* with error NaN, inf or invalid value detected in weights, estimation infeasible.\n",
      "2024-06-21 05:57:22,139 INFO Failed analytes 1-palmitoyl-2-oleoyl-GPE (16:0/18:1) with error NaN, inf or invalid value detected in weights, estimation infeasible.\n",
      "INFO:analytics:Failed analytes 1-palmitoyl-2-oleoyl-GPE (16:0/18:1) with error NaN, inf or invalid value detected in weights, estimation infeasible.\n",
      "2024-06-21 05:57:22,243 INFO Failed analytes kynurenate with error NaN, inf or invalid value detected in weights, estimation infeasible.\n",
      "INFO:analytics:Failed analytes kynurenate with error NaN, inf or invalid value detected in weights, estimation infeasible.\n",
      "2024-06-21 05:57:22,277 INFO Failed analytes succinylcarnitine (C4-DC) with error NaN, inf or invalid value detected in weights, estimation infeasible.\n",
      "INFO:analytics:Failed analytes succinylcarnitine (C4-DC) with error NaN, inf or invalid value detected in weights, estimation infeasible.\n",
      "2024-06-21 05:57:22,311 INFO Failed analytes sphingomyelin (d18:1/22:2, d18:2/22:1, d16:1/24:2)* with error NaN, inf or invalid value detected in weights, estimation infeasible.\n",
      "INFO:analytics:Failed analytes sphingomyelin (d18:1/22:2, d18:2/22:1, d16:1/24:2)* with error NaN, inf or invalid value detected in weights, estimation infeasible.\n",
      "2024-06-21 05:57:22,344 INFO Failed analytes gamma-tocopherol/beta-tocopherol with error NaN, inf or invalid value detected in weights, estimation infeasible.\n",
      "INFO:analytics:Failed analytes gamma-tocopherol/beta-tocopherol with error NaN, inf or invalid value detected in weights, estimation infeasible.\n",
      "2024-06-21 05:57:22,393 INFO Finished 400 in 15.881 seconds (skipped 0)\n",
      "INFO:analytics:Finished 400 in 15.881 seconds (skipped 0)\n",
      "2024-06-21 05:57:22,527 INFO Failed analytes sphingomyelin (d18:2/16:0, d18:1/16:1)* with error NaN, inf or invalid value detected in weights, estimation infeasible.\n",
      "INFO:analytics:Failed analytes sphingomyelin (d18:2/16:0, d18:1/16:1)* with error NaN, inf or invalid value detected in weights, estimation infeasible.\n",
      "2024-06-21 05:57:22,561 INFO Failed analytes X-11372 with error NaN, inf or invalid value detected in weights, estimation infeasible.\n",
      "INFO:analytics:Failed analytes X-11372 with error NaN, inf or invalid value detected in weights, estimation infeasible.\n",
      "2024-06-21 05:57:22,882 INFO Failed analytes 3-hydroxyarachidate* with error NaN, inf or invalid value detected in weights, estimation infeasible.\n",
      "INFO:analytics:Failed analytes 3-hydroxyarachidate* with error NaN, inf or invalid value detected in weights, estimation infeasible.\n",
      "2024-06-21 05:57:22,914 INFO Failed analytes (3'-5')-guanylyluridine with error NaN, inf or invalid value detected in weights, estimation infeasible.\n",
      "INFO:analytics:Failed analytes (3'-5')-guanylyluridine with error NaN, inf or invalid value detected in weights, estimation infeasible.\n",
      "2024-06-21 05:57:22,951 INFO Failed analytes estriol 16-glucuronide with error NaN, inf or invalid value detected in weights, estimation infeasible.\n",
      "INFO:analytics:Failed analytes estriol 16-glucuronide with error NaN, inf or invalid value detected in weights, estimation infeasible.\n",
      "2024-06-21 05:57:23,154 INFO Failed analytes sphingomyelin (d18:1/25:0, d19:0/24:1, d20:1/23:0, d19:1/24:0)* with error NaN, inf or invalid value detected in weights, estimation infeasible.\n",
      "INFO:analytics:Failed analytes sphingomyelin (d18:1/25:0, d19:0/24:1, d20:1/23:0, d19:1/24:0)* with error NaN, inf or invalid value detected in weights, estimation infeasible.\n",
      "2024-06-21 05:57:23,421 INFO Failed analytes palmitoyl-arachidonoyl-glycerol (16:0/20:4) [1]* with error NaN, inf or invalid value detected in weights, estimation infeasible.\n",
      "INFO:analytics:Failed analytes palmitoyl-arachidonoyl-glycerol (16:0/20:4) [1]* with error NaN, inf or invalid value detected in weights, estimation infeasible.\n",
      "2024-06-21 05:57:23,498 INFO Failed analytes 1,2-dipalmitoyl-GPE (16:0/16:0)* with error NaN, inf or invalid value detected in weights, estimation infeasible.\n",
      "INFO:analytics:Failed analytes 1,2-dipalmitoyl-GPE (16:0/16:0)* with error NaN, inf or invalid value detected in weights, estimation infeasible.\n",
      "2024-06-21 05:57:23,762 INFO Failed analytes C-glycosyltryptophan with error NaN, inf or invalid value detected in weights, estimation infeasible.\n",
      "INFO:analytics:Failed analytes C-glycosyltryptophan with error NaN, inf or invalid value detected in weights, estimation infeasible.\n",
      "2024-06-21 05:57:23,844 INFO Failed analytes methionine sulfoxide with error NaN, inf or invalid value detected in weights, estimation infeasible.\n",
      "INFO:analytics:Failed analytes methionine sulfoxide with error NaN, inf or invalid value detected in weights, estimation infeasible.\n",
      "2024-06-21 05:57:24,205 INFO Failed analytes sphingomyelin (d17:2/16:0, d18:2/15:0)* with error NaN, inf or invalid value detected in weights, estimation infeasible.\n",
      "INFO:analytics:Failed analytes sphingomyelin (d17:2/16:0, d18:2/15:0)* with error NaN, inf or invalid value detected in weights, estimation infeasible.\n",
      "2024-06-21 05:57:24,236 INFO Failed analytes taurocholenate sulfate* with error NaN, inf or invalid value detected in weights, estimation infeasible.\n",
      "INFO:analytics:Failed analytes taurocholenate sulfate* with error NaN, inf or invalid value detected in weights, estimation infeasible.\n",
      "2024-06-21 05:57:24,304 INFO Failed analytes 1-oleoyl-2-arachidonoyl-GPE (18:1/20:4)* with error NaN, inf or invalid value detected in weights, estimation infeasible.\n",
      "INFO:analytics:Failed analytes 1-oleoyl-2-arachidonoyl-GPE (18:1/20:4)* with error NaN, inf or invalid value detected in weights, estimation infeasible.\n",
      "2024-06-21 05:57:24,522 INFO Failed analytes nicotinamide ribonucleotide (NMN) with error NaN, inf or invalid value detected in weights, estimation infeasible.\n",
      "INFO:analytics:Failed analytes nicotinamide ribonucleotide (NMN) with error NaN, inf or invalid value detected in weights, estimation infeasible.\n",
      "2024-06-21 05:57:24,550 INFO Failed analytes (3'-5')-uridylyladenosine with error NaN, inf or invalid value detected in weights, estimation infeasible.\n",
      "INFO:analytics:Failed analytes (3'-5')-uridylyladenosine with error NaN, inf or invalid value detected in weights, estimation infeasible.\n",
      "2024-06-21 05:57:24,748 INFO Failed analytes behenoyl dihydrosphingomyelin (d18:0/22:0)* with error NaN, inf or invalid value detected in weights, estimation infeasible.\n",
      "INFO:analytics:Failed analytes behenoyl dihydrosphingomyelin (d18:0/22:0)* with error NaN, inf or invalid value detected in weights, estimation infeasible.\n",
      "2024-06-21 05:57:24,822 INFO Failed analytes sphingomyelin (d18:2/18:1)* with error NaN, inf or invalid value detected in weights, estimation infeasible.\n",
      "INFO:analytics:Failed analytes sphingomyelin (d18:2/18:1)* with error NaN, inf or invalid value detected in weights, estimation infeasible.\n",
      "2024-06-21 05:57:24,852 INFO Failed analytes N-acetylmethionine with error NaN, inf or invalid value detected in weights, estimation infeasible.\n",
      "INFO:analytics:Failed analytes N-acetylmethionine with error NaN, inf or invalid value detected in weights, estimation infeasible.\n",
      "2024-06-21 05:57:25,409 INFO Failed analytes pregnenediol disulfate (C21H34O8S2)* with error NaN, inf or invalid value detected in weights, estimation infeasible.\n",
      "INFO:analytics:Failed analytes pregnenediol disulfate (C21H34O8S2)* with error NaN, inf or invalid value detected in weights, estimation infeasible.\n",
      "2024-06-21 05:57:25,691 INFO Failed analytes N-acetylmethionine sulfoxide with error NaN, inf or invalid value detected in weights, estimation infeasible.\n",
      "INFO:analytics:Failed analytes N-acetylmethionine sulfoxide with error NaN, inf or invalid value detected in weights, estimation infeasible.\n",
      "2024-06-21 05:57:25,721 INFO Failed analytes adenosine 3',5'-cyclic monophosphate (cAMP) with error NaN, inf or invalid value detected in weights, estimation infeasible.\n",
      "INFO:analytics:Failed analytes adenosine 3',5'-cyclic monophosphate (cAMP) with error NaN, inf or invalid value detected in weights, estimation infeasible.\n",
      "2024-06-21 05:57:25,750 INFO Failed analytes N-acetylserine with error NaN, inf or invalid value detected in weights, estimation infeasible.\n",
      "INFO:analytics:Failed analytes N-acetylserine with error NaN, inf or invalid value detected in weights, estimation infeasible.\n",
      "2024-06-21 05:57:25,830 INFO Failed analytes guanosine 2'-monophosphate (2'-GMP)* with error NaN, inf or invalid value detected in weights, estimation infeasible.\n",
      "INFO:analytics:Failed analytes guanosine 2'-monophosphate (2'-GMP)* with error NaN, inf or invalid value detected in weights, estimation infeasible.\n",
      "2024-06-21 05:57:25,860 INFO Failed analytes N-linoleoyltaurine* with error NaN, inf or invalid value detected in weights, estimation infeasible.\n",
      "INFO:analytics:Failed analytes N-linoleoyltaurine* with error NaN, inf or invalid value detected in weights, estimation infeasible.\n",
      "2024-06-21 05:57:26,090 INFO Failed analytes S-methylcysteine with error NaN, inf or invalid value detected in weights, estimation infeasible.\n",
      "INFO:analytics:Failed analytes S-methylcysteine with error NaN, inf or invalid value detected in weights, estimation infeasible.\n",
      "2024-06-21 05:57:26,119 INFO Failed analytes X-25026 with error NaN, inf or invalid value detected in weights, estimation infeasible.\n",
      "INFO:analytics:Failed analytes X-25026 with error NaN, inf or invalid value detected in weights, estimation infeasible.\n",
      "2024-06-21 05:57:26,189 INFO Failed analytes ceramide (d18:1/14:0, d16:1/16:0)* with error NaN, inf or invalid value detected in weights, estimation infeasible.\n",
      "INFO:analytics:Failed analytes ceramide (d18:1/14:0, d16:1/16:0)* with error NaN, inf or invalid value detected in weights, estimation infeasible.\n",
      "2024-06-21 05:57:26,424 INFO Failed analytes X-25047 with error NaN, inf or invalid value detected in weights, estimation infeasible.\n",
      "INFO:analytics:Failed analytes X-25047 with error NaN, inf or invalid value detected in weights, estimation infeasible.\n",
      "2024-06-21 05:57:26,453 INFO Failed analytes X-23639 with error NaN, inf or invalid value detected in weights, estimation infeasible.\n",
      "INFO:analytics:Failed analytes X-23639 with error NaN, inf or invalid value detected in weights, estimation infeasible.\n",
      "2024-06-21 05:57:26,481 INFO Failed analytes N-acetyl-aspartyl-glutamate (NAAG) with error NaN, inf or invalid value detected in weights, estimation infeasible.\n",
      "INFO:analytics:Failed analytes N-acetyl-aspartyl-glutamate (NAAG) with error NaN, inf or invalid value detected in weights, estimation infeasible.\n",
      "2024-06-21 05:57:26,596 INFO Failed analytes X-24697 with error NaN, inf or invalid value detected in weights, estimation infeasible.\n",
      "INFO:analytics:Failed analytes X-24697 with error NaN, inf or invalid value detected in weights, estimation infeasible.\n",
      "2024-06-21 05:57:26,626 INFO Failed analytes N-ethylglycinexylidide with error NaN, inf or invalid value detected in weights, estimation infeasible.\n",
      "INFO:analytics:Failed analytes N-ethylglycinexylidide with error NaN, inf or invalid value detected in weights, estimation infeasible.\n",
      "2024-06-21 05:57:26,670 INFO Finished 500 in 20.158 seconds (skipped 0)\n",
      "INFO:analytics:Finished 500 in 20.158 seconds (skipped 0)\n",
      "2024-06-21 05:57:26,739 INFO Failed analytes linoleoyl-arachidonoyl-glycerol (18:2/20:4) [1]* with error NaN, inf or invalid value detected in weights, estimation infeasible.\n",
      "INFO:analytics:Failed analytes linoleoyl-arachidonoyl-glycerol (18:2/20:4) [1]* with error NaN, inf or invalid value detected in weights, estimation infeasible.\n",
      "2024-06-21 05:57:26,769 INFO Failed analytes dehydroepiandrosterone sulfate (DHEA-S) with error NaN, inf or invalid value detected in weights, estimation infeasible.\n",
      "INFO:analytics:Failed analytes dehydroepiandrosterone sulfate (DHEA-S) with error NaN, inf or invalid value detected in weights, estimation infeasible.\n",
      "2024-06-21 05:57:26,918 INFO Failed analytes fructose with error NaN, inf or invalid value detected in weights, estimation infeasible.\n",
      "INFO:analytics:Failed analytes fructose with error NaN, inf or invalid value detected in weights, estimation infeasible.\n",
      "2024-06-21 05:57:26,990 INFO Failed analytes S-adenosylmethionine (SAM) with error NaN, inf or invalid value detected in weights, estimation infeasible.\n",
      "INFO:analytics:Failed analytes S-adenosylmethionine (SAM) with error NaN, inf or invalid value detected in weights, estimation infeasible.\n",
      "2024-06-21 05:57:27,020 INFO Failed analytes pyridoxal with error NaN, inf or invalid value detected in weights, estimation infeasible.\n",
      "INFO:analytics:Failed analytes pyridoxal with error NaN, inf or invalid value detected in weights, estimation infeasible.\n",
      "2024-06-21 05:57:27,050 INFO Failed analytes X-15503 with error NaN, inf or invalid value detected in weights, estimation infeasible.\n",
      "INFO:analytics:Failed analytes X-15503 with error NaN, inf or invalid value detected in weights, estimation infeasible.\n",
      "2024-06-21 05:57:27,124 INFO Failed analytes uridine-2',3'-cyclic monophosphate with error NaN, inf or invalid value detected in weights, estimation infeasible.\n",
      "INFO:analytics:Failed analytes uridine-2',3'-cyclic monophosphate with error NaN, inf or invalid value detected in weights, estimation infeasible.\n",
      "2024-06-21 05:57:27,200 INFO Failed analytes linoleoyl-arachidonoyl-glycerol (18:2/20:4) [2]* with error NaN, inf or invalid value detected in weights, estimation infeasible.\n",
      "INFO:analytics:Failed analytes linoleoyl-arachidonoyl-glycerol (18:2/20:4) [2]* with error NaN, inf or invalid value detected in weights, estimation infeasible.\n",
      "2024-06-21 05:57:27,278 INFO Failed analytes 1-palmitoyl-2-arachidonoyl-GPS (16:0/20:4) with error NaN, inf or invalid value detected in weights, estimation infeasible.\n",
      "INFO:analytics:Failed analytes 1-palmitoyl-2-arachidonoyl-GPS (16:0/20:4) with error NaN, inf or invalid value detected in weights, estimation infeasible.\n",
      "2024-06-21 05:57:27,429 INFO Failed analytes anserine with error NaN, inf or invalid value detected in weights, estimation infeasible.\n",
      "INFO:analytics:Failed analytes anserine with error NaN, inf or invalid value detected in weights, estimation infeasible.\n",
      "2024-06-21 05:57:27,528 INFO Failed analytes leucylglycine with error NaN, inf or invalid value detected in weights, estimation infeasible.\n",
      "INFO:analytics:Failed analytes leucylglycine with error NaN, inf or invalid value detected in weights, estimation infeasible.\n",
      "2024-06-21 05:57:27,871 INFO Failed analytes androstenediol (3beta,17beta) monosulfate (2) with error NaN, inf or invalid value detected in weights, estimation infeasible.\n",
      "INFO:analytics:Failed analytes androstenediol (3beta,17beta) monosulfate (2) with error NaN, inf or invalid value detected in weights, estimation infeasible.\n",
      "2024-06-21 05:57:27,943 INFO Failed analytes N-acetylglucosaminylasparagine with error NaN, inf or invalid value detected in weights, estimation infeasible.\n",
      "INFO:analytics:Failed analytes N-acetylglucosaminylasparagine with error NaN, inf or invalid value detected in weights, estimation infeasible.\n",
      "2024-06-21 05:57:28,021 INFO Failed analytes 3,4-dihydroxybutyrate with error NaN, inf or invalid value detected in weights, estimation infeasible.\n",
      "INFO:analytics:Failed analytes 3,4-dihydroxybutyrate with error NaN, inf or invalid value detected in weights, estimation infeasible.\n",
      "2024-06-21 05:57:28,134 INFO Failed analytes 3-(4-hydroxyphenyl)lactate with error NaN, inf or invalid value detected in weights, estimation infeasible.\n",
      "INFO:analytics:Failed analytes 3-(4-hydroxyphenyl)lactate with error NaN, inf or invalid value detected in weights, estimation infeasible.\n",
      "2024-06-21 05:57:28,212 INFO Failed analytes X-24762 with error NaN, inf or invalid value detected in weights, estimation infeasible.\n",
      "INFO:analytics:Failed analytes X-24762 with error NaN, inf or invalid value detected in weights, estimation infeasible.\n",
      "2024-06-21 05:57:28,240 INFO Failed analytes 1-stearoyl-2-oleoyl-GPC (18:0/18:1) with error NaN, inf or invalid value detected in weights, estimation infeasible.\n",
      "INFO:analytics:Failed analytes 1-stearoyl-2-oleoyl-GPC (18:0/18:1) with error NaN, inf or invalid value detected in weights, estimation infeasible.\n",
      "2024-06-21 05:57:28,268 INFO Failed analytes 1,2-dilinoleoyl-GPE (18:2/18:2)* with error NaN, inf or invalid value detected in weights, estimation infeasible.\n",
      "INFO:analytics:Failed analytes 1,2-dilinoleoyl-GPE (18:2/18:2)* with error NaN, inf or invalid value detected in weights, estimation infeasible.\n",
      "2024-06-21 05:57:28,296 INFO Failed analytes 1-palmitoleoyl-GPC (16:1)* with error NaN, inf or invalid value detected in weights, estimation infeasible.\n",
      "INFO:analytics:Failed analytes 1-palmitoleoyl-GPC (16:1)* with error NaN, inf or invalid value detected in weights, estimation infeasible.\n",
      "2024-06-21 05:57:28,366 INFO Failed analytes retinol (Vitamin A) with error NaN, inf or invalid value detected in weights, estimation infeasible.\n",
      "INFO:analytics:Failed analytes retinol (Vitamin A) with error NaN, inf or invalid value detected in weights, estimation infeasible.\n",
      "2024-06-21 05:57:28,472 INFO Failed analytes progesterone with error NaN, inf or invalid value detected in weights, estimation infeasible.\n",
      "INFO:analytics:Failed analytes progesterone with error NaN, inf or invalid value detected in weights, estimation infeasible.\n",
      "2024-06-21 05:57:28,508 INFO Failed analytes heptenedioate (C7:1-DC)* with error NaN, inf or invalid value detected in weights, estimation infeasible.\n",
      "INFO:analytics:Failed analytes heptenedioate (C7:1-DC)* with error NaN, inf or invalid value detected in weights, estimation infeasible.\n",
      "2024-06-21 05:57:28,709 INFO Failed analytes citrulline with error NaN, inf or invalid value detected in weights, estimation infeasible.\n",
      "INFO:analytics:Failed analytes citrulline with error NaN, inf or invalid value detected in weights, estimation infeasible.\n",
      "2024-06-21 05:57:28,738 INFO Failed analytes 1-palmitoyl-2-docosahexaenoyl-GPC (16:0/22:6) with error NaN, inf or invalid value detected in weights, estimation infeasible.\n",
      "INFO:analytics:Failed analytes 1-palmitoyl-2-docosahexaenoyl-GPC (16:0/22:6) with error NaN, inf or invalid value detected in weights, estimation infeasible.\n",
      "2024-06-21 05:57:28,850 INFO Failed analytes tartronate (hydroxymalonate) with error NaN, inf or invalid value detected in weights, estimation infeasible.\n",
      "INFO:analytics:Failed analytes tartronate (hydroxymalonate) with error NaN, inf or invalid value detected in weights, estimation infeasible.\n",
      "2024-06-21 05:57:28,885 INFO Failed analytes 1-(1-enyl-palmitoyl)-2-linoleoyl-GPE (P-16:0/18:2)* with error NaN, inf or invalid value detected in weights, estimation infeasible.\n",
      "INFO:analytics:Failed analytes 1-(1-enyl-palmitoyl)-2-linoleoyl-GPE (P-16:0/18:2)* with error NaN, inf or invalid value detected in weights, estimation infeasible.\n",
      "2024-06-21 05:57:28,918 INFO Failed analytes leucine with error NaN, inf or invalid value detected in weights, estimation infeasible.\n",
      "INFO:analytics:Failed analytes leucine with error NaN, inf or invalid value detected in weights, estimation infeasible.\n",
      "2024-06-21 05:57:28,952 INFO Failed analytes betaine with error NaN, inf or invalid value detected in weights, estimation infeasible.\n",
      "INFO:analytics:Failed analytes betaine with error NaN, inf or invalid value detected in weights, estimation infeasible.\n",
      "2024-06-21 05:57:28,984 INFO Failed analytes threonate with error NaN, inf or invalid value detected in weights, estimation infeasible.\n",
      "INFO:analytics:Failed analytes threonate with error NaN, inf or invalid value detected in weights, estimation infeasible.\n",
      "2024-06-21 05:57:29,155 INFO Failed analytes 1-palmitoyl-2-arachidonoyl-GPI (16:0/20:4)* with error NaN, inf or invalid value detected in weights, estimation infeasible.\n",
      "INFO:analytics:Failed analytes 1-palmitoyl-2-arachidonoyl-GPI (16:0/20:4)* with error NaN, inf or invalid value detected in weights, estimation infeasible.\n",
      "2024-06-21 05:57:29,417 INFO Failed analytes carotene diol (1) with error NaN, inf or invalid value detected in weights, estimation infeasible.\n",
      "INFO:analytics:Failed analytes carotene diol (1) with error NaN, inf or invalid value detected in weights, estimation infeasible.\n",
      "2024-06-21 05:57:29,536 INFO Failed analytes N-acetylalanine with error NaN, inf or invalid value detected in weights, estimation infeasible.\n",
      "INFO:analytics:Failed analytes N-acetylalanine with error NaN, inf or invalid value detected in weights, estimation infeasible.\n",
      "2024-06-21 05:57:29,569 INFO Failed analytes 1-(1-enyl-palmitoyl)-2-oleoyl-GPC (P-16:0/18:1)* with error NaN, inf or invalid value detected in weights, estimation infeasible.\n",
      "INFO:analytics:Failed analytes 1-(1-enyl-palmitoyl)-2-oleoyl-GPC (P-16:0/18:1)* with error NaN, inf or invalid value detected in weights, estimation infeasible.\n",
      "2024-06-21 05:57:29,764 INFO Failed analytes N-acetylglucosamine/N-acetylgalactosamine with error NaN, inf or invalid value detected in weights, estimation infeasible.\n",
      "INFO:analytics:Failed analytes N-acetylglucosamine/N-acetylgalactosamine with error NaN, inf or invalid value detected in weights, estimation infeasible.\n",
      "2024-06-21 05:57:29,908 INFO Failed analytes 5-dodecenoate (12:1n7) with error NaN, inf or invalid value detected in weights, estimation infeasible.\n",
      "INFO:analytics:Failed analytes 5-dodecenoate (12:1n7) with error NaN, inf or invalid value detected in weights, estimation infeasible.\n",
      "2024-06-21 05:57:30,027 INFO Failed analytes carnosine with error NaN, inf or invalid value detected in weights, estimation infeasible.\n",
      "INFO:analytics:Failed analytes carnosine with error NaN, inf or invalid value detected in weights, estimation infeasible.\n",
      "2024-06-21 05:57:30,100 INFO Failed analytes N-palmitoyl-sphingosine (d18:1/16:0) with error NaN, inf or invalid value detected in weights, estimation infeasible.\n",
      "INFO:analytics:Failed analytes N-palmitoyl-sphingosine (d18:1/16:0) with error NaN, inf or invalid value detected in weights, estimation infeasible.\n",
      "2024-06-21 05:57:30,355 INFO Failed analytes 3-formylindole with error NaN, inf or invalid value detected in weights, estimation infeasible.\n",
      "INFO:analytics:Failed analytes 3-formylindole with error NaN, inf or invalid value detected in weights, estimation infeasible.\n",
      "2024-06-21 05:57:30,526 INFO Failed analytes nicotinate ribonucleoside with error NaN, inf or invalid value detected in weights, estimation infeasible.\n",
      "INFO:analytics:Failed analytes nicotinate ribonucleoside with error NaN, inf or invalid value detected in weights, estimation infeasible.\n",
      "2024-06-21 05:57:30,600 INFO Failed analytes glycerophosphoserine* with error NaN, inf or invalid value detected in weights, estimation infeasible.\n",
      "INFO:analytics:Failed analytes glycerophosphoserine* with error NaN, inf or invalid value detected in weights, estimation infeasible.\n",
      "2024-06-21 05:57:30,710 INFO Finished 600 in 24.197 seconds (skipped 0)\n",
      "INFO:analytics:Finished 600 in 24.197 seconds (skipped 0)\n",
      "2024-06-21 05:57:30,818 INFO Failed analytes 5alpha-pregnan-3beta,20alpha-diol monosulfate (2) with error NaN, inf or invalid value detected in weights, estimation infeasible.\n",
      "INFO:analytics:Failed analytes 5alpha-pregnan-3beta,20alpha-diol monosulfate (2) with error NaN, inf or invalid value detected in weights, estimation infeasible.\n",
      "2024-06-21 05:57:30,974 INFO Failed analytes creatinine with error NaN, inf or invalid value detected in weights, estimation infeasible.\n",
      "INFO:analytics:Failed analytes creatinine with error NaN, inf or invalid value detected in weights, estimation infeasible.\n",
      "2024-06-21 05:57:31,005 INFO Failed analytes cortisone with error NaN, inf or invalid value detected in weights, estimation infeasible.\n",
      "INFO:analytics:Failed analytes cortisone with error NaN, inf or invalid value detected in weights, estimation infeasible.\n",
      "2024-06-21 05:57:31,072 INFO Failed analytes beta-citrylglutamate with error NaN, inf or invalid value detected in weights, estimation infeasible.\n",
      "INFO:analytics:Failed analytes beta-citrylglutamate with error NaN, inf or invalid value detected in weights, estimation infeasible.\n",
      "2024-06-21 05:57:31,348 INFO Failed analytes 1-palmitoyl-2-oleoyl-GPS (16:0/18:1) with error NaN, inf or invalid value detected in weights, estimation infeasible.\n",
      "INFO:analytics:Failed analytes 1-palmitoyl-2-oleoyl-GPS (16:0/18:1) with error NaN, inf or invalid value detected in weights, estimation infeasible.\n",
      "2024-06-21 05:57:31,380 INFO Failed analytes acetylcarnitine (C2) with error NaN, inf or invalid value detected in weights, estimation infeasible.\n",
      "INFO:analytics:Failed analytes acetylcarnitine (C2) with error NaN, inf or invalid value detected in weights, estimation infeasible.\n",
      "2024-06-21 05:57:31,499 INFO Failed analytes ethanolamine with error NaN, inf or invalid value detected in weights, estimation infeasible.\n",
      "INFO:analytics:Failed analytes ethanolamine with error NaN, inf or invalid value detected in weights, estimation infeasible.\n",
      "2024-06-21 05:57:31,589 INFO Failed analytes N-palmitoyl-sphingadienine (d18:2/16:0)* with error NaN, inf or invalid value detected in weights, estimation infeasible.\n",
      "INFO:analytics:Failed analytes N-palmitoyl-sphingadienine (d18:2/16:0)* with error NaN, inf or invalid value detected in weights, estimation infeasible.\n",
      "2024-06-21 05:57:31,747 INFO Failed analytes flavin mononucleotide (FMN) with error NaN, inf or invalid value detected in weights, estimation infeasible.\n",
      "INFO:analytics:Failed analytes flavin mononucleotide (FMN) with error NaN, inf or invalid value detected in weights, estimation infeasible.\n",
      "2024-06-21 05:57:31,928 INFO Failed analytes thiamin (Vitamin B1) with error NaN, inf or invalid value detected in weights, estimation infeasible.\n",
      "INFO:analytics:Failed analytes thiamin (Vitamin B1) with error NaN, inf or invalid value detected in weights, estimation infeasible.\n",
      "2024-06-21 05:57:32,005 INFO Failed analytes methyl-4-hydroxybenzoate sulfate with error NaN, inf or invalid value detected in weights, estimation infeasible.\n",
      "INFO:analytics:Failed analytes methyl-4-hydroxybenzoate sulfate with error NaN, inf or invalid value detected in weights, estimation infeasible.\n",
      "2024-06-21 05:57:32,201 INFO Failed analytes X-24425 with error NaN, inf or invalid value detected in weights, estimation infeasible.\n",
      "INFO:analytics:Failed analytes X-24425 with error NaN, inf or invalid value detected in weights, estimation infeasible.\n",
      "2024-06-21 05:57:32,234 INFO Failed analytes sphingomyelin (d17:1/14:0, d16:1/15:0)* with error NaN, inf or invalid value detected in weights, estimation infeasible.\n",
      "INFO:analytics:Failed analytes sphingomyelin (d17:1/14:0, d16:1/15:0)* with error NaN, inf or invalid value detected in weights, estimation infeasible.\n",
      "2024-06-21 05:57:32,349 INFO Failed analytes 1-oleoyl-GPG (18:1)* with error NaN, inf or invalid value detected in weights, estimation infeasible.\n",
      "INFO:analytics:Failed analytes 1-oleoyl-GPG (18:1)* with error NaN, inf or invalid value detected in weights, estimation infeasible.\n",
      "2024-06-21 05:57:32,441 INFO Failed analytes 1-(1-enyl-stearoyl)-GPE (P-18:0)* with error NaN, inf or invalid value detected in weights, estimation infeasible.\n",
      "INFO:analytics:Failed analytes 1-(1-enyl-stearoyl)-GPE (P-18:0)* with error NaN, inf or invalid value detected in weights, estimation infeasible.\n",
      "2024-06-21 05:57:32,470 INFO Failed analytes 1-oleoyl-2-docosahexaenoyl-GPC (18:1/22:6)* with error NaN, inf or invalid value detected in weights, estimation infeasible.\n",
      "INFO:analytics:Failed analytes 1-oleoyl-2-docosahexaenoyl-GPC (18:1/22:6)* with error NaN, inf or invalid value detected in weights, estimation infeasible.\n",
      "2024-06-21 05:57:32,590 INFO Failed analytes piperine with error NaN, inf or invalid value detected in weights, estimation infeasible.\n",
      "INFO:analytics:Failed analytes piperine with error NaN, inf or invalid value detected in weights, estimation infeasible.\n",
      "2024-06-21 05:57:32,854 INFO Failed analytes palmitoyl-docosahexaenoyl-glycerol (16:0/22:6) [1]* with error NaN, inf or invalid value detected in weights, estimation infeasible.\n",
      "INFO:analytics:Failed analytes palmitoyl-docosahexaenoyl-glycerol (16:0/22:6) [1]* with error NaN, inf or invalid value detected in weights, estimation infeasible.\n",
      "2024-06-21 05:57:33,162 INFO Failed analytes ribulose/xylulose with error NaN, inf or invalid value detected in weights, estimation infeasible.\n",
      "INFO:analytics:Failed analytes ribulose/xylulose with error NaN, inf or invalid value detected in weights, estimation infeasible.\n",
      "2024-06-21 05:57:33,406 INFO Failed analytes glycylvaline with error NaN, inf or invalid value detected in weights, estimation infeasible.\n",
      "INFO:analytics:Failed analytes glycylvaline with error NaN, inf or invalid value detected in weights, estimation infeasible.\n",
      "2024-06-21 05:57:33,478 INFO Failed analytes glycerophosphoglycerol with error NaN, inf or invalid value detected in weights, estimation infeasible.\n",
      "INFO:analytics:Failed analytes glycerophosphoglycerol with error NaN, inf or invalid value detected in weights, estimation infeasible.\n",
      "2024-06-21 05:57:33,548 INFO Failed analytes X-17009 with error NaN, inf or invalid value detected in weights, estimation infeasible.\n",
      "INFO:analytics:Failed analytes X-17009 with error NaN, inf or invalid value detected in weights, estimation infeasible.\n",
      "2024-06-21 05:57:33,662 INFO Failed analytes X-24665 with error NaN, inf or invalid value detected in weights, estimation infeasible.\n",
      "INFO:analytics:Failed analytes X-24665 with error NaN, inf or invalid value detected in weights, estimation infeasible.\n",
      "2024-06-21 05:57:33,693 INFO Failed analytes glucose with error NaN, inf or invalid value detected in weights, estimation infeasible.\n",
      "INFO:analytics:Failed analytes glucose with error NaN, inf or invalid value detected in weights, estimation infeasible.\n",
      "2024-06-21 05:57:33,936 INFO Failed analytes 2,3-dihydroxy-5-methylthio-4-pentenoate (DMTPA)* with error NaN, inf or invalid value detected in weights, estimation infeasible.\n",
      "INFO:analytics:Failed analytes 2,3-dihydroxy-5-methylthio-4-pentenoate (DMTPA)* with error NaN, inf or invalid value detected in weights, estimation infeasible.\n",
      "2024-06-21 05:57:33,970 INFO Failed analytes stearoyl sphingomyelin (d18:1/18:0) with error NaN, inf or invalid value detected in weights, estimation infeasible.\n",
      "INFO:analytics:Failed analytes stearoyl sphingomyelin (d18:1/18:0) with error NaN, inf or invalid value detected in weights, estimation infeasible.\n",
      "2024-06-21 05:57:34,003 INFO Failed analytes gamma-glutamylleucine with error NaN, inf or invalid value detected in weights, estimation infeasible.\n",
      "INFO:analytics:Failed analytes gamma-glutamylleucine with error NaN, inf or invalid value detected in weights, estimation infeasible.\n",
      "2024-06-21 05:57:34,037 INFO Failed analytes carotene diol (3) with error NaN, inf or invalid value detected in weights, estimation infeasible.\n",
      "INFO:analytics:Failed analytes carotene diol (3) with error NaN, inf or invalid value detected in weights, estimation infeasible.\n",
      "2024-06-21 05:57:34,217 INFO Failed analytes biliverdin with error NaN, inf or invalid value detected in weights, estimation infeasible.\n",
      "INFO:analytics:Failed analytes biliverdin with error NaN, inf or invalid value detected in weights, estimation infeasible.\n",
      "2024-06-21 05:57:34,343 INFO Failed analytes UDP-galactose with error NaN, inf or invalid value detected in weights, estimation infeasible.\n",
      "INFO:analytics:Failed analytes UDP-galactose with error NaN, inf or invalid value detected in weights, estimation infeasible.\n",
      "2024-06-21 05:57:34,504 INFO Failed analytes 1-(1-enyl-palmitoyl)-2-oleoyl-GPE (P-16:0/18:1)* with error NaN, inf or invalid value detected in weights, estimation infeasible.\n",
      "INFO:analytics:Failed analytes 1-(1-enyl-palmitoyl)-2-oleoyl-GPE (P-16:0/18:1)* with error NaN, inf or invalid value detected in weights, estimation infeasible.\n",
      "2024-06-21 05:57:34,614 INFO Failed analytes X-11299 with error NaN, inf or invalid value detected in weights, estimation infeasible.\n",
      "INFO:analytics:Failed analytes X-11299 with error NaN, inf or invalid value detected in weights, estimation infeasible.\n",
      "2024-06-21 05:57:34,682 INFO Failed analytes cerotoylcarnitine (C26)* with error NaN, inf or invalid value detected in weights, estimation infeasible.\n",
      "INFO:analytics:Failed analytes cerotoylcarnitine (C26)* with error NaN, inf or invalid value detected in weights, estimation infeasible.\n",
      "2024-06-21 05:57:34,756 INFO Failed analytes sebacate (C10-DC) with error NaN, inf or invalid value detected in weights, estimation infeasible.\n",
      "INFO:analytics:Failed analytes sebacate (C10-DC) with error NaN, inf or invalid value detected in weights, estimation infeasible.\n",
      "2024-06-21 05:57:34,877 INFO Failed analytes X-21410 with error NaN, inf or invalid value detected in weights, estimation infeasible.\n",
      "INFO:analytics:Failed analytes X-21410 with error NaN, inf or invalid value detected in weights, estimation infeasible.\n",
      "2024-06-21 05:57:34,879 INFO Finished 700 in 28.367 seconds (skipped 0)\n",
      "INFO:analytics:Finished 700 in 28.367 seconds (skipped 0)\n",
      "2024-06-21 05:57:34,950 INFO Failed analytes 1-palmitoyl-2-oleoyl-GPG (16:0/18:1) with error NaN, inf or invalid value detected in weights, estimation infeasible.\n",
      "INFO:analytics:Failed analytes 1-palmitoyl-2-oleoyl-GPG (16:0/18:1) with error NaN, inf or invalid value detected in weights, estimation infeasible.\n",
      "2024-06-21 05:57:34,979 INFO Failed analytes beta-alanine with error NaN, inf or invalid value detected in weights, estimation infeasible.\n",
      "INFO:analytics:Failed analytes beta-alanine with error NaN, inf or invalid value detected in weights, estimation infeasible.\n",
      "2024-06-21 05:57:35,175 INFO Failed analytes 2-oxoarginine* with error NaN, inf or invalid value detected in weights, estimation infeasible.\n",
      "INFO:analytics:Failed analytes 2-oxoarginine* with error NaN, inf or invalid value detected in weights, estimation infeasible.\n",
      "2024-06-21 05:57:35,287 INFO Failed analytes 2-methylcitrate/homocitrate with error NaN, inf or invalid value detected in weights, estimation infeasible.\n",
      "INFO:analytics:Failed analytes 2-methylcitrate/homocitrate with error NaN, inf or invalid value detected in weights, estimation infeasible.\n",
      "2024-06-21 05:57:35,316 INFO Failed analytes X-25610 with error NaN, inf or invalid value detected in weights, estimation infeasible.\n",
      "INFO:analytics:Failed analytes X-25610 with error NaN, inf or invalid value detected in weights, estimation infeasible.\n",
      "2024-06-21 05:57:35,357 INFO Failed analytes N-methyl-GABA with error NaN, inf or invalid value detected in weights, estimation infeasible.\n",
      "INFO:analytics:Failed analytes N-methyl-GABA with error NaN, inf or invalid value detected in weights, estimation infeasible.\n",
      "2024-06-21 05:57:35,428 INFO Failed analytes laurylcarnitine (C12) with error NaN, inf or invalid value detected in weights, estimation infeasible.\n",
      "INFO:analytics:Failed analytes laurylcarnitine (C12) with error NaN, inf or invalid value detected in weights, estimation infeasible.\n",
      "2024-06-21 05:57:35,630 INFO Failed analytes 1-(1-enyl-palmitoyl)-2-linoleoyl-GPC (P-16:0/18:2)* with error NaN, inf or invalid value detected in weights, estimation infeasible.\n",
      "INFO:analytics:Failed analytes 1-(1-enyl-palmitoyl)-2-linoleoyl-GPC (P-16:0/18:2)* with error NaN, inf or invalid value detected in weights, estimation infeasible.\n",
      "2024-06-21 05:57:35,703 INFO Failed analytes N-acetylarginine with error NaN, inf or invalid value detected in weights, estimation infeasible.\n",
      "INFO:analytics:Failed analytes N-acetylarginine with error NaN, inf or invalid value detected in weights, estimation infeasible.\n",
      "2024-06-21 05:57:35,824 INFO Failed analytes N-formylanthranilic acid with error NaN, inf or invalid value detected in weights, estimation infeasible.\n",
      "INFO:analytics:Failed analytes N-formylanthranilic acid with error NaN, inf or invalid value detected in weights, estimation infeasible.\n",
      "2024-06-21 05:57:35,947 INFO Failed analytes fumarate with error NaN, inf or invalid value detected in weights, estimation infeasible.\n",
      "INFO:analytics:Failed analytes fumarate with error NaN, inf or invalid value detected in weights, estimation infeasible.\n",
      "2024-06-21 05:57:35,978 INFO Failed analytes urate with error NaN, inf or invalid value detected in weights, estimation infeasible.\n",
      "INFO:analytics:Failed analytes urate with error NaN, inf or invalid value detected in weights, estimation infeasible.\n",
      "2024-06-21 05:57:36,045 INFO Failed analytes anthranilate with error NaN, inf or invalid value detected in weights, estimation infeasible.\n",
      "INFO:analytics:Failed analytes anthranilate with error NaN, inf or invalid value detected in weights, estimation infeasible.\n",
      "2024-06-21 05:57:36,270 INFO Failed analytes sphingomyelin (d17:1/16:0, d18:1/15:0, d16:1/17:0)* with error NaN, inf or invalid value detected in weights, estimation infeasible.\n",
      "INFO:analytics:Failed analytes sphingomyelin (d17:1/16:0, d18:1/15:0, d16:1/17:0)* with error NaN, inf or invalid value detected in weights, estimation infeasible.\n",
      "2024-06-21 05:57:36,346 INFO Failed analytes adipoylcarnitine (C6-DC) with error NaN, inf or invalid value detected in weights, estimation infeasible.\n",
      "INFO:analytics:Failed analytes adipoylcarnitine (C6-DC) with error NaN, inf or invalid value detected in weights, estimation infeasible.\n",
      "2024-06-21 05:57:36,375 INFO Failed analytes 1,5-anhydroglucitol (1,5-AG) with error NaN, inf or invalid value detected in weights, estimation infeasible.\n",
      "INFO:analytics:Failed analytes 1,5-anhydroglucitol (1,5-AG) with error NaN, inf or invalid value detected in weights, estimation infeasible.\n",
      "2024-06-21 05:57:36,407 INFO Failed analytes pregnenetriol disulfate* with error NaN, inf or invalid value detected in weights, estimation infeasible.\n",
      "INFO:analytics:Failed analytes pregnenetriol disulfate* with error NaN, inf or invalid value detected in weights, estimation infeasible.\n",
      "2024-06-21 05:57:36,437 INFO Failed analytes sphingomyelin (d18:2/24:1, d18:1/24:2)* with error NaN, inf or invalid value detected in weights, estimation infeasible.\n",
      "INFO:analytics:Failed analytes sphingomyelin (d18:2/24:1, d18:1/24:2)* with error NaN, inf or invalid value detected in weights, estimation infeasible.\n",
      "2024-06-21 05:57:36,468 INFO Failed analytes N6,N6,N6-trimethyllysine with error NaN, inf or invalid value detected in weights, estimation infeasible.\n",
      "INFO:analytics:Failed analytes N6,N6,N6-trimethyllysine with error NaN, inf or invalid value detected in weights, estimation infeasible.\n",
      "2024-06-21 05:57:36,664 INFO Failed analytes N-acetylphenylalanine with error NaN, inf or invalid value detected in weights, estimation infeasible.\n",
      "INFO:analytics:Failed analytes N-acetylphenylalanine with error NaN, inf or invalid value detected in weights, estimation infeasible.\n",
      "2024-06-21 05:57:36,695 INFO Failed analytes stearoylcholine* with error NaN, inf or invalid value detected in weights, estimation infeasible.\n",
      "INFO:analytics:Failed analytes stearoylcholine* with error NaN, inf or invalid value detected in weights, estimation infeasible.\n",
      "2024-06-21 05:57:36,810 INFO Failed analytes bilirubin degradation product, C17H18N2O4 (3)** with error NaN, inf or invalid value detected in weights, estimation infeasible.\n",
      "INFO:analytics:Failed analytes bilirubin degradation product, C17H18N2O4 (3)** with error NaN, inf or invalid value detected in weights, estimation infeasible.\n",
      "2024-06-21 05:57:36,924 INFO Failed analytes taurohyocholate* with error NaN, inf or invalid value detected in weights, estimation infeasible.\n",
      "INFO:analytics:Failed analytes taurohyocholate* with error NaN, inf or invalid value detected in weights, estimation infeasible.\n",
      "2024-06-21 05:57:37,419 INFO Failed analytes sphingomyelin (d18:1/24:1, d18:2/24:0)* with error NaN, inf or invalid value detected in weights, estimation infeasible.\n",
      "INFO:analytics:Failed analytes sphingomyelin (d18:1/24:1, d18:2/24:0)* with error NaN, inf or invalid value detected in weights, estimation infeasible.\n",
      "2024-06-21 05:57:37,449 INFO Failed analytes argininosuccinate with error NaN, inf or invalid value detected in weights, estimation infeasible.\n",
      "INFO:analytics:Failed analytes argininosuccinate with error NaN, inf or invalid value detected in weights, estimation infeasible.\n",
      "2024-06-21 05:57:37,611 INFO Failed analytes 1-palmitoyl-2-oleoyl-GPC (16:0/18:1) with error NaN, inf or invalid value detected in weights, estimation infeasible.\n",
      "INFO:analytics:Failed analytes 1-palmitoyl-2-oleoyl-GPC (16:0/18:1) with error NaN, inf or invalid value detected in weights, estimation infeasible.\n",
      "2024-06-21 05:57:37,688 INFO Failed analytes pro-hydroxy-pro with error NaN, inf or invalid value detected in weights, estimation infeasible.\n",
      "INFO:analytics:Failed analytes pro-hydroxy-pro with error NaN, inf or invalid value detected in weights, estimation infeasible.\n",
      "2024-06-21 05:57:37,717 INFO Failed analytes galactose 6-phosphate with error NaN, inf or invalid value detected in weights, estimation infeasible.\n",
      "INFO:analytics:Failed analytes galactose 6-phosphate with error NaN, inf or invalid value detected in weights, estimation infeasible.\n",
      "2024-06-21 05:57:37,785 INFO Failed analytes 1-palmitoyl-2-linoleoyl-GPE (16:0/18:2) with error NaN, inf or invalid value detected in weights, estimation infeasible.\n",
      "INFO:analytics:Failed analytes 1-palmitoyl-2-linoleoyl-GPE (16:0/18:2) with error NaN, inf or invalid value detected in weights, estimation infeasible.\n",
      "2024-06-21 05:57:37,895 INFO Failed analytes alpha-ketoglutaramate* with error NaN, inf or invalid value detected in weights, estimation infeasible.\n",
      "INFO:analytics:Failed analytes alpha-ketoglutaramate* with error NaN, inf or invalid value detected in weights, estimation infeasible.\n",
      "2024-06-21 05:57:37,926 INFO Failed analytes arachidonoylcholine with error NaN, inf or invalid value detected in weights, estimation infeasible.\n",
      "INFO:analytics:Failed analytes arachidonoylcholine with error NaN, inf or invalid value detected in weights, estimation infeasible.\n",
      "2024-06-21 05:57:37,955 INFO Failed analytes sphingomyelin (d18:1/19:0, d19:1/18:0)* with error NaN, inf or invalid value detected in weights, estimation infeasible.\n",
      "INFO:analytics:Failed analytes sphingomyelin (d18:1/19:0, d19:1/18:0)* with error NaN, inf or invalid value detected in weights, estimation infeasible.\n",
      "2024-06-21 05:57:38,067 INFO Failed analytes guanine with error NaN, inf or invalid value detected in weights, estimation infeasible.\n",
      "INFO:analytics:Failed analytes guanine with error NaN, inf or invalid value detected in weights, estimation infeasible.\n",
      "2024-06-21 05:57:38,142 INFO Failed analytes palmitoloelycholine with error NaN, inf or invalid value detected in weights, estimation infeasible.\n",
      "INFO:analytics:Failed analytes palmitoloelycholine with error NaN, inf or invalid value detected in weights, estimation infeasible.\n",
      "2024-06-21 05:57:38,171 INFO Failed analytes deoxycarnitine with error NaN, inf or invalid value detected in weights, estimation infeasible.\n",
      "INFO:analytics:Failed analytes deoxycarnitine with error NaN, inf or invalid value detected in weights, estimation infeasible.\n",
      "2024-06-21 05:57:38,242 INFO Failed analytes arabitol/xylitol with error NaN, inf or invalid value detected in weights, estimation infeasible.\n",
      "INFO:analytics:Failed analytes arabitol/xylitol with error NaN, inf or invalid value detected in weights, estimation infeasible.\n",
      "2024-06-21 05:57:38,378 INFO Failed analytes palmitoyl-arachidonoyl-glycerol (16:0/20:4) [2]* with error NaN, inf or invalid value detected in weights, estimation infeasible.\n",
      "INFO:analytics:Failed analytes palmitoyl-arachidonoyl-glycerol (16:0/20:4) [2]* with error NaN, inf or invalid value detected in weights, estimation infeasible.\n",
      "2024-06-21 05:57:38,407 INFO Failed analytes cytidine 2',3'-cyclic monophosphate with error NaN, inf or invalid value detected in weights, estimation infeasible.\n",
      "INFO:analytics:Failed analytes cytidine 2',3'-cyclic monophosphate with error NaN, inf or invalid value detected in weights, estimation infeasible.\n",
      "2024-06-21 05:57:38,456 INFO Failed analytes 2-O-methylascorbic acid with error NaN, inf or invalid value detected in weights, estimation infeasible.\n",
      "INFO:analytics:Failed analytes 2-O-methylascorbic acid with error NaN, inf or invalid value detected in weights, estimation infeasible.\n",
      "2024-06-21 05:57:38,499 INFO Failed analytes N-acetylputrescine with error NaN, inf or invalid value detected in weights, estimation infeasible.\n",
      "INFO:analytics:Failed analytes N-acetylputrescine with error NaN, inf or invalid value detected in weights, estimation infeasible.\n",
      "2024-06-21 05:57:38,528 INFO Failed analytes 5-hydroxylysine with error NaN, inf or invalid value detected in weights, estimation infeasible.\n",
      "INFO:analytics:Failed analytes 5-hydroxylysine with error NaN, inf or invalid value detected in weights, estimation infeasible.\n",
      "2024-06-21 05:57:38,686 INFO Failed analytes sphingomyelin (d18:1/20:1, d18:2/20:0)* with error NaN, inf or invalid value detected in weights, estimation infeasible.\n",
      "INFO:analytics:Failed analytes sphingomyelin (d18:1/20:1, d18:2/20:0)* with error NaN, inf or invalid value detected in weights, estimation infeasible.\n",
      "2024-06-21 05:57:38,688 INFO Finished 800 in 32.176 seconds (skipped 0)\n",
      "INFO:analytics:Finished 800 in 32.176 seconds (skipped 0)\n",
      "2024-06-21 05:57:38,759 INFO Failed analytes X-25055 with error NaN, inf or invalid value detected in weights, estimation infeasible.\n",
      "INFO:analytics:Failed analytes X-25055 with error NaN, inf or invalid value detected in weights, estimation infeasible.\n",
      "2024-06-21 05:57:38,830 INFO Failed analytes X-25855 with error NaN, inf or invalid value detected in weights, estimation infeasible.\n",
      "INFO:analytics:Failed analytes X-25855 with error NaN, inf or invalid value detected in weights, estimation infeasible.\n",
      "2024-06-21 05:57:38,902 INFO Failed analytes catechol sulfate with error NaN, inf or invalid value detected in weights, estimation infeasible.\n",
      "INFO:analytics:Failed analytes catechol sulfate with error NaN, inf or invalid value detected in weights, estimation infeasible.\n",
      "2024-06-21 05:57:38,931 INFO Failed analytes X-25107 with error NaN, inf or invalid value detected in weights, estimation infeasible.\n",
      "INFO:analytics:Failed analytes X-25107 with error NaN, inf or invalid value detected in weights, estimation infeasible.\n",
      "2024-06-21 05:57:38,961 INFO Failed analytes sphingomyelin (d18:2/23:1)* with error NaN, inf or invalid value detected in weights, estimation infeasible.\n",
      "INFO:analytics:Failed analytes sphingomyelin (d18:2/23:1)* with error NaN, inf or invalid value detected in weights, estimation infeasible.\n",
      "2024-06-21 05:57:38,991 INFO Failed analytes phytosphingosine with error NaN, inf or invalid value detected in weights, estimation infeasible.\n",
      "INFO:analytics:Failed analytes phytosphingosine with error NaN, inf or invalid value detected in weights, estimation infeasible.\n",
      "2024-06-21 05:57:39,020 INFO Failed analytes sedoheptulose-7-phosphate with error NaN, inf or invalid value detected in weights, estimation infeasible.\n",
      "INFO:analytics:Failed analytes sedoheptulose-7-phosphate with error NaN, inf or invalid value detected in weights, estimation infeasible.\n",
      "2024-06-21 05:57:39,090 INFO Failed analytes inosine 5'-monophosphate (IMP) with error NaN, inf or invalid value detected in weights, estimation infeasible.\n",
      "INFO:analytics:Failed analytes inosine 5'-monophosphate (IMP) with error NaN, inf or invalid value detected in weights, estimation infeasible.\n",
      "2024-06-21 05:57:39,180 INFO Failed analytes 1-(1-enyl-palmitoyl)-2-arachidonoyl-GPC (P-16:0/20:4)* with error NaN, inf or invalid value detected in weights, estimation infeasible.\n",
      "INFO:analytics:Failed analytes 1-(1-enyl-palmitoyl)-2-arachidonoyl-GPC (P-16:0/20:4)* with error NaN, inf or invalid value detected in weights, estimation infeasible.\n",
      "2024-06-21 05:57:39,418 INFO Failed analytes sphingomyelin (d18:1/14:0, d16:1/16:0)* with error NaN, inf or invalid value detected in weights, estimation infeasible.\n",
      "INFO:analytics:Failed analytes sphingomyelin (d18:1/14:0, d16:1/16:0)* with error NaN, inf or invalid value detected in weights, estimation infeasible.\n",
      "2024-06-21 05:57:39,738 INFO Failed analytes pentadecanoylcarnitine (C15)* with error NaN, inf or invalid value detected in weights, estimation infeasible.\n",
      "INFO:analytics:Failed analytes pentadecanoylcarnitine (C15)* with error NaN, inf or invalid value detected in weights, estimation infeasible.\n",
      "2024-06-21 05:57:39,910 INFO Failed analytes X-25435 with error NaN, inf or invalid value detected in weights, estimation infeasible.\n",
      "INFO:analytics:Failed analytes X-25435 with error NaN, inf or invalid value detected in weights, estimation infeasible.\n",
      "2024-06-21 05:57:39,979 INFO Failed analytes eicosanoylsphingosine (d20:1)* with error NaN, inf or invalid value detected in weights, estimation infeasible.\n",
      "INFO:analytics:Failed analytes eicosanoylsphingosine (d20:1)* with error NaN, inf or invalid value detected in weights, estimation infeasible.\n",
      "2024-06-21 05:57:40,049 INFO Failed analytes mannose with error NaN, inf or invalid value detected in weights, estimation infeasible.\n",
      "INFO:analytics:Failed analytes mannose with error NaN, inf or invalid value detected in weights, estimation infeasible.\n",
      "2024-06-21 05:57:40,122 INFO Failed analytes hexadecasphingosine (d16:1)* with error NaN, inf or invalid value detected in weights, estimation infeasible.\n",
      "INFO:analytics:Failed analytes hexadecasphingosine (d16:1)* with error NaN, inf or invalid value detected in weights, estimation infeasible.\n",
      "2024-06-21 05:57:40,151 INFO Failed analytes arabonate/xylonate with error NaN, inf or invalid value detected in weights, estimation infeasible.\n",
      "INFO:analytics:Failed analytes arabonate/xylonate with error NaN, inf or invalid value detected in weights, estimation infeasible.\n",
      "2024-06-21 05:57:40,184 INFO Failed analytes carotene diol (2) with error NaN, inf or invalid value detected in weights, estimation infeasible.\n",
      "INFO:analytics:Failed analytes carotene diol (2) with error NaN, inf or invalid value detected in weights, estimation infeasible.\n",
      "2024-06-21 05:57:40,213 INFO Failed analytes glutamine with error NaN, inf or invalid value detected in weights, estimation infeasible.\n",
      "INFO:analytics:Failed analytes glutamine with error NaN, inf or invalid value detected in weights, estimation infeasible.\n",
      "2024-06-21 05:57:40,243 INFO Failed analytes 1-arachidonoyl-GPE (20:4n6)* with error NaN, inf or invalid value detected in weights, estimation infeasible.\n",
      "INFO:analytics:Failed analytes 1-arachidonoyl-GPE (20:4n6)* with error NaN, inf or invalid value detected in weights, estimation infeasible.\n",
      "2024-06-21 05:57:40,433 INFO Failed analytes 1-palmitoyl-2-palmitoleoyl-GPC (16:0/16:1)* with error NaN, inf or invalid value detected in weights, estimation infeasible.\n",
      "INFO:analytics:Failed analytes 1-palmitoyl-2-palmitoleoyl-GPC (16:0/16:1)* with error NaN, inf or invalid value detected in weights, estimation infeasible.\n",
      "2024-06-21 05:57:40,504 INFO Failed analytes gamma-glutamylvaline with error NaN, inf or invalid value detected in weights, estimation infeasible.\n",
      "INFO:analytics:Failed analytes gamma-glutamylvaline with error NaN, inf or invalid value detected in weights, estimation infeasible.\n",
      "2024-06-21 05:57:40,534 INFO Failed analytes gulonate* with error NaN, inf or invalid value detected in weights, estimation infeasible.\n",
      "INFO:analytics:Failed analytes gulonate* with error NaN, inf or invalid value detected in weights, estimation infeasible.\n",
      "2024-06-21 05:57:40,581 INFO Failed analytes inosine with error NaN, inf or invalid value detected in weights, estimation infeasible.\n",
      "INFO:analytics:Failed analytes inosine with error NaN, inf or invalid value detected in weights, estimation infeasible.\n",
      "2024-06-21 05:57:40,657 INFO Failed analytes S-methylglutathione with error NaN, inf or invalid value detected in weights, estimation infeasible.\n",
      "INFO:analytics:Failed analytes S-methylglutathione with error NaN, inf or invalid value detected in weights, estimation infeasible.\n",
      "2024-06-21 05:57:40,775 INFO Failed analytes 7-alpha-hydroxy-3-oxo-4-cholestenoate (7-Hoca) with error NaN, inf or invalid value detected in weights, estimation infeasible.\n",
      "INFO:analytics:Failed analytes 7-alpha-hydroxy-3-oxo-4-cholestenoate (7-Hoca) with error NaN, inf or invalid value detected in weights, estimation infeasible.\n",
      "2024-06-21 05:57:40,983 INFO Failed analytes cytidine 5'-monophosphate (5'-CMP) with error NaN, inf or invalid value detected in weights, estimation infeasible.\n",
      "INFO:analytics:Failed analytes cytidine 5'-monophosphate (5'-CMP) with error NaN, inf or invalid value detected in weights, estimation infeasible.\n",
      "2024-06-21 05:57:41,014 INFO Failed analytes fructosyllysine with error NaN, inf or invalid value detected in weights, estimation infeasible.\n",
      "INFO:analytics:Failed analytes fructosyllysine with error NaN, inf or invalid value detected in weights, estimation infeasible.\n",
      "2024-06-21 05:57:41,089 INFO Failed analytes N6-methyladenosine with error NaN, inf or invalid value detected in weights, estimation infeasible.\n",
      "INFO:analytics:Failed analytes N6-methyladenosine with error NaN, inf or invalid value detected in weights, estimation infeasible.\n",
      "2024-06-21 05:57:41,120 INFO Failed analytes 2,3-dihydroxy-2-methylbutyrate with error NaN, inf or invalid value detected in weights, estimation infeasible.\n",
      "INFO:analytics:Failed analytes 2,3-dihydroxy-2-methylbutyrate with error NaN, inf or invalid value detected in weights, estimation infeasible.\n",
      "2024-06-21 05:57:42,598 INFO Finished 900 in 36.085 seconds (skipped 0)\n",
      "INFO:analytics:Finished 900 in 36.085 seconds (skipped 0)\n",
      "2024-06-21 05:57:44,617 INFO Failed analytes hsa-miR-1303 with error NaN, inf or invalid value detected in weights, estimation infeasible.\n",
      "INFO:analytics:Failed analytes hsa-miR-1303 with error NaN, inf or invalid value detected in weights, estimation infeasible.\n",
      "2024-06-21 05:57:46,768 INFO Finished 1000 in 40.255 seconds (skipped 0)\n",
      "INFO:analytics:Finished 1000 in 40.255 seconds (skipped 0)\n",
      "2024-06-21 05:57:50,780 INFO Finished 1100 in 44.267 seconds (skipped 0)\n",
      "INFO:analytics:Finished 1100 in 44.267 seconds (skipped 0)\n",
      "2024-06-21 05:57:53,431 INFO Failed analytes hsa-miR-1273c with error NaN, inf or invalid value detected in weights, estimation infeasible.\n",
      "INFO:analytics:Failed analytes hsa-miR-1273c with error NaN, inf or invalid value detected in weights, estimation infeasible.\n",
      "2024-06-21 05:57:54,761 INFO Finished 1200 in 48.249 seconds (skipped 0)\n",
      "INFO:analytics:Finished 1200 in 48.249 seconds (skipped 0)\n",
      "2024-06-21 05:57:58,766 INFO Finished 1300 in 52.254 seconds (skipped 0)\n",
      "INFO:analytics:Finished 1300 in 52.254 seconds (skipped 0)\n",
      "2024-06-21 05:57:59,949 INFO Failed analytes BRK1 (protein) with error NaN, inf or invalid value detected in weights, estimation infeasible.\n",
      "INFO:analytics:Failed analytes BRK1 (protein) with error NaN, inf or invalid value detected in weights, estimation infeasible.\n",
      "2024-06-21 05:58:01,930 INFO Failed analytes CNTN4 (protein) with error NaN, inf or invalid value detected in weights, estimation infeasible.\n",
      "INFO:analytics:Failed analytes CNTN4 (protein) with error NaN, inf or invalid value detected in weights, estimation infeasible.\n",
      "2024-06-21 05:58:02,563 INFO Finished 1400 in 56.050 seconds (skipped 0)\n",
      "INFO:analytics:Finished 1400 in 56.050 seconds (skipped 0)\n",
      "2024-06-21 05:58:02,776 INFO Failed analytes THBS2 (protein) with error NaN, inf or invalid value detected in weights, estimation infeasible.\n",
      "INFO:analytics:Failed analytes THBS2 (protein) with error NaN, inf or invalid value detected in weights, estimation infeasible.\n",
      "2024-06-21 05:58:04,365 INFO Failed analytes CD40-L (protein) with error NaN, inf or invalid value detected in weights, estimation infeasible.\n",
      "INFO:analytics:Failed analytes CD40-L (protein) with error NaN, inf or invalid value detected in weights, estimation infeasible.\n",
      "2024-06-21 05:58:04,475 INFO Failed analytes IL-1 alpha (protein) with error NaN, inf or invalid value detected in weights, estimation infeasible.\n",
      "INFO:analytics:Failed analytes IL-1 alpha (protein) with error NaN, inf or invalid value detected in weights, estimation infeasible.\n",
      "2024-06-21 05:58:05,040 INFO Failed analytes VEGFD (protein) with error NaN, inf or invalid value detected in weights, estimation infeasible.\n",
      "INFO:analytics:Failed analytes VEGFD (protein) with error NaN, inf or invalid value detected in weights, estimation infeasible.\n",
      "2024-06-21 05:58:05,709 INFO Failed analytes CD84 (protein) with error NaN, inf or invalid value detected in weights, estimation infeasible.\n",
      "INFO:analytics:Failed analytes CD84 (protein) with error NaN, inf or invalid value detected in weights, estimation infeasible.\n",
      "2024-06-21 05:58:05,852 INFO Failed analytes AGRP (protein) with error NaN, inf or invalid value detected in weights, estimation infeasible.\n",
      "INFO:analytics:Failed analytes AGRP (protein) with error NaN, inf or invalid value detected in weights, estimation infeasible.\n",
      "2024-06-21 05:58:06,324 INFO Failed analytes BMP-6 (protein) with error NaN, inf or invalid value detected in weights, estimation infeasible.\n",
      "INFO:analytics:Failed analytes BMP-6 (protein) with error NaN, inf or invalid value detected in weights, estimation infeasible.\n",
      "2024-06-21 05:58:06,544 INFO Finished 1500 in 60.031 seconds (skipped 0)\n",
      "INFO:analytics:Finished 1500 in 60.031 seconds (skipped 0)\n",
      "2024-06-21 05:58:07,050 INFO Failed analytes NOV (protein) with error NaN, inf or invalid value detected in weights, estimation infeasible.\n",
      "INFO:analytics:Failed analytes NOV (protein) with error NaN, inf or invalid value detected in weights, estimation infeasible.\n",
      "2024-06-21 05:58:07,478 INFO Failed analytes CPA1 (protein) with error NaN, inf or invalid value detected in weights, estimation infeasible.\n",
      "INFO:analytics:Failed analytes CPA1 (protein) with error NaN, inf or invalid value detected in weights, estimation infeasible.\n",
      "2024-06-21 05:58:08,798 INFO Failed analytes CEACAM8 (protein) with error NaN, inf or invalid value detected in weights, estimation infeasible.\n",
      "INFO:analytics:Failed analytes CEACAM8 (protein) with error NaN, inf or invalid value detected in weights, estimation infeasible.\n",
      "2024-06-21 05:58:09,946 INFO Failed analytes IL-12B (protein) with error NaN, inf or invalid value detected in weights, estimation infeasible.\n",
      "INFO:analytics:Failed analytes IL-12B (protein) with error NaN, inf or invalid value detected in weights, estimation infeasible.\n",
      "2024-06-21 05:58:10,162 INFO Finished 1600 in 63.649 seconds (skipped 0)\n",
      "INFO:analytics:Finished 1600 in 63.649 seconds (skipped 0)\n",
      "2024-06-21 05:58:11,914 INFO Failed analytes ICAM-2 (protein) with error NaN, inf or invalid value detected in weights, estimation infeasible.\n",
      "INFO:analytics:Failed analytes ICAM-2 (protein) with error NaN, inf or invalid value detected in weights, estimation infeasible.\n",
      "2024-06-21 05:58:13,855 INFO Finished 1700 in 67.342 seconds (skipped 0)\n",
      "INFO:analytics:Finished 1700 in 67.342 seconds (skipped 0)\n",
      "2024-06-21 05:58:17,558 INFO Finished 1800 in 71.045 seconds (skipped 0)\n",
      "INFO:analytics:Finished 1800 in 71.045 seconds (skipped 0)\n",
      "2024-06-21 05:58:21,382 INFO Finished 1900 in 74.869 seconds (skipped 0)\n",
      "INFO:analytics:Finished 1900 in 74.869 seconds (skipped 0)\n",
      "2024-06-21 05:58:25,285 INFO Finished 2000 in 78.772 seconds (skipped 0)\n",
      "INFO:analytics:Finished 2000 in 78.772 seconds (skipped 0)\n",
      "2024-06-21 05:58:29,075 INFO Finished 2100 in 82.562 seconds (skipped 0)\n",
      "INFO:analytics:Finished 2100 in 82.562 seconds (skipped 0)\n",
      "2024-06-21 05:58:32,934 INFO Finished 2200 in 86.421 seconds (skipped 0)\n",
      "INFO:analytics:Finished 2200 in 86.421 seconds (skipped 0)\n",
      "2024-06-21 05:58:36,758 INFO Finished 2300 in 90.245 seconds (skipped 0)\n",
      "INFO:analytics:Finished 2300 in 90.245 seconds (skipped 0)\n",
      "2024-06-21 05:58:40,476 INFO Finished 2400 in 93.964 seconds (skipped 0)\n",
      "INFO:analytics:Finished 2400 in 93.964 seconds (skipped 0)\n",
      "2024-06-21 05:58:44,211 INFO Finished 2500 in 97.698 seconds (skipped 0)\n",
      "INFO:analytics:Finished 2500 in 97.698 seconds (skipped 0)\n",
      "2024-06-21 05:58:48,074 INFO Finished 2600 in 101.561 seconds (skipped 0)\n",
      "INFO:analytics:Finished 2600 in 101.561 seconds (skipped 0)\n",
      "2024-06-21 05:58:51,799 INFO Finished 2700 in 105.286 seconds (skipped 0)\n",
      "INFO:analytics:Finished 2700 in 105.286 seconds (skipped 0)\n",
      "2024-06-21 05:58:55,549 INFO Finished 2800 in 109.036 seconds (skipped 0)\n",
      "INFO:analytics:Finished 2800 in 109.036 seconds (skipped 0)\n",
      "2024-06-21 05:58:59,316 INFO Finished 2900 in 112.803 seconds (skipped 0)\n",
      "INFO:analytics:Finished 2900 in 112.803 seconds (skipped 0)\n",
      "2024-06-21 05:59:03,184 INFO Finished 3000 in 116.671 seconds (skipped 0)\n",
      "INFO:analytics:Finished 3000 in 116.671 seconds (skipped 0)\n",
      "2024-06-21 05:59:07,203 INFO Finished 3100 in 120.690 seconds (skipped 0)\n",
      "INFO:analytics:Finished 3100 in 120.690 seconds (skipped 0)\n",
      "2024-06-21 05:59:11,054 INFO Finished 3200 in 124.541 seconds (skipped 0)\n",
      "INFO:analytics:Finished 3200 in 124.541 seconds (skipped 0)\n",
      "2024-06-21 05:59:14,812 INFO Finished 3300 in 128.299 seconds (skipped 0)\n",
      "INFO:analytics:Finished 3300 in 128.299 seconds (skipped 0)\n",
      "2024-06-21 05:59:18,525 INFO Finished 3400 in 132.012 seconds (skipped 0)\n",
      "INFO:analytics:Finished 3400 in 132.012 seconds (skipped 0)\n",
      "2024-06-21 05:59:22,275 INFO Finished 3500 in 135.762 seconds (skipped 0)\n",
      "INFO:analytics:Finished 3500 in 135.762 seconds (skipped 0)\n",
      "2024-06-21 05:59:26,141 INFO Finished 3600 in 139.628 seconds (skipped 0)\n",
      "INFO:analytics:Finished 3600 in 139.628 seconds (skipped 0)\n",
      "2024-06-21 05:59:30,022 INFO Finished 3700 in 143.510 seconds (skipped 0)\n",
      "INFO:analytics:Finished 3700 in 143.510 seconds (skipped 0)\n",
      "2024-06-21 05:59:33,815 INFO Finished 3800 in 147.302 seconds (skipped 0)\n",
      "INFO:analytics:Finished 3800 in 147.302 seconds (skipped 0)\n",
      "2024-06-21 05:59:37,522 INFO Finished 3900 in 151.010 seconds (skipped 0)\n",
      "INFO:analytics:Finished 3900 in 151.010 seconds (skipped 0)\n",
      "2024-06-21 05:59:41,224 INFO Finished 4000 in 154.712 seconds (skipped 0)\n",
      "INFO:analytics:Finished 4000 in 154.712 seconds (skipped 0)\n",
      "2024-06-21 05:59:44,986 INFO Finished 4100 in 158.473 seconds (skipped 0)\n",
      "INFO:analytics:Finished 4100 in 158.473 seconds (skipped 0)\n",
      "2024-06-21 05:59:48,790 INFO Finished 4200 in 162.277 seconds (skipped 0)\n",
      "INFO:analytics:Finished 4200 in 162.277 seconds (skipped 0)\n",
      "2024-06-21 05:59:52,509 INFO Finished 4300 in 165.996 seconds (skipped 0)\n",
      "INFO:analytics:Finished 4300 in 165.996 seconds (skipped 0)\n",
      "2024-06-21 05:59:56,199 INFO Finished 4400 in 169.686 seconds (skipped 0)\n",
      "INFO:analytics:Finished 4400 in 169.686 seconds (skipped 0)\n",
      "2024-06-21 05:59:59,863 INFO Finished 4500 in 173.350 seconds (skipped 0)\n",
      "INFO:analytics:Finished 4500 in 173.350 seconds (skipped 0)\n",
      "2024-06-21 06:00:03,569 INFO Finished 4600 in 177.056 seconds (skipped 0)\n",
      "INFO:analytics:Finished 4600 in 177.056 seconds (skipped 0)\n",
      "2024-06-21 06:00:07,409 INFO Finished 4700 in 180.897 seconds (skipped 0)\n",
      "INFO:analytics:Finished 4700 in 180.897 seconds (skipped 0)\n",
      "2024-06-21 06:00:11,441 INFO Finished 4800 in 184.928 seconds (skipped 0)\n",
      "INFO:analytics:Finished 4800 in 184.928 seconds (skipped 0)\n",
      "2024-06-21 06:00:15,225 INFO Finished 4900 in 188.712 seconds (skipped 0)\n",
      "INFO:analytics:Finished 4900 in 188.712 seconds (skipped 0)\n",
      "2024-06-21 06:00:18,914 INFO Finished 5000 in 192.401 seconds (skipped 0)\n",
      "INFO:analytics:Finished 5000 in 192.401 seconds (skipped 0)\n",
      "2024-06-21 06:00:22,584 INFO Finished 5100 in 196.071 seconds (skipped 0)\n",
      "INFO:analytics:Finished 5100 in 196.071 seconds (skipped 0)\n",
      "2024-06-21 06:00:26,396 INFO Finished 5200 in 199.883 seconds (skipped 0)\n",
      "INFO:analytics:Finished 5200 in 199.883 seconds (skipped 0)\n",
      "2024-06-21 06:00:30,332 INFO Finished 5300 in 203.819 seconds (skipped 0)\n",
      "INFO:analytics:Finished 5300 in 203.819 seconds (skipped 0)\n",
      "2024-06-21 06:00:34,107 INFO Finished 5400 in 207.594 seconds (skipped 0)\n",
      "INFO:analytics:Finished 5400 in 207.594 seconds (skipped 0)\n",
      "2024-06-21 06:00:37,849 INFO Finished 5500 in 211.336 seconds (skipped 0)\n",
      "INFO:analytics:Finished 5500 in 211.336 seconds (skipped 0)\n",
      "2024-06-21 06:00:41,609 INFO Finished 5600 in 215.096 seconds (skipped 0)\n",
      "INFO:analytics:Finished 5600 in 215.096 seconds (skipped 0)\n",
      "2024-06-21 06:00:45,287 INFO Finished 5700 in 218.775 seconds (skipped 0)\n",
      "INFO:analytics:Finished 5700 in 218.775 seconds (skipped 0)\n",
      "2024-06-21 06:00:48,963 INFO Finished 5800 in 222.451 seconds (skipped 0)\n",
      "INFO:analytics:Finished 5800 in 222.451 seconds (skipped 0)\n",
      "2024-06-21 06:00:52,770 INFO Finished 5900 in 226.257 seconds (skipped 0)\n",
      "INFO:analytics:Finished 5900 in 226.257 seconds (skipped 0)\n",
      "2024-06-21 06:00:56,400 INFO Finished 6000 in 229.887 seconds (skipped 0)\n",
      "INFO:analytics:Finished 6000 in 229.887 seconds (skipped 0)\n",
      "2024-06-21 06:01:00,084 INFO Finished 6100 in 233.571 seconds (skipped 0)\n",
      "INFO:analytics:Finished 6100 in 233.571 seconds (skipped 0)\n",
      "2024-06-21 06:01:03,836 INFO Finished 6200 in 237.324 seconds (skipped 0)\n",
      "INFO:analytics:Finished 6200 in 237.324 seconds (skipped 0)\n",
      "2024-06-21 06:01:07,709 INFO Finished 6300 in 241.196 seconds (skipped 0)\n",
      "INFO:analytics:Finished 6300 in 241.196 seconds (skipped 0)\n",
      "2024-06-21 06:01:11,627 INFO Finished 6400 in 245.114 seconds (skipped 0)\n",
      "INFO:analytics:Finished 6400 in 245.114 seconds (skipped 0)\n",
      "2024-06-21 06:01:15,384 INFO Finished 6500 in 248.871 seconds (skipped 0)\n",
      "INFO:analytics:Finished 6500 in 248.871 seconds (skipped 0)\n",
      "2024-06-21 06:01:19,077 INFO Finished 6600 in 252.564 seconds (skipped 0)\n",
      "INFO:analytics:Finished 6600 in 252.564 seconds (skipped 0)\n",
      "2024-06-21 06:01:22,766 INFO Finished 6700 in 256.253 seconds (skipped 0)\n",
      "INFO:analytics:Finished 6700 in 256.253 seconds (skipped 0)\n",
      "2024-06-21 06:01:26,597 INFO Finished 6800 in 260.084 seconds (skipped 0)\n",
      "INFO:analytics:Finished 6800 in 260.084 seconds (skipped 0)\n",
      "2024-06-21 06:01:30,481 INFO Finished 6900 in 263.968 seconds (skipped 0)\n",
      "INFO:analytics:Finished 6900 in 263.968 seconds (skipped 0)\n",
      "2024-06-21 06:01:34,324 INFO Finished 7000 in 267.811 seconds (skipped 0)\n",
      "INFO:analytics:Finished 7000 in 267.811 seconds (skipped 0)\n",
      "2024-06-21 06:01:38,066 INFO Finished 7100 in 271.554 seconds (skipped 0)\n",
      "INFO:analytics:Finished 7100 in 271.554 seconds (skipped 0)\n",
      "2024-06-21 06:01:41,906 INFO Finished 7200 in 275.393 seconds (skipped 0)\n",
      "INFO:analytics:Finished 7200 in 275.393 seconds (skipped 0)\n",
      "2024-06-21 06:01:45,734 INFO Finished 7300 in 279.221 seconds (skipped 0)\n",
      "INFO:analytics:Finished 7300 in 279.221 seconds (skipped 0)\n",
      "2024-06-21 06:01:49,449 INFO Finished 7400 in 282.936 seconds (skipped 0)\n",
      "INFO:analytics:Finished 7400 in 282.936 seconds (skipped 0)\n",
      "2024-06-21 06:01:53,330 INFO Finished 7500 in 286.817 seconds (skipped 0)\n",
      "INFO:analytics:Finished 7500 in 286.817 seconds (skipped 0)\n",
      "2024-06-21 06:01:57,173 INFO Finished 7600 in 290.661 seconds (skipped 0)\n",
      "INFO:analytics:Finished 7600 in 290.661 seconds (skipped 0)\n",
      "2024-06-21 06:02:00,925 INFO Finished 7700 in 294.412 seconds (skipped 0)\n",
      "INFO:analytics:Finished 7700 in 294.412 seconds (skipped 0)\n",
      "2024-06-21 06:02:04,697 INFO Finished 7800 in 298.185 seconds (skipped 0)\n",
      "INFO:analytics:Finished 7800 in 298.185 seconds (skipped 0)\n",
      "2024-06-21 06:02:08,613 INFO Finished 7900 in 302.100 seconds (skipped 0)\n",
      "INFO:analytics:Finished 7900 in 302.100 seconds (skipped 0)\n",
      "2024-06-21 06:02:12,558 INFO Finished 8000 in 306.045 seconds (skipped 0)\n",
      "INFO:analytics:Finished 8000 in 306.045 seconds (skipped 0)\n",
      "2024-06-21 06:02:16,389 INFO Finished 8100 in 309.876 seconds (skipped 0)\n",
      "INFO:analytics:Finished 8100 in 309.876 seconds (skipped 0)\n",
      "2024-06-21 06:02:20,124 INFO Finished 8200 in 313.611 seconds (skipped 0)\n",
      "INFO:analytics:Finished 8200 in 313.611 seconds (skipped 0)\n",
      "2024-06-21 06:02:23,870 INFO Finished 8300 in 317.358 seconds (skipped 0)\n",
      "INFO:analytics:Finished 8300 in 317.358 seconds (skipped 0)\n",
      "2024-06-21 06:02:27,768 INFO Finished 8400 in 321.255 seconds (skipped 0)\n",
      "INFO:analytics:Finished 8400 in 321.255 seconds (skipped 0)\n",
      "2024-06-21 06:02:31,737 INFO Finished 8500 in 325.224 seconds (skipped 0)\n",
      "INFO:analytics:Finished 8500 in 325.224 seconds (skipped 0)\n",
      "2024-06-21 06:02:35,692 INFO Finished 8600 in 329.179 seconds (skipped 0)\n",
      "INFO:analytics:Finished 8600 in 329.179 seconds (skipped 0)\n",
      "2024-06-21 06:02:39,440 INFO Finished 8700 in 332.928 seconds (skipped 0)\n",
      "INFO:analytics:Finished 8700 in 332.928 seconds (skipped 0)\n",
      "2024-06-21 06:02:43,158 INFO Finished 8800 in 336.645 seconds (skipped 0)\n",
      "INFO:analytics:Finished 8800 in 336.645 seconds (skipped 0)\n",
      "2024-06-21 06:02:46,810 INFO Finished 8900 in 340.297 seconds (skipped 0)\n",
      "INFO:analytics:Finished 8900 in 340.297 seconds (skipped 0)\n",
      "2024-06-21 06:02:50,547 INFO Finished 9000 in 344.034 seconds (skipped 0)\n",
      "INFO:analytics:Finished 9000 in 344.034 seconds (skipped 0)\n",
      "2024-06-21 06:02:54,363 INFO Finished 9100 in 347.851 seconds (skipped 0)\n",
      "INFO:analytics:Finished 9100 in 347.851 seconds (skipped 0)\n",
      "2024-06-21 06:02:58,058 INFO Finished 9200 in 351.546 seconds (skipped 0)\n",
      "INFO:analytics:Finished 9200 in 351.546 seconds (skipped 0)\n",
      "2024-06-21 06:03:01,748 INFO Finished 9300 in 355.235 seconds (skipped 0)\n",
      "INFO:analytics:Finished 9300 in 355.235 seconds (skipped 0)\n",
      "2024-06-21 06:03:05,658 INFO Finished 9400 in 359.145 seconds (skipped 0)\n",
      "INFO:analytics:Finished 9400 in 359.145 seconds (skipped 0)\n",
      "2024-06-21 06:03:09,429 INFO Finished 9500 in 362.916 seconds (skipped 0)\n",
      "INFO:analytics:Finished 9500 in 362.916 seconds (skipped 0)\n",
      "2024-06-21 06:03:13,343 INFO Finished 9600 in 366.830 seconds (skipped 0)\n",
      "INFO:analytics:Finished 9600 in 366.830 seconds (skipped 0)\n",
      "2024-06-21 06:03:17,052 INFO Finished 9700 in 370.539 seconds (skipped 0)\n",
      "INFO:analytics:Finished 9700 in 370.539 seconds (skipped 0)\n",
      "2024-06-21 06:03:20,776 INFO Finished 9800 in 374.263 seconds (skipped 0)\n",
      "INFO:analytics:Finished 9800 in 374.263 seconds (skipped 0)\n",
      "2024-06-21 06:03:24,528 INFO Finished 9900 in 378.016 seconds (skipped 0)\n",
      "INFO:analytics:Finished 9900 in 378.016 seconds (skipped 0)\n",
      "2024-06-21 06:03:28,327 INFO Finished 10000 in 381.814 seconds (skipped 0)\n",
      "INFO:analytics:Finished 10000 in 381.814 seconds (skipped 0)\n",
      "2024-06-21 06:03:32,169 INFO Finished 10100 in 385.656 seconds (skipped 0)\n",
      "INFO:analytics:Finished 10100 in 385.656 seconds (skipped 0)\n",
      "2024-06-21 06:03:36,255 INFO Finished 10200 in 389.742 seconds (skipped 0)\n",
      "INFO:analytics:Finished 10200 in 389.742 seconds (skipped 0)\n",
      "2024-06-21 06:03:39,978 INFO Finished 10300 in 393.465 seconds (skipped 0)\n",
      "INFO:analytics:Finished 10300 in 393.465 seconds (skipped 0)\n",
      "2024-06-21 06:03:43,795 INFO Finished 10400 in 397.282 seconds (skipped 0)\n",
      "INFO:analytics:Finished 10400 in 397.282 seconds (skipped 0)\n",
      "2024-06-21 06:03:47,453 INFO Finished 10500 in 400.940 seconds (skipped 0)\n",
      "INFO:analytics:Finished 10500 in 400.940 seconds (skipped 0)\n",
      "2024-06-21 06:03:51,166 INFO Finished 10600 in 404.654 seconds (skipped 0)\n",
      "INFO:analytics:Finished 10600 in 404.654 seconds (skipped 0)\n",
      "2024-06-21 06:03:54,972 INFO Finished 10700 in 408.459 seconds (skipped 0)\n",
      "INFO:analytics:Finished 10700 in 408.459 seconds (skipped 0)\n",
      "2024-06-21 06:03:58,786 INFO Finished 10800 in 412.273 seconds (skipped 0)\n",
      "INFO:analytics:Finished 10800 in 412.273 seconds (skipped 0)\n",
      "2024-06-21 06:04:02,488 INFO Finished 10900 in 415.975 seconds (skipped 0)\n",
      "INFO:analytics:Finished 10900 in 415.975 seconds (skipped 0)\n",
      "2024-06-21 06:04:06,214 INFO Finished 11000 in 419.701 seconds (skipped 0)\n",
      "INFO:analytics:Finished 11000 in 419.701 seconds (skipped 0)\n",
      "2024-06-21 06:04:09,935 INFO Finished 11100 in 423.423 seconds (skipped 0)\n",
      "INFO:analytics:Finished 11100 in 423.423 seconds (skipped 0)\n",
      "2024-06-21 06:04:13,835 INFO Finished 11200 in 427.322 seconds (skipped 0)\n",
      "INFO:analytics:Finished 11200 in 427.322 seconds (skipped 0)\n",
      "2024-06-21 06:04:15,455 INFO \n",
      "Number of analytes analyzed: 11238\n",
      "INFO:analytics:\n",
      "Number of analytes analyzed: 11238\n",
      "2024-06-21 06:04:15,457 INFO Number of analytes with converged formula: 10878\n",
      "INFO:analytics:Number of analytes with converged formula: 10878\n",
      "2024-06-21 06:04:15,954 INFO Number of analytes whose levels are significantly regulated by gestational weeks as a function of pregravid bmi, labor initiation, smoking status, and illicit drug use status: 558\n",
      "INFO:analytics:Number of analytes whose levels are significantly regulated by gestational weeks as a function of pregravid bmi, labor initiation, smoking status, and illicit drug use status: 558\n"
     ]
    }
   ],
   "source": [
    "os.remove('output/glm.single.female.all.miniDP3.log')\n",
    "os.remove('output/failed.glm.single.female.all.miniDP3.txt')\n",
    "os.remove('output/glm.single.female.all.miniDP3.txt')\n",
    "os.remove('output/glm.single.female.sig.miniDP3.txt')\n",
    "glm_female = run_glm(df_female, analytes, 'female')"
   ]
  },
  {
   "cell_type": "code",
   "execution_count": 109,
   "metadata": {},
   "outputs": [
    {
     "data": {
      "image/png": "[encoded data removed]",
      "text/plain": [
       "<Figure size 432x288 with 1 Axes>"
      ]
     },
     "metadata": {
      "needs_background": "light"
     },
     "output_type": "display_data"
    }
   ],
   "source": [
    "glm_female['WksGest'].hist()\n",
    "plt.savefig('output/female_weeks_gestation_coef_histogram.pdf', bbox_inches='tight')"
   ]
  },
  {
   "cell_type": "code",
   "execution_count": 110,
   "metadata": {},
   "outputs": [
    {
     "data": {
      "image/png": "[encoded data removed]",
      "text/plain": [
       "<Figure size 432x288 with 1 Axes>"
      ]
     },
     "metadata": {
      "needs_background": "light"
     },
     "output_type": "display_data"
    }
   ],
   "source": [
    "glm_female['PregravidBMISquared'].hist()\n",
    "plt.savefig('output/female_pregravid_squared_coef_histogram.pdf', bbox_inches='tight')"
   ]
  },
  {
   "cell_type": "code",
   "execution_count": 111,
   "metadata": {},
   "outputs": [
    {
     "data": {
      "image/png": "[encoded data removed]",
      "text/plain": [
       "<Figure size 432x288 with 1 Axes>"
      ]
     },
     "metadata": {
      "needs_background": "light"
     },
     "output_type": "display_data"
    }
   ],
   "source": [
    "glm_female['C(LaborInitiation)[T.1]'].hist()\n",
    "plt.savefig('output/female_labor_inititation_coef_histogram.pdf', bbox_inches='tight')"
   ]
  },
  {
   "cell_type": "code",
   "execution_count": 112,
   "metadata": {},
   "outputs": [
    {
     "data": {
      "image/png": "[encoded data removed]",
      "text/plain": [
       "<Figure size 432x288 with 1 Axes>"
      ]
     },
     "metadata": {
      "needs_background": "light"
     },
     "output_type": "display_data"
    }
   ],
   "source": [
    "glm_female['C(Smoker)[T.1.0]'].hist()\n",
    "plt.savefig('output/female_smoker_coef_histogram.pdf', bbox_inches='tight')"
   ]
  },
  {
   "cell_type": "code",
   "execution_count": 113,
   "metadata": {},
   "outputs": [
    {
     "data": {
      "image/png": "[encoded data removed]",
      "text/plain": [
       "<Figure size 432x288 with 1 Axes>"
      ]
     },
     "metadata": {
      "needs_background": "light"
     },
     "output_type": "display_data"
    }
   ],
   "source": [
    "glm_female['C(IllicitDrugUser)[T.1.0]'].hist()\n",
    "plt.savefig('output/female_illicit_drug_user_coef_histogram.pdf', bbox_inches='tight')"
   ]
  },
  {
   "cell_type": "code",
   "execution_count": 114,
   "metadata": {},
   "outputs": [
    {
     "data": {
      "image/png": "[encoded data removed]",
      "text/plain": [
       "<Figure size 432x288 with 1 Axes>"
      ]
     },
     "metadata": {
      "needs_background": "light"
     },
     "output_type": "display_data"
    }
   ],
   "source": [
    "glm_female['Intercept'].hist()\n",
    "plt.savefig('output/female_intercept_coef_histogram.pdf', bbox_inches='tight')"
   ]
  },
  {
   "cell_type": "code",
   "execution_count": 115,
   "metadata": {},
   "outputs": [
    {
     "name": "stderr",
     "output_type": "stream",
     "text": [
      "/opt/conda/envs/arivale-py3/lib/python3.7/site-packages/statsmodels/genmod/generalized_linear_model.py:1132: DeprecationWarning: `np.float` is a deprecated alias for the builtin `float`. To silence this warning, use `float` by itself. Doing this will not modify any behavior and is safe. If you specifically wanted the numpy scalar type, use `np.float64` here.\n",
      "Deprecated in NumPy 1.20; for more details and guidance: https://numpy.org/devdocs/release/1.20.0-notes.html#deprecations\n",
      "  start_params = np.zeros(self.exog.shape[1], np.float)\n",
      "/opt/conda/envs/arivale-py3/lib/python3.7/site-packages/statsmodels/genmod/families/links.py:517: RuntimeWarning: overflow encountered in exp\n",
      "  return np.exp(z)\n",
      "/opt/conda/envs/arivale-py3/lib/python3.7/site-packages/statsmodels/genmod/families/links.py:517: RuntimeWarning: underflow encountered in exp\n",
      "  return np.exp(z)\n",
      "/opt/conda/envs/arivale-py3/lib/python3.7/site-packages/statsmodels/genmod/families/family.py:697: RuntimeWarning: divide by zero encountered in true_divide\n",
      "  endog_mu = self._clean(endog / mu)\n",
      "/opt/conda/envs/arivale-py3/lib/python3.7/site-packages/statsmodels/genmod/families/family.py:698: RuntimeWarning: divide by zero encountered in true_divide\n",
      "  resid_dev = -np.log(endog_mu) + (endog - mu) / mu\n",
      "/opt/conda/envs/arivale-py3/lib/python3.7/site-packages/statsmodels/genmod/families/family.py:698: RuntimeWarning: invalid value encountered in true_divide\n",
      "  resid_dev = -np.log(endog_mu) + (endog - mu) / mu\n",
      "/opt/conda/envs/arivale-py3/lib/python3.7/site-packages/statsmodels/genmod/families/family.py:698: RuntimeWarning: invalid value encountered in add\n",
      "  resid_dev = -np.log(endog_mu) + (endog - mu) / mu\n",
      "/opt/conda/envs/arivale-py3/lib/python3.7/site-packages/statsmodels/genmod/generalized_linear_model.py:774: RuntimeWarning: divide by zero encountered in true_divide\n",
      "  return np.sum(resid / self.family.variance(mu)) / self.df_resid\n",
      "/opt/conda/envs/arivale-py3/lib/python3.7/site-packages/statsmodels/genmod/generalized_linear_model.py:774: RuntimeWarning: invalid value encountered in true_divide\n",
      "  return np.sum(resid / self.family.variance(mu)) / self.df_resid\n",
      "/opt/conda/envs/arivale-py3/lib/python3.7/site-packages/statsmodels/genmod/families/family.py:134: RuntimeWarning: invalid value encountered in multiply\n",
      "  return 1. / (self.link.deriv(mu)**2 * self.variance(mu))\n",
      "/opt/conda/envs/arivale-py3/lib/python3.7/site-packages/statsmodels/genmod/families/family.py:134: RuntimeWarning: divide by zero encountered in true_divide\n",
      "  return 1. / (self.link.deriv(mu)**2 * self.variance(mu))\n",
      "/opt/conda/envs/arivale-py3/lib/python3.7/site-packages/statsmodels/genmod/generalized_linear_model.py:1162: RuntimeWarning: invalid value encountered in multiply\n",
      "  - self._offset_exposure)\n",
      "2024-06-21 06:04:18,676 INFO Failed analytes gamma-glutamylphenylalanine with error NaN, inf or invalid value detected in weights, estimation infeasible.\n",
      "INFO:analytics:Failed analytes gamma-glutamylphenylalanine with error NaN, inf or invalid value detected in weights, estimation infeasible.\n",
      "2024-06-21 06:04:19,974 INFO Failed analytes gamma-carboxyglutamate with error NaN, inf or invalid value detected in weights, estimation infeasible.\n",
      "INFO:analytics:Failed analytes gamma-carboxyglutamate with error NaN, inf or invalid value detected in weights, estimation infeasible.\n",
      "/opt/conda/envs/arivale-py3/lib/python3.7/site-packages/statsmodels/genmod/generalized_linear_model.py:773: RuntimeWarning: overflow encountered in power\n",
      "  resid = np.power(self.endog - mu, 2) * self.iweights\n",
      "/opt/conda/envs/arivale-py3/lib/python3.7/site-packages/statsmodels/genmod/families/varfuncs.py:104: RuntimeWarning: overflow encountered in power\n",
      "  return np.power(np.fabs(mu), self.power)\n",
      "/opt/conda/envs/arivale-py3/lib/python3.7/site-packages/statsmodels/genmod/families/family.py:134: RuntimeWarning: underflow encountered in square\n",
      "  return 1. / (self.link.deriv(mu)**2 * self.variance(mu))\n",
      "2024-06-21 06:04:20,200 INFO Failed analytes stearoyl-arachidonoyl-glycerol (18:0/20:4) [1]* with error NaN, inf or invalid value detected in weights, estimation infeasible.\n",
      "INFO:analytics:Failed analytes stearoyl-arachidonoyl-glycerol (18:0/20:4) [1]* with error NaN, inf or invalid value detected in weights, estimation infeasible.\n",
      "2024-06-21 06:04:20,269 INFO Failed analytes N-acetylglutamate with error NaN, inf or invalid value detected in weights, estimation infeasible.\n",
      "INFO:analytics:Failed analytes N-acetylglutamate with error NaN, inf or invalid value detected in weights, estimation infeasible.\n",
      "2024-06-21 06:04:20,582 INFO Failed analytes 1-stearoyl-2-linoleoyl-GPI (18:0/18:2) with error NaN, inf or invalid value detected in weights, estimation infeasible.\n",
      "INFO:analytics:Failed analytes 1-stearoyl-2-linoleoyl-GPI (18:0/18:2) with error NaN, inf or invalid value detected in weights, estimation infeasible.\n",
      "2024-06-21 06:04:20,742 INFO Failed analytes methionine sulfone with error NaN, inf or invalid value detected in weights, estimation infeasible.\n",
      "INFO:analytics:Failed analytes methionine sulfone with error NaN, inf or invalid value detected in weights, estimation infeasible.\n",
      "/opt/conda/envs/arivale-py3/lib/python3.7/site-packages/statsmodels/genmod/families/varfuncs.py:104: RuntimeWarning: underflow encountered in power\n",
      "  return np.power(np.fabs(mu), self.power)\n",
      "/opt/conda/envs/arivale-py3/lib/python3.7/site-packages/statsmodels/genmod/generalized_linear_model.py:774: RuntimeWarning: overflow encountered in true_divide\n",
      "  return np.sum(resid / self.family.variance(mu)) / self.df_resid\n",
      "2024-06-21 06:04:20,808 INFO Failed analytes nicotinamide with error NaN, inf or invalid value detected in weights, estimation infeasible.\n",
      "INFO:analytics:Failed analytes nicotinamide with error NaN, inf or invalid value detected in weights, estimation infeasible.\n",
      "2024-06-21 06:04:20,949 INFO Failed analytes N,N-dimethyl-pro-pro with error NaN, inf or invalid value detected in weights, estimation infeasible.\n",
      "INFO:analytics:Failed analytes N,N-dimethyl-pro-pro with error NaN, inf or invalid value detected in weights, estimation infeasible.\n",
      "2024-06-21 06:04:21,066 INFO Failed analytes hydroxy-CMPF* with error NaN, inf or invalid value detected in weights, estimation infeasible.\n",
      "INFO:analytics:Failed analytes hydroxy-CMPF* with error NaN, inf or invalid value detected in weights, estimation infeasible.\n",
      "2024-06-21 06:04:21,301 INFO Failed analytes 4-acetamidobutanoate with error NaN, inf or invalid value detected in weights, estimation infeasible.\n",
      "INFO:analytics:Failed analytes 4-acetamidobutanoate with error NaN, inf or invalid value detected in weights, estimation infeasible.\n",
      "2024-06-21 06:04:21,369 INFO Failed analytes 1-(1-enyl-palmitoyl)-2-palmitoleoyl-GPC (P-16:0/16:1)* with error NaN, inf or invalid value detected in weights, estimation infeasible.\n",
      "INFO:analytics:Failed analytes 1-(1-enyl-palmitoyl)-2-palmitoleoyl-GPC (P-16:0/16:1)* with error NaN, inf or invalid value detected in weights, estimation infeasible.\n",
      "2024-06-21 06:04:21,859 INFO Failed analytes sphingomyelin (d18:2/23:0, d18:1/23:1, d17:1/24:1)* with error NaN, inf or invalid value detected in weights, estimation infeasible.\n",
      "INFO:analytics:Failed analytes sphingomyelin (d18:2/23:0, d18:1/23:1, d17:1/24:1)* with error NaN, inf or invalid value detected in weights, estimation infeasible.\n",
      "2024-06-21 06:04:22,453 INFO Failed analytes threonine with error NaN, inf or invalid value detected in weights, estimation infeasible.\n",
      "INFO:analytics:Failed analytes threonine with error NaN, inf or invalid value detected in weights, estimation infeasible.\n",
      "2024-06-21 06:04:22,519 INFO Failed analytes 1-oleoyl-GPE (18:1) with error NaN, inf or invalid value detected in weights, estimation infeasible.\n",
      "INFO:analytics:Failed analytes 1-oleoyl-GPE (18:1) with error NaN, inf or invalid value detected in weights, estimation infeasible.\n",
      "2024-06-21 06:04:22,521 INFO Finished 100 in 3.875 seconds (skipped 0)\n",
      "INFO:analytics:Finished 100 in 3.875 seconds (skipped 0)\n",
      "2024-06-21 06:04:23,450 INFO Failed analytes histamine with error NaN, inf or invalid value detected in weights, estimation infeasible.\n",
      "INFO:analytics:Failed analytes histamine with error NaN, inf or invalid value detected in weights, estimation infeasible.\n",
      "/opt/conda/envs/arivale-py3/lib/python3.7/site-packages/statsmodels/genmod/families/family.py:697: RuntimeWarning: overflow encountered in true_divide\n",
      "  endog_mu = self._clean(endog / mu)\n",
      "/opt/conda/envs/arivale-py3/lib/python3.7/site-packages/statsmodels/genmod/families/family.py:698: RuntimeWarning: overflow encountered in true_divide\n",
      "  resid_dev = -np.log(endog_mu) + (endog - mu) / mu\n",
      "2024-06-21 06:04:23,578 INFO Failed analytes gamma-glutamylalanine with error NaN, inf or invalid value detected in weights, estimation infeasible.\n",
      "INFO:analytics:Failed analytes gamma-glutamylalanine with error NaN, inf or invalid value detected in weights, estimation infeasible.\n",
      "2024-06-21 06:04:23,945 INFO Failed analytes valylglycine with error NaN, inf or invalid value detected in weights, estimation infeasible.\n",
      "INFO:analytics:Failed analytes valylglycine with error NaN, inf or invalid value detected in weights, estimation infeasible.\n",
      "2024-06-21 06:04:23,974 INFO Failed analytes 1-(1-enyl-palmitoyl)-2-palmitoyl-GPC (P-16:0/16:0)* with error NaN, inf or invalid value detected in weights, estimation infeasible.\n",
      "INFO:analytics:Failed analytes 1-(1-enyl-palmitoyl)-2-palmitoyl-GPC (P-16:0/16:0)* with error NaN, inf or invalid value detected in weights, estimation infeasible.\n",
      "2024-06-21 06:04:24,153 INFO Failed analytes X-23739 with error NaN, inf or invalid value detected in weights, estimation infeasible.\n",
      "INFO:analytics:Failed analytes X-23739 with error NaN, inf or invalid value detected in weights, estimation infeasible.\n",
      "2024-06-21 06:04:24,181 INFO Failed analytes 21-hydroxypregnanolone disulfate with error NaN, inf or invalid value detected in weights, estimation infeasible.\n",
      "INFO:analytics:Failed analytes 21-hydroxypregnanolone disulfate with error NaN, inf or invalid value detected in weights, estimation infeasible.\n",
      "2024-06-21 06:04:24,491 INFO Failed analytes X-25009 with error NaN, inf or invalid value detected in weights, estimation infeasible.\n",
      "INFO:analytics:Failed analytes X-25009 with error NaN, inf or invalid value detected in weights, estimation infeasible.\n",
      "2024-06-21 06:04:24,519 INFO Failed analytes lignoceroyl sphingomyelin (d18:1/24:0) with error NaN, inf or invalid value detected in weights, estimation infeasible.\n",
      "INFO:analytics:Failed analytes lignoceroyl sphingomyelin (d18:1/24:0) with error NaN, inf or invalid value detected in weights, estimation infeasible.\n",
      "2024-06-21 06:04:24,551 INFO Failed analytes X-24546 with error NaN, inf or invalid value detected in weights, estimation infeasible.\n",
      "INFO:analytics:Failed analytes X-24546 with error NaN, inf or invalid value detected in weights, estimation infeasible.\n",
      "2024-06-21 06:04:24,618 INFO Failed analytes alanine with error NaN, inf or invalid value detected in weights, estimation infeasible.\n",
      "INFO:analytics:Failed analytes alanine with error NaN, inf or invalid value detected in weights, estimation infeasible.\n",
      "2024-06-21 06:04:24,731 INFO Failed analytes 21-hydroxypregnenolone disulfate with error NaN, inf or invalid value detected in weights, estimation infeasible.\n",
      "INFO:analytics:Failed analytes 21-hydroxypregnenolone disulfate with error NaN, inf or invalid value detected in weights, estimation infeasible.\n",
      "2024-06-21 06:04:24,805 INFO Failed analytes 3-methoxytyrosine with error NaN, inf or invalid value detected in weights, estimation infeasible.\n",
      "INFO:analytics:Failed analytes 3-methoxytyrosine with error NaN, inf or invalid value detected in weights, estimation infeasible.\n",
      "2024-06-21 06:04:26,366 INFO Failed analytes orotate with error NaN, inf or invalid value detected in weights, estimation infeasible.\n",
      "INFO:analytics:Failed analytes orotate with error NaN, inf or invalid value detected in weights, estimation infeasible.\n",
      "2024-06-21 06:04:26,487 INFO Finished 200 in 7.841 seconds (skipped 0)\n",
      "INFO:analytics:Finished 200 in 7.841 seconds (skipped 0)\n",
      "2024-06-21 06:04:26,624 INFO Failed analytes histidine with error NaN, inf or invalid value detected in weights, estimation infeasible.\n",
      "INFO:analytics:Failed analytes histidine with error NaN, inf or invalid value detected in weights, estimation infeasible.\n",
      "2024-06-21 06:04:26,984 INFO Failed analytes 1-stearoyl-2-linoleoyl-GPS (18:0/18:2) with error NaN, inf or invalid value detected in weights, estimation infeasible.\n",
      "INFO:analytics:Failed analytes 1-stearoyl-2-linoleoyl-GPS (18:0/18:2) with error NaN, inf or invalid value detected in weights, estimation infeasible.\n",
      "2024-06-21 06:04:27,013 INFO Failed analytes UDP-glucuronate with error NaN, inf or invalid value detected in weights, estimation infeasible.\n",
      "INFO:analytics:Failed analytes UDP-glucuronate with error NaN, inf or invalid value detected in weights, estimation infeasible.\n",
      "2024-06-21 06:04:27,160 INFO Failed analytes erythronate* with error NaN, inf or invalid value detected in weights, estimation infeasible.\n",
      "INFO:analytics:Failed analytes erythronate* with error NaN, inf or invalid value detected in weights, estimation infeasible.\n",
      "2024-06-21 06:04:27,336 INFO Failed analytes histidine betaine (hercynine)* with error NaN, inf or invalid value detected in weights, estimation infeasible.\n",
      "INFO:analytics:Failed analytes histidine betaine (hercynine)* with error NaN, inf or invalid value detected in weights, estimation infeasible.\n",
      "2024-06-21 06:04:27,474 INFO Failed analytes glycerophosphorylcholine (GPC) with error NaN, inf or invalid value detected in weights, estimation infeasible.\n",
      "INFO:analytics:Failed analytes glycerophosphorylcholine (GPC) with error NaN, inf or invalid value detected in weights, estimation infeasible.\n",
      "2024-06-21 06:04:27,897 INFO Failed analytes triethanolamine with error NaN, inf or invalid value detected in weights, estimation infeasible.\n",
      "INFO:analytics:Failed analytes triethanolamine with error NaN, inf or invalid value detected in weights, estimation infeasible.\n",
      "2024-06-21 06:04:27,925 INFO Failed analytes 1-stearoyl-GPI (18:0) with error NaN, inf or invalid value detected in weights, estimation infeasible.\n",
      "INFO:analytics:Failed analytes 1-stearoyl-GPI (18:0) with error NaN, inf or invalid value detected in weights, estimation infeasible.\n",
      "2024-06-21 06:04:28,023 INFO Failed analytes X-11787 with error NaN, inf or invalid value detected in weights, estimation infeasible.\n",
      "INFO:analytics:Failed analytes X-11787 with error NaN, inf or invalid value detected in weights, estimation infeasible.\n",
      "2024-06-21 06:04:28,139 INFO Failed analytes 1-stearoyl-GPC (18:0) with error NaN, inf or invalid value detected in weights, estimation infeasible.\n",
      "INFO:analytics:Failed analytes 1-stearoyl-GPC (18:0) with error NaN, inf or invalid value detected in weights, estimation infeasible.\n",
      "2024-06-21 06:04:28,201 INFO Failed analytes X-24432 with error NaN, inf or invalid value detected in weights, estimation infeasible.\n",
      "INFO:analytics:Failed analytes X-24432 with error NaN, inf or invalid value detected in weights, estimation infeasible.\n",
      "2024-06-21 06:04:28,230 INFO Failed analytes X-21470 with error NaN, inf or invalid value detected in weights, estimation infeasible.\n",
      "INFO:analytics:Failed analytes X-21470 with error NaN, inf or invalid value detected in weights, estimation infeasible.\n",
      "2024-06-21 06:04:28,370 INFO Failed analytes pyridoxamine phosphate with error NaN, inf or invalid value detected in weights, estimation infeasible.\n",
      "INFO:analytics:Failed analytes pyridoxamine phosphate with error NaN, inf or invalid value detected in weights, estimation infeasible.\n",
      "2024-06-21 06:04:28,514 INFO Failed analytes gamma-glutamylglutamine with error NaN, inf or invalid value detected in weights, estimation infeasible.\n",
      "INFO:analytics:Failed analytes gamma-glutamylglutamine with error NaN, inf or invalid value detected in weights, estimation infeasible.\n",
      "2024-06-21 06:04:28,649 INFO Failed analytes palmitoyl-sphingosine-phosphoethanolamine (d18:1/16:0) with error NaN, inf or invalid value detected in weights, estimation infeasible.\n",
      "INFO:analytics:Failed analytes palmitoyl-sphingosine-phosphoethanolamine (d18:1/16:0) with error NaN, inf or invalid value detected in weights, estimation infeasible.\n",
      "2024-06-21 06:04:28,677 INFO Failed analytes alanylleucine with error NaN, inf or invalid value detected in weights, estimation infeasible.\n",
      "INFO:analytics:Failed analytes alanylleucine with error NaN, inf or invalid value detected in weights, estimation infeasible.\n",
      "2024-06-21 06:04:28,815 INFO Failed analytes X-22162 with error NaN, inf or invalid value detected in weights, estimation infeasible.\n",
      "INFO:analytics:Failed analytes X-22162 with error NaN, inf or invalid value detected in weights, estimation infeasible.\n",
      "2024-06-21 06:04:28,881 INFO Failed analytes 5alpha-pregnan-3beta-ol,20-one sulfate with error NaN, inf or invalid value detected in weights, estimation infeasible.\n",
      "INFO:analytics:Failed analytes 5alpha-pregnan-3beta-ol,20-one sulfate with error NaN, inf or invalid value detected in weights, estimation infeasible.\n",
      "2024-06-21 06:04:30,107 INFO Failed analytes succinate with error NaN, inf or invalid value detected in weights, estimation infeasible.\n",
      "INFO:analytics:Failed analytes succinate with error NaN, inf or invalid value detected in weights, estimation infeasible.\n",
      "2024-06-21 06:04:30,316 INFO Finished 300 in 11.670 seconds (skipped 0)\n",
      "INFO:analytics:Finished 300 in 11.670 seconds (skipped 0)\n",
      "2024-06-21 06:04:30,386 INFO Failed analytes 1-linoleoyl-GPC (18:2) with error NaN, inf or invalid value detected in weights, estimation infeasible.\n",
      "INFO:analytics:Failed analytes 1-linoleoyl-GPC (18:2) with error NaN, inf or invalid value detected in weights, estimation infeasible.\n",
      "2024-06-21 06:04:30,587 INFO Failed analytes N-acetylthreonine with error NaN, inf or invalid value detected in weights, estimation infeasible.\n",
      "INFO:analytics:Failed analytes N-acetylthreonine with error NaN, inf or invalid value detected in weights, estimation infeasible.\n",
      "2024-06-21 06:04:30,696 INFO Failed analytes oleoyl-linoleoyl-glycerol (18:1/18:2) [2] with error NaN, inf or invalid value detected in weights, estimation infeasible.\n",
      "INFO:analytics:Failed analytes oleoyl-linoleoyl-glycerol (18:1/18:2) [2] with error NaN, inf or invalid value detected in weights, estimation infeasible.\n",
      "2024-06-21 06:04:30,725 INFO Failed analytes mannonate* with error NaN, inf or invalid value detected in weights, estimation infeasible.\n",
      "INFO:analytics:Failed analytes mannonate* with error NaN, inf or invalid value detected in weights, estimation infeasible.\n",
      "/opt/conda/envs/arivale-py3/lib/python3.7/site-packages/statsmodels/genmod/families/family.py:697: RuntimeWarning: underflow encountered in true_divide\n",
      "  endog_mu = self._clean(endog / mu)\n",
      "/opt/conda/envs/arivale-py3/lib/python3.7/site-packages/statsmodels/genmod/families/links.py:538: RuntimeWarning: underflow encountered in true_divide\n",
      "  return 1. / p\n",
      "2024-06-21 06:04:31,287 INFO Failed analytes 1-myristoyl-2-palmitoyl-GPC (14:0/16:0) with error NaN, inf or invalid value detected in weights, estimation infeasible.\n",
      "INFO:analytics:Failed analytes 1-myristoyl-2-palmitoyl-GPC (14:0/16:0) with error NaN, inf or invalid value detected in weights, estimation infeasible.\n",
      "2024-06-21 06:04:31,601 INFO Failed analytes hypoxanthine with error NaN, inf or invalid value detected in weights, estimation infeasible.\n",
      "INFO:analytics:Failed analytes hypoxanthine with error NaN, inf or invalid value detected in weights, estimation infeasible.\n",
      "2024-06-21 06:04:32,159 INFO Failed analytes 1-stearoyl-2-linoleoyl-GPC (18:0/18:2)* with error NaN, inf or invalid value detected in weights, estimation infeasible.\n",
      "INFO:analytics:Failed analytes 1-stearoyl-2-linoleoyl-GPC (18:0/18:2)* with error NaN, inf or invalid value detected in weights, estimation infeasible.\n",
      "2024-06-21 06:04:32,508 INFO Failed analytes azelate (C9-DC) with error NaN, inf or invalid value detected in weights, estimation infeasible.\n",
      "INFO:analytics:Failed analytes azelate (C9-DC) with error NaN, inf or invalid value detected in weights, estimation infeasible.\n",
      "2024-06-21 06:04:32,541 INFO Failed analytes guanosine 5'-diphospho-fucose with error NaN, inf or invalid value detected in weights, estimation infeasible.\n",
      "INFO:analytics:Failed analytes guanosine 5'-diphospho-fucose with error NaN, inf or invalid value detected in weights, estimation infeasible.\n",
      "/opt/conda/envs/arivale-py3/lib/python3.7/site-packages/statsmodels/genmod/families/family.py:699: RuntimeWarning: overflow encountered in multiply\n",
      "  return 2 * resid_dev\n",
      "2024-06-21 06:04:32,570 INFO Failed analytes behenoyl sphingomyelin (d18:1/22:0)* with error NaN, inf or invalid value detected in weights, estimation infeasible.\n",
      "INFO:analytics:Failed analytes behenoyl sphingomyelin (d18:1/22:0)* with error NaN, inf or invalid value detected in weights, estimation infeasible.\n",
      "2024-06-21 06:04:33,044 INFO Failed analytes UDP-glucose with error NaN, inf or invalid value detected in weights, estimation infeasible.\n",
      "INFO:analytics:Failed analytes UDP-glucose with error NaN, inf or invalid value detected in weights, estimation infeasible.\n",
      "2024-06-21 06:04:33,730 INFO Failed analytes stearidonate (18:4n3) with error NaN, inf or invalid value detected in weights, estimation infeasible.\n",
      "INFO:analytics:Failed analytes stearidonate (18:4n3) with error NaN, inf or invalid value detected in weights, estimation infeasible.\n",
      "2024-06-21 06:04:34,299 INFO Finished 400 in 15.653 seconds (skipped 0)\n",
      "INFO:analytics:Finished 400 in 15.653 seconds (skipped 0)\n",
      "2024-06-21 06:04:34,938 INFO Failed analytes estriol 16-glucuronide with error NaN, inf or invalid value detected in weights, estimation infeasible.\n",
      "INFO:analytics:Failed analytes estriol 16-glucuronide with error NaN, inf or invalid value detected in weights, estimation infeasible.\n",
      "2024-06-21 06:04:34,973 INFO Failed analytes alpha-ketoglutarate with error NaN, inf or invalid value detected in weights, estimation infeasible.\n",
      "INFO:analytics:Failed analytes alpha-ketoglutarate with error NaN, inf or invalid value detected in weights, estimation infeasible.\n",
      "2024-06-21 06:04:35,416 INFO Failed analytes palmitoyl-arachidonoyl-glycerol (16:0/20:4) [1]* with error NaN, inf or invalid value detected in weights, estimation infeasible.\n",
      "INFO:analytics:Failed analytes palmitoyl-arachidonoyl-glycerol (16:0/20:4) [1]* with error NaN, inf or invalid value detected in weights, estimation infeasible.\n",
      "2024-06-21 06:04:35,490 INFO Failed analytes 1,2-dipalmitoyl-GPE (16:0/16:0)* with error NaN, inf or invalid value detected in weights, estimation infeasible.\n",
      "INFO:analytics:Failed analytes 1,2-dipalmitoyl-GPE (16:0/16:0)* with error NaN, inf or invalid value detected in weights, estimation infeasible.\n",
      "2024-06-21 06:04:35,656 INFO Failed analytes 1-linoleoyl-2-arachidonoyl-GPC (18:2/20:4n6)* with error NaN, inf or invalid value detected in weights, estimation infeasible.\n",
      "INFO:analytics:Failed analytes 1-linoleoyl-2-arachidonoyl-GPC (18:2/20:4n6)* with error NaN, inf or invalid value detected in weights, estimation infeasible.\n",
      "2024-06-21 06:04:35,854 INFO Failed analytes dopamine 3-O-sulfate with error NaN, inf or invalid value detected in weights, estimation infeasible.\n",
      "INFO:analytics:Failed analytes dopamine 3-O-sulfate with error NaN, inf or invalid value detected in weights, estimation infeasible.\n",
      "2024-06-21 06:04:36,262 INFO Failed analytes taurocholenate sulfate* with error NaN, inf or invalid value detected in weights, estimation infeasible.\n",
      "INFO:analytics:Failed analytes taurocholenate sulfate* with error NaN, inf or invalid value detected in weights, estimation infeasible.\n",
      "2024-06-21 06:04:36,663 INFO Failed analytes prostaglandin E2 with error NaN, inf or invalid value detected in weights, estimation infeasible.\n",
      "INFO:analytics:Failed analytes prostaglandin E2 with error NaN, inf or invalid value detected in weights, estimation infeasible.\n",
      "2024-06-21 06:04:37,418 INFO Failed analytes X-24243 with error NaN, inf or invalid value detected in weights, estimation infeasible.\n",
      "INFO:analytics:Failed analytes X-24243 with error NaN, inf or invalid value detected in weights, estimation infeasible.\n",
      "2024-06-21 06:04:38,094 INFO Failed analytes X-25026 with error NaN, inf or invalid value detected in weights, estimation infeasible.\n",
      "INFO:analytics:Failed analytes X-25026 with error NaN, inf or invalid value detected in weights, estimation infeasible.\n",
      "2024-06-21 06:04:38,481 INFO Failed analytes N-acetyl-aspartyl-glutamate (NAAG) with error NaN, inf or invalid value detected in weights, estimation infeasible.\n",
      "INFO:analytics:Failed analytes N-acetyl-aspartyl-glutamate (NAAG) with error NaN, inf or invalid value detected in weights, estimation infeasible.\n",
      "2024-06-21 06:04:38,544 INFO Failed analytes N-acetylglycine with error NaN, inf or invalid value detected in weights, estimation infeasible.\n",
      "INFO:analytics:Failed analytes N-acetylglycine with error NaN, inf or invalid value detected in weights, estimation infeasible.\n",
      "2024-06-21 06:04:38,681 INFO Failed analytes lanthionine with error NaN, inf or invalid value detected in weights, estimation infeasible.\n",
      "INFO:analytics:Failed analytes lanthionine with error NaN, inf or invalid value detected in weights, estimation infeasible.\n",
      "2024-06-21 06:04:38,683 INFO Finished 500 in 20.038 seconds (skipped 0)\n",
      "INFO:analytics:Finished 500 in 20.038 seconds (skipped 0)\n",
      "2024-06-21 06:04:39,159 INFO Failed analytes uridine 3'-monophosphate (3'-UMP) with error NaN, inf or invalid value detected in weights, estimation infeasible.\n",
      "INFO:analytics:Failed analytes uridine 3'-monophosphate (3'-UMP) with error NaN, inf or invalid value detected in weights, estimation infeasible.\n",
      "2024-06-21 06:04:39,259 INFO Failed analytes 1-palmitoyl-2-arachidonoyl-GPS (16:0/20:4) with error NaN, inf or invalid value detected in weights, estimation infeasible.\n",
      "INFO:analytics:Failed analytes 1-palmitoyl-2-arachidonoyl-GPS (16:0/20:4) with error NaN, inf or invalid value detected in weights, estimation infeasible.\n",
      "2024-06-21 06:04:39,419 INFO Failed analytes undecanedioate (C11-DC) with error NaN, inf or invalid value detected in weights, estimation infeasible.\n",
      "INFO:analytics:Failed analytes undecanedioate (C11-DC) with error NaN, inf or invalid value detected in weights, estimation infeasible.\n",
      "2024-06-21 06:04:39,489 INFO Failed analytes 1-methyl-5-imidazolelactate with error NaN, inf or invalid value detected in weights, estimation infeasible.\n",
      "INFO:analytics:Failed analytes 1-methyl-5-imidazolelactate with error NaN, inf or invalid value detected in weights, estimation infeasible.\n",
      "2024-06-21 06:04:39,754 INFO Failed analytes androstenediol (3beta,17beta) monosulfate (2) with error NaN, inf or invalid value detected in weights, estimation infeasible.\n",
      "INFO:analytics:Failed analytes androstenediol (3beta,17beta) monosulfate (2) with error NaN, inf or invalid value detected in weights, estimation infeasible.\n",
      "2024-06-21 06:04:39,824 INFO Failed analytes N-acetylglucosaminylasparagine with error NaN, inf or invalid value detected in weights, estimation infeasible.\n",
      "INFO:analytics:Failed analytes N-acetylglucosaminylasparagine with error NaN, inf or invalid value detected in weights, estimation infeasible.\n",
      "2024-06-21 06:04:40,050 INFO Failed analytes stearoyl-docosahexaenoyl-glycerol (18:0/22:6) [1]* with error NaN, inf or invalid value detected in weights, estimation infeasible.\n",
      "INFO:analytics:Failed analytes stearoyl-docosahexaenoyl-glycerol (18:0/22:6) [1]* with error NaN, inf or invalid value detected in weights, estimation infeasible.\n",
      "2024-06-21 06:04:40,436 INFO Failed analytes heptenedioate (C7:1-DC)* with error NaN, inf or invalid value detected in weights, estimation infeasible.\n",
      "INFO:analytics:Failed analytes heptenedioate (C7:1-DC)* with error NaN, inf or invalid value detected in weights, estimation infeasible.\n",
      "2024-06-21 06:04:40,621 INFO Failed analytes citrulline with error NaN, inf or invalid value detected in weights, estimation infeasible.\n",
      "INFO:analytics:Failed analytes citrulline with error NaN, inf or invalid value detected in weights, estimation infeasible.\n",
      "2024-06-21 06:04:40,654 INFO Failed analytes 1-palmitoyl-2-docosahexaenoyl-GPC (16:0/22:6) with error NaN, inf or invalid value detected in weights, estimation infeasible.\n",
      "INFO:analytics:Failed analytes 1-palmitoyl-2-docosahexaenoyl-GPC (16:0/22:6) with error NaN, inf or invalid value detected in weights, estimation infeasible.\n",
      "2024-06-21 06:04:41,383 INFO Failed analytes phosphate with error NaN, inf or invalid value detected in weights, estimation infeasible.\n",
      "INFO:analytics:Failed analytes phosphate with error NaN, inf or invalid value detected in weights, estimation infeasible.\n",
      "2024-06-21 06:04:41,519 INFO Failed analytes N(1)-acetylspermine with error NaN, inf or invalid value detected in weights, estimation infeasible.\n",
      "INFO:analytics:Failed analytes N(1)-acetylspermine with error NaN, inf or invalid value detected in weights, estimation infeasible.\n",
      "2024-06-21 06:04:41,696 INFO Failed analytes uridine 5'-monophosphate (UMP) with error NaN, inf or invalid value detected in weights, estimation infeasible.\n",
      "INFO:analytics:Failed analytes uridine 5'-monophosphate (UMP) with error NaN, inf or invalid value detected in weights, estimation infeasible.\n",
      "2024-06-21 06:04:42,556 INFO Finished 600 in 23.910 seconds (skipped 0)\n",
      "INFO:analytics:Finished 600 in 23.910 seconds (skipped 0)\n",
      "2024-06-21 06:04:43,060 INFO Failed analytes 1-stearoyl-2-oleoyl-GPG (18:0/18:1) with error NaN, inf or invalid value detected in weights, estimation infeasible.\n",
      "INFO:analytics:Failed analytes 1-stearoyl-2-oleoyl-GPG (18:0/18:1) with error NaN, inf or invalid value detected in weights, estimation infeasible.\n",
      "2024-06-21 06:04:43,131 INFO Failed analytes alpha-tocopherol with error NaN, inf or invalid value detected in weights, estimation infeasible.\n",
      "INFO:analytics:Failed analytes alpha-tocopherol with error NaN, inf or invalid value detected in weights, estimation infeasible.\n",
      "2024-06-21 06:04:43,911 INFO Failed analytes isobutyrylcarnitine (C4) with error NaN, inf or invalid value detected in weights, estimation infeasible.\n",
      "INFO:analytics:Failed analytes isobutyrylcarnitine (C4) with error NaN, inf or invalid value detected in weights, estimation infeasible.\n",
      "2024-06-21 06:04:43,940 INFO Failed analytes UDP-N-acetylglucosamine/galactosamine with error NaN, inf or invalid value detected in weights, estimation infeasible.\n",
      "INFO:analytics:Failed analytes UDP-N-acetylglucosamine/galactosamine with error NaN, inf or invalid value detected in weights, estimation infeasible.\n",
      "2024-06-21 06:04:44,381 INFO Failed analytes piperine with error NaN, inf or invalid value detected in weights, estimation infeasible.\n",
      "INFO:analytics:Failed analytes piperine with error NaN, inf or invalid value detected in weights, estimation infeasible.\n",
      "2024-06-21 06:04:45,140 INFO Failed analytes glycylvaline with error NaN, inf or invalid value detected in weights, estimation infeasible.\n",
      "INFO:analytics:Failed analytes glycylvaline with error NaN, inf or invalid value detected in weights, estimation infeasible.\n",
      "2024-06-21 06:04:45,244 INFO Failed analytes X-21796 with error NaN, inf or invalid value detected in weights, estimation infeasible.\n",
      "INFO:analytics:Failed analytes X-21796 with error NaN, inf or invalid value detected in weights, estimation infeasible.\n",
      "2024-06-21 06:04:45,390 INFO Failed analytes X-24665 with error NaN, inf or invalid value detected in weights, estimation infeasible.\n",
      "INFO:analytics:Failed analytes X-24665 with error NaN, inf or invalid value detected in weights, estimation infeasible.\n",
      "2024-06-21 06:04:45,822 INFO Failed analytes guanosine 5'-monophosphate (5'-GMP) with error NaN, inf or invalid value detected in weights, estimation infeasible.\n",
      "INFO:analytics:Failed analytes guanosine 5'-monophosphate (5'-GMP) with error NaN, inf or invalid value detected in weights, estimation infeasible.\n",
      "2024-06-21 06:04:46,048 INFO Failed analytes UDP-galactose with error NaN, inf or invalid value detected in weights, estimation infeasible.\n",
      "INFO:analytics:Failed analytes UDP-galactose with error NaN, inf or invalid value detected in weights, estimation infeasible.\n",
      "2024-06-21 06:04:46,154 INFO Failed analytes 1-palmitoyl-2-linoleoyl-GPG (16:0/18:2) with error NaN, inf or invalid value detected in weights, estimation infeasible.\n",
      "INFO:analytics:Failed analytes 1-palmitoyl-2-linoleoyl-GPG (16:0/18:2) with error NaN, inf or invalid value detected in weights, estimation infeasible.\n",
      "2024-06-21 06:04:46,252 INFO Failed analytes X-11299 with error NaN, inf or invalid value detected in weights, estimation infeasible.\n",
      "INFO:analytics:Failed analytes X-11299 with error NaN, inf or invalid value detected in weights, estimation infeasible.\n",
      "2024-06-21 06:04:46,436 INFO Failed analytes N-delta-acetylornithine with error NaN, inf or invalid value detected in weights, estimation infeasible.\n",
      "INFO:analytics:Failed analytes N-delta-acetylornithine with error NaN, inf or invalid value detected in weights, estimation infeasible.\n",
      "2024-06-21 06:04:46,465 INFO Failed analytes X-21410 with error NaN, inf or invalid value detected in weights, estimation infeasible.\n",
      "INFO:analytics:Failed analytes X-21410 with error NaN, inf or invalid value detected in weights, estimation infeasible.\n",
      "2024-06-21 06:04:46,466 INFO Finished 700 in 27.821 seconds (skipped 0)\n",
      "INFO:analytics:Finished 700 in 27.821 seconds (skipped 0)\n",
      "2024-06-21 06:04:46,567 INFO Failed analytes beta-alanine with error NaN, inf or invalid value detected in weights, estimation infeasible.\n",
      "INFO:analytics:Failed analytes beta-alanine with error NaN, inf or invalid value detected in weights, estimation infeasible.\n",
      "2024-06-21 06:04:46,725 INFO Failed analytes 2-aminoheptanoate with error NaN, inf or invalid value detected in weights, estimation infeasible.\n",
      "INFO:analytics:Failed analytes 2-aminoheptanoate with error NaN, inf or invalid value detected in weights, estimation infeasible.\n",
      "2024-06-21 06:04:47,289 INFO Failed analytes N-acetylarginine with error NaN, inf or invalid value detected in weights, estimation infeasible.\n",
      "INFO:analytics:Failed analytes N-acetylarginine with error NaN, inf or invalid value detected in weights, estimation infeasible.\n",
      "2024-06-21 06:04:47,558 INFO Failed analytes urate with error NaN, inf or invalid value detected in weights, estimation infeasible.\n",
      "INFO:analytics:Failed analytes urate with error NaN, inf or invalid value detected in weights, estimation infeasible.\n",
      "2024-06-21 06:04:48,049 INFO Failed analytes pregnenetriol disulfate* with error NaN, inf or invalid value detected in weights, estimation infeasible.\n",
      "INFO:analytics:Failed analytes pregnenetriol disulfate* with error NaN, inf or invalid value detected in weights, estimation infeasible.\n",
      "2024-06-21 06:04:48,148 INFO Failed analytes 1-(1-enyl-stearoyl)-2-arachidonoyl-GPE (P-18:0/20:4)* with error NaN, inf or invalid value detected in weights, estimation infeasible.\n",
      "INFO:analytics:Failed analytes 1-(1-enyl-stearoyl)-2-arachidonoyl-GPE (P-18:0/20:4)* with error NaN, inf or invalid value detected in weights, estimation infeasible.\n",
      "2024-06-21 06:04:49,458 INFO Failed analytes galactose 6-phosphate with error NaN, inf or invalid value detected in weights, estimation infeasible.\n",
      "INFO:analytics:Failed analytes galactose 6-phosphate with error NaN, inf or invalid value detected in weights, estimation infeasible.\n",
      "2024-06-21 06:04:49,637 INFO Failed analytes alpha-ketoglutaramate* with error NaN, inf or invalid value detected in weights, estimation infeasible.\n",
      "INFO:analytics:Failed analytes alpha-ketoglutaramate* with error NaN, inf or invalid value detected in weights, estimation infeasible.\n",
      "2024-06-21 06:04:50,087 INFO Failed analytes gamma-glutamylisoleucine* with error NaN, inf or invalid value detected in weights, estimation infeasible.\n",
      "INFO:analytics:Failed analytes gamma-glutamylisoleucine* with error NaN, inf or invalid value detected in weights, estimation infeasible.\n",
      "2024-06-21 06:04:50,202 INFO Failed analytes cytidine 2',3'-cyclic monophosphate with error NaN, inf or invalid value detected in weights, estimation infeasible.\n",
      "INFO:analytics:Failed analytes cytidine 2',3'-cyclic monophosphate with error NaN, inf or invalid value detected in weights, estimation infeasible.\n",
      "2024-06-21 06:04:50,232 INFO Failed analytes 2-O-methylascorbic acid with error NaN, inf or invalid value detected in weights, estimation infeasible.\n",
      "INFO:analytics:Failed analytes 2-O-methylascorbic acid with error NaN, inf or invalid value detected in weights, estimation infeasible.\n",
      "2024-06-21 06:04:50,472 INFO Finished 800 in 31.826 seconds (skipped 0)\n",
      "INFO:analytics:Finished 800 in 31.826 seconds (skipped 0)\n",
      "2024-06-21 06:04:50,697 INFO Failed analytes catechol sulfate with error NaN, inf or invalid value detected in weights, estimation infeasible.\n",
      "INFO:analytics:Failed analytes catechol sulfate with error NaN, inf or invalid value detected in weights, estimation infeasible.\n",
      "2024-06-21 06:04:50,726 INFO Failed analytes X-25107 with error NaN, inf or invalid value detected in weights, estimation infeasible.\n",
      "INFO:analytics:Failed analytes X-25107 with error NaN, inf or invalid value detected in weights, estimation infeasible.\n",
      "2024-06-21 06:04:50,753 INFO Failed analytes sphingomyelin (d18:2/23:1)* with error NaN, inf or invalid value detected in weights, estimation infeasible.\n",
      "INFO:analytics:Failed analytes sphingomyelin (d18:2/23:1)* with error NaN, inf or invalid value detected in weights, estimation infeasible.\n",
      "2024-06-21 06:04:50,903 INFO Failed analytes inosine 5'-monophosphate (IMP) with error NaN, inf or invalid value detected in weights, estimation infeasible.\n",
      "INFO:analytics:Failed analytes inosine 5'-monophosphate (IMP) with error NaN, inf or invalid value detected in weights, estimation infeasible.\n",
      "2024-06-21 06:04:51,250 INFO Failed analytes sphingomyelin (d18:1/14:0, d16:1/16:0)* with error NaN, inf or invalid value detected in weights, estimation infeasible.\n",
      "INFO:analytics:Failed analytes sphingomyelin (d18:1/14:0, d16:1/16:0)* with error NaN, inf or invalid value detected in weights, estimation infeasible.\n",
      "2024-06-21 06:04:51,637 INFO Failed analytes glutamine conjugate of C7H12O2* with error NaN, inf or invalid value detected in weights, estimation infeasible.\n",
      "INFO:analytics:Failed analytes glutamine conjugate of C7H12O2* with error NaN, inf or invalid value detected in weights, estimation infeasible.\n",
      "2024-06-21 06:04:51,866 INFO Failed analytes mannose with error NaN, inf or invalid value detected in weights, estimation infeasible.\n",
      "INFO:analytics:Failed analytes mannose with error NaN, inf or invalid value detected in weights, estimation infeasible.\n",
      "2024-06-21 06:04:51,930 INFO Failed analytes hexadecasphingosine (d16:1)* with error NaN, inf or invalid value detected in weights, estimation infeasible.\n",
      "INFO:analytics:Failed analytes hexadecasphingosine (d16:1)* with error NaN, inf or invalid value detected in weights, estimation infeasible.\n",
      "2024-06-21 06:04:51,994 INFO Failed analytes carotene diol (2) with error NaN, inf or invalid value detected in weights, estimation infeasible.\n",
      "INFO:analytics:Failed analytes carotene diol (2) with error NaN, inf or invalid value detected in weights, estimation infeasible.\n",
      "2024-06-21 06:04:52,408 INFO Failed analytes inosine with error NaN, inf or invalid value detected in weights, estimation infeasible.\n",
      "INFO:analytics:Failed analytes inosine with error NaN, inf or invalid value detected in weights, estimation infeasible.\n",
      "2024-06-21 06:04:52,733 INFO Failed analytes gamma-glutamylglycine with error NaN, inf or invalid value detected in weights, estimation infeasible.\n",
      "INFO:analytics:Failed analytes gamma-glutamylglycine with error NaN, inf or invalid value detected in weights, estimation infeasible.\n",
      "2024-06-21 06:04:52,915 INFO Failed analytes 2,3-dihydroxy-2-methylbutyrate with error NaN, inf or invalid value detected in weights, estimation infeasible.\n",
      "INFO:analytics:Failed analytes 2,3-dihydroxy-2-methylbutyrate with error NaN, inf or invalid value detected in weights, estimation infeasible.\n",
      "2024-06-21 06:04:54,347 INFO Finished 900 in 35.701 seconds (skipped 0)\n",
      "INFO:analytics:Finished 900 in 35.701 seconds (skipped 0)\n",
      "2024-06-21 06:04:58,530 INFO Finished 1000 in 39.884 seconds (skipped 0)\n",
      "INFO:analytics:Finished 1000 in 39.884 seconds (skipped 0)\n",
      "2024-06-21 06:05:02,508 INFO Finished 1100 in 43.862 seconds (skipped 0)\n",
      "INFO:analytics:Finished 1100 in 43.862 seconds (skipped 0)\n",
      "2024-06-21 06:05:06,523 INFO Finished 1200 in 47.877 seconds (skipped 0)\n",
      "INFO:analytics:Finished 1200 in 47.877 seconds (skipped 0)\n",
      "2024-06-21 06:05:10,554 INFO Finished 1300 in 51.908 seconds (skipped 0)\n",
      "INFO:analytics:Finished 1300 in 51.908 seconds (skipped 0)\n",
      "2024-06-21 06:05:11,671 INFO Failed analytes BRK1 (protein) with error NaN, inf or invalid value detected in weights, estimation infeasible.\n",
      "INFO:analytics:Failed analytes BRK1 (protein) with error NaN, inf or invalid value detected in weights, estimation infeasible.\n",
      "2024-06-21 06:05:12,489 INFO Failed analytes MCP-3 (protein) with error NaN, inf or invalid value detected in weights, estimation infeasible.\n",
      "INFO:analytics:Failed analytes MCP-3 (protein) with error NaN, inf or invalid value detected in weights, estimation infeasible.\n",
      "2024-06-21 06:05:13,627 INFO Failed analytes CNTN4 (protein) with error NaN, inf or invalid value detected in weights, estimation infeasible.\n",
      "INFO:analytics:Failed analytes CNTN4 (protein) with error NaN, inf or invalid value detected in weights, estimation infeasible.\n",
      "2024-06-21 06:05:14,232 INFO Finished 1400 in 55.586 seconds (skipped 0)\n",
      "INFO:analytics:Finished 1400 in 55.586 seconds (skipped 0)\n",
      "2024-06-21 06:05:17,242 INFO Failed analytes CD84 (protein) with error NaN, inf or invalid value detected in weights, estimation infeasible.\n",
      "INFO:analytics:Failed analytes CD84 (protein) with error NaN, inf or invalid value detected in weights, estimation infeasible.\n",
      "2024-06-21 06:05:17,379 INFO Failed analytes AGRP (protein) with error NaN, inf or invalid value detected in weights, estimation infeasible.\n",
      "INFO:analytics:Failed analytes AGRP (protein) with error NaN, inf or invalid value detected in weights, estimation infeasible.\n",
      "2024-06-21 06:05:18,030 INFO Finished 1500 in 59.384 seconds (skipped 0)\n",
      "INFO:analytics:Finished 1500 in 59.384 seconds (skipped 0)\n",
      "2024-06-21 06:05:18,318 INFO Failed analytes PRSS27 (protein) with error NaN, inf or invalid value detected in weights, estimation infeasible.\n",
      "INFO:analytics:Failed analytes PRSS27 (protein) with error NaN, inf or invalid value detected in weights, estimation infeasible.\n",
      "2024-06-21 06:05:19,066 INFO Failed analytes CHIT1 (protein) with error NaN, inf or invalid value detected in weights, estimation infeasible.\n",
      "INFO:analytics:Failed analytes CHIT1 (protein) with error NaN, inf or invalid value detected in weights, estimation infeasible.\n",
      "2024-06-21 06:05:19,105 INFO Failed analytes CPA1 (protein) with error NaN, inf or invalid value detected in weights, estimation infeasible.\n",
      "INFO:analytics:Failed analytes CPA1 (protein) with error NaN, inf or invalid value detected in weights, estimation infeasible.\n",
      "2024-06-21 06:05:19,471 INFO Failed analytes XG (protein) with error NaN, inf or invalid value detected in weights, estimation infeasible.\n",
      "INFO:analytics:Failed analytes XG (protein) with error NaN, inf or invalid value detected in weights, estimation infeasible.\n",
      "2024-06-21 06:05:20,360 INFO Failed analytes CEACAM8 (protein) with error NaN, inf or invalid value detected in weights, estimation infeasible.\n",
      "INFO:analytics:Failed analytes CEACAM8 (protein) with error NaN, inf or invalid value detected in weights, estimation infeasible.\n",
      "2024-06-21 06:05:21,854 INFO Finished 1600 in 63.208 seconds (skipped 0)\n",
      "INFO:analytics:Finished 1600 in 63.208 seconds (skipped 0)\n",
      "2024-06-21 06:05:23,557 INFO Failed analytes ICAM-2 (protein) with error NaN, inf or invalid value detected in weights, estimation infeasible.\n",
      "INFO:analytics:Failed analytes ICAM-2 (protein) with error NaN, inf or invalid value detected in weights, estimation infeasible.\n",
      "2024-06-21 06:05:23,590 INFO Failed analytes BNP (protein) with error NaN, inf or invalid value detected in weights, estimation infeasible.\n",
      "INFO:analytics:Failed analytes BNP (protein) with error NaN, inf or invalid value detected in weights, estimation infeasible.\n",
      "2024-06-21 06:05:25,495 INFO Finished 1700 in 66.849 seconds (skipped 0)\n",
      "INFO:analytics:Finished 1700 in 66.849 seconds (skipped 0)\n",
      "2024-06-21 06:05:29,302 INFO Finished 1800 in 70.656 seconds (skipped 0)\n",
      "INFO:analytics:Finished 1800 in 70.656 seconds (skipped 0)\n",
      "2024-06-21 06:05:33,179 INFO Finished 1900 in 74.533 seconds (skipped 0)\n",
      "INFO:analytics:Finished 1900 in 74.533 seconds (skipped 0)\n",
      "2024-06-21 06:05:37,294 INFO Finished 2000 in 78.648 seconds (skipped 0)\n",
      "INFO:analytics:Finished 2000 in 78.648 seconds (skipped 0)\n",
      "2024-06-21 06:05:41,333 INFO Finished 2100 in 82.687 seconds (skipped 0)\n",
      "INFO:analytics:Finished 2100 in 82.687 seconds (skipped 0)\n",
      "2024-06-21 06:05:45,269 INFO Finished 2200 in 86.623 seconds (skipped 0)\n",
      "INFO:analytics:Finished 2200 in 86.623 seconds (skipped 0)\n",
      "2024-06-21 06:05:49,139 INFO Finished 2300 in 90.493 seconds (skipped 0)\n",
      "INFO:analytics:Finished 2300 in 90.493 seconds (skipped 0)\n",
      "2024-06-21 06:05:52,994 INFO Finished 2400 in 94.349 seconds (skipped 0)\n",
      "INFO:analytics:Finished 2400 in 94.349 seconds (skipped 0)\n",
      "2024-06-21 06:05:56,837 INFO Finished 2500 in 98.192 seconds (skipped 0)\n",
      "INFO:analytics:Finished 2500 in 98.192 seconds (skipped 0)\n",
      "2024-06-21 06:06:00,817 INFO Finished 2600 in 102.171 seconds (skipped 0)\n",
      "INFO:analytics:Finished 2600 in 102.171 seconds (skipped 0)\n",
      "2024-06-21 06:06:04,679 INFO Finished 2700 in 106.033 seconds (skipped 0)\n",
      "INFO:analytics:Finished 2700 in 106.033 seconds (skipped 0)\n",
      "2024-06-21 06:06:08,560 INFO Finished 2800 in 109.914 seconds (skipped 0)\n",
      "INFO:analytics:Finished 2800 in 109.914 seconds (skipped 0)\n",
      "2024-06-21 06:06:12,407 INFO Finished 2900 in 113.761 seconds (skipped 0)\n",
      "INFO:analytics:Finished 2900 in 113.761 seconds (skipped 0)\n",
      "2024-06-21 06:06:16,461 INFO Finished 3000 in 117.815 seconds (skipped 0)\n",
      "INFO:analytics:Finished 3000 in 117.815 seconds (skipped 0)\n",
      "2024-06-21 06:06:20,553 INFO Finished 3100 in 121.907 seconds (skipped 0)\n",
      "INFO:analytics:Finished 3100 in 121.907 seconds (skipped 0)\n",
      "2024-06-21 06:06:24,368 INFO Finished 3200 in 125.722 seconds (skipped 0)\n",
      "INFO:analytics:Finished 3200 in 125.722 seconds (skipped 0)\n",
      "2024-06-21 06:06:28,168 INFO Finished 3300 in 129.523 seconds (skipped 0)\n",
      "INFO:analytics:Finished 3300 in 129.523 seconds (skipped 0)\n",
      "2024-06-21 06:06:32,064 INFO Finished 3400 in 133.418 seconds (skipped 0)\n",
      "INFO:analytics:Finished 3400 in 133.418 seconds (skipped 0)\n",
      "2024-06-21 06:06:36,144 INFO Finished 3500 in 137.498 seconds (skipped 0)\n",
      "INFO:analytics:Finished 3500 in 137.498 seconds (skipped 0)\n",
      "2024-06-21 06:06:40,289 INFO Finished 3600 in 141.643 seconds (skipped 0)\n",
      "INFO:analytics:Finished 3600 in 141.643 seconds (skipped 0)\n",
      "2024-06-21 06:06:44,280 INFO Finished 3700 in 145.634 seconds (skipped 0)\n",
      "INFO:analytics:Finished 3700 in 145.634 seconds (skipped 0)\n",
      "2024-06-21 06:06:48,151 INFO Finished 3800 in 149.505 seconds (skipped 0)\n",
      "INFO:analytics:Finished 3800 in 149.505 seconds (skipped 0)\n",
      "2024-06-21 06:06:51,978 INFO Finished 3900 in 153.332 seconds (skipped 0)\n",
      "INFO:analytics:Finished 3900 in 153.332 seconds (skipped 0)\n",
      "2024-06-21 06:06:55,774 INFO Finished 4000 in 157.128 seconds (skipped 0)\n",
      "INFO:analytics:Finished 4000 in 157.128 seconds (skipped 0)\n",
      "2024-06-21 06:06:59,595 INFO Finished 4100 in 160.949 seconds (skipped 0)\n",
      "INFO:analytics:Finished 4100 in 160.949 seconds (skipped 0)\n",
      "2024-06-21 06:07:03,533 INFO Finished 4200 in 164.888 seconds (skipped 0)\n",
      "INFO:analytics:Finished 4200 in 164.888 seconds (skipped 0)\n",
      "2024-06-21 06:07:07,447 INFO Finished 4300 in 168.801 seconds (skipped 0)\n",
      "INFO:analytics:Finished 4300 in 168.801 seconds (skipped 0)\n",
      "2024-06-21 06:07:11,283 INFO Finished 4400 in 172.638 seconds (skipped 0)\n",
      "INFO:analytics:Finished 4400 in 172.638 seconds (skipped 0)\n",
      "2024-06-21 06:07:15,174 INFO Finished 4500 in 176.528 seconds (skipped 0)\n",
      "INFO:analytics:Finished 4500 in 176.528 seconds (skipped 0)\n",
      "2024-06-21 06:07:19,246 INFO Finished 4600 in 180.600 seconds (skipped 0)\n",
      "INFO:analytics:Finished 4600 in 180.600 seconds (skipped 0)\n",
      "2024-06-21 06:07:23,220 INFO Finished 4700 in 184.574 seconds (skipped 0)\n",
      "INFO:analytics:Finished 4700 in 184.574 seconds (skipped 0)\n",
      "2024-06-21 06:07:27,155 INFO Finished 4800 in 188.509 seconds (skipped 0)\n",
      "INFO:analytics:Finished 4800 in 188.509 seconds (skipped 0)\n",
      "2024-06-21 06:07:31,067 INFO Finished 4900 in 192.422 seconds (skipped 0)\n",
      "INFO:analytics:Finished 4900 in 192.422 seconds (skipped 0)\n",
      "2024-06-21 06:07:34,908 INFO Finished 5000 in 196.262 seconds (skipped 0)\n",
      "INFO:analytics:Finished 5000 in 196.262 seconds (skipped 0)\n",
      "2024-06-21 06:07:38,928 INFO Finished 5100 in 200.283 seconds (skipped 0)\n",
      "INFO:analytics:Finished 5100 in 200.283 seconds (skipped 0)\n",
      "2024-06-21 06:07:43,129 INFO Finished 5200 in 204.483 seconds (skipped 0)\n",
      "INFO:analytics:Finished 5200 in 204.483 seconds (skipped 0)\n",
      "2024-06-21 06:07:46,963 INFO Finished 5300 in 208.317 seconds (skipped 0)\n",
      "INFO:analytics:Finished 5300 in 208.317 seconds (skipped 0)\n",
      "2024-06-21 06:07:50,827 INFO Finished 5400 in 212.181 seconds (skipped 0)\n",
      "INFO:analytics:Finished 5400 in 212.181 seconds (skipped 0)\n",
      "2024-06-21 06:07:54,652 INFO Finished 5500 in 216.006 seconds (skipped 0)\n",
      "INFO:analytics:Finished 5500 in 216.006 seconds (skipped 0)\n",
      "2024-06-21 06:07:58,490 INFO Finished 5600 in 219.844 seconds (skipped 0)\n",
      "INFO:analytics:Finished 5600 in 219.844 seconds (skipped 0)\n",
      "2024-06-21 06:08:02,402 INFO Finished 5700 in 223.756 seconds (skipped 0)\n",
      "INFO:analytics:Finished 5700 in 223.756 seconds (skipped 0)\n",
      "2024-06-21 06:08:06,299 INFO Finished 5800 in 227.654 seconds (skipped 0)\n",
      "INFO:analytics:Finished 5800 in 227.654 seconds (skipped 0)\n",
      "2024-06-21 06:08:10,152 INFO Finished 5900 in 231.506 seconds (skipped 0)\n",
      "INFO:analytics:Finished 5900 in 231.506 seconds (skipped 0)\n",
      "2024-06-21 06:08:13,951 INFO Finished 6000 in 235.305 seconds (skipped 0)\n",
      "INFO:analytics:Finished 6000 in 235.305 seconds (skipped 0)\n",
      "2024-06-21 06:08:17,926 INFO Finished 6100 in 239.280 seconds (skipped 0)\n",
      "INFO:analytics:Finished 6100 in 239.280 seconds (skipped 0)\n",
      "2024-06-21 06:08:22,055 INFO Finished 6200 in 243.409 seconds (skipped 0)\n",
      "INFO:analytics:Finished 6200 in 243.409 seconds (skipped 0)\n",
      "2024-06-21 06:08:25,956 INFO Finished 6300 in 247.310 seconds (skipped 0)\n",
      "INFO:analytics:Finished 6300 in 247.310 seconds (skipped 0)\n",
      "2024-06-21 06:08:29,882 INFO Finished 6400 in 251.236 seconds (skipped 0)\n",
      "INFO:analytics:Finished 6400 in 251.236 seconds (skipped 0)\n",
      "2024-06-21 06:08:33,861 INFO Finished 6500 in 255.215 seconds (skipped 0)\n",
      "INFO:analytics:Finished 6500 in 255.215 seconds (skipped 0)\n",
      "2024-06-21 06:08:37,863 INFO Finished 6600 in 259.217 seconds (skipped 0)\n",
      "INFO:analytics:Finished 6600 in 259.217 seconds (skipped 0)\n",
      "2024-06-21 06:08:42,045 INFO Finished 6700 in 263.399 seconds (skipped 0)\n",
      "INFO:analytics:Finished 6700 in 263.399 seconds (skipped 0)\n",
      "2024-06-21 06:08:46,100 INFO Finished 6800 in 267.454 seconds (skipped 0)\n",
      "INFO:analytics:Finished 6800 in 267.454 seconds (skipped 0)\n",
      "2024-06-21 06:08:50,000 INFO Finished 6900 in 271.354 seconds (skipped 0)\n",
      "INFO:analytics:Finished 6900 in 271.354 seconds (skipped 0)\n",
      "2024-06-21 06:08:53,911 INFO Finished 7000 in 275.265 seconds (skipped 0)\n",
      "INFO:analytics:Finished 7000 in 275.265 seconds (skipped 0)\n",
      "2024-06-21 06:08:57,851 INFO Finished 7100 in 279.205 seconds (skipped 0)\n",
      "INFO:analytics:Finished 7100 in 279.205 seconds (skipped 0)\n",
      "2024-06-21 06:09:01,832 INFO Finished 7200 in 283.186 seconds (skipped 0)\n",
      "INFO:analytics:Finished 7200 in 283.186 seconds (skipped 0)\n",
      "2024-06-21 06:09:05,945 INFO Finished 7300 in 287.299 seconds (skipped 0)\n",
      "INFO:analytics:Finished 7300 in 287.299 seconds (skipped 0)\n",
      "2024-06-21 06:09:09,799 INFO Finished 7400 in 291.153 seconds (skipped 0)\n",
      "INFO:analytics:Finished 7400 in 291.153 seconds (skipped 0)\n",
      "2024-06-21 06:09:13,667 INFO Finished 7500 in 295.021 seconds (skipped 0)\n",
      "INFO:analytics:Finished 7500 in 295.021 seconds (skipped 0)\n",
      "2024-06-21 06:09:17,576 INFO Finished 7600 in 298.930 seconds (skipped 0)\n",
      "INFO:analytics:Finished 7600 in 298.930 seconds (skipped 0)\n",
      "2024-06-21 06:09:21,679 INFO Finished 7700 in 303.033 seconds (skipped 0)\n",
      "INFO:analytics:Finished 7700 in 303.033 seconds (skipped 0)\n",
      "2024-06-21 06:09:25,788 INFO Finished 7800 in 307.142 seconds (skipped 0)\n",
      "INFO:analytics:Finished 7800 in 307.142 seconds (skipped 0)\n",
      "2024-06-21 06:09:29,715 INFO Finished 7900 in 311.069 seconds (skipped 0)\n",
      "INFO:analytics:Finished 7900 in 311.069 seconds (skipped 0)\n",
      "2024-06-21 06:09:33,528 INFO Finished 8000 in 314.882 seconds (skipped 0)\n",
      "INFO:analytics:Finished 8000 in 314.882 seconds (skipped 0)\n",
      "2024-06-21 06:09:37,405 INFO Finished 8100 in 318.759 seconds (skipped 0)\n",
      "INFO:analytics:Finished 8100 in 318.759 seconds (skipped 0)\n",
      "2024-06-21 06:09:41,505 INFO Finished 8200 in 322.859 seconds (skipped 0)\n",
      "INFO:analytics:Finished 8200 in 322.859 seconds (skipped 0)\n",
      "2024-06-21 06:09:45,738 INFO Finished 8300 in 327.092 seconds (skipped 0)\n",
      "INFO:analytics:Finished 8300 in 327.092 seconds (skipped 0)\n",
      "2024-06-21 06:09:49,710 INFO Finished 8400 in 331.064 seconds (skipped 0)\n",
      "INFO:analytics:Finished 8400 in 331.064 seconds (skipped 0)\n",
      "2024-06-21 06:09:53,661 INFO Finished 8500 in 335.015 seconds (skipped 0)\n",
      "INFO:analytics:Finished 8500 in 335.015 seconds (skipped 0)\n",
      "2024-06-21 06:09:57,558 INFO Finished 8600 in 338.912 seconds (skipped 0)\n",
      "INFO:analytics:Finished 8600 in 338.912 seconds (skipped 0)\n",
      "2024-06-21 06:10:01,551 INFO Finished 8700 in 342.906 seconds (skipped 0)\n",
      "INFO:analytics:Finished 8700 in 342.906 seconds (skipped 0)\n",
      "2024-06-21 06:10:05,427 INFO Finished 8800 in 346.781 seconds (skipped 0)\n",
      "INFO:analytics:Finished 8800 in 346.781 seconds (skipped 0)\n",
      "2024-06-21 06:10:09,505 INFO Finished 8900 in 350.859 seconds (skipped 0)\n",
      "INFO:analytics:Finished 8900 in 350.859 seconds (skipped 0)\n",
      "2024-06-21 06:10:13,482 INFO Finished 9000 in 354.836 seconds (skipped 0)\n",
      "INFO:analytics:Finished 9000 in 354.836 seconds (skipped 0)\n",
      "2024-06-21 06:10:17,396 INFO Finished 9100 in 358.750 seconds (skipped 0)\n",
      "INFO:analytics:Finished 9100 in 358.750 seconds (skipped 0)\n",
      "2024-06-21 06:10:21,450 INFO Finished 9200 in 362.804 seconds (skipped 0)\n",
      "INFO:analytics:Finished 9200 in 362.804 seconds (skipped 0)\n",
      "2024-06-21 06:10:25,542 INFO Finished 9300 in 366.896 seconds (skipped 0)\n",
      "INFO:analytics:Finished 9300 in 366.896 seconds (skipped 0)\n",
      "2024-06-21 06:10:29,412 INFO Finished 9400 in 370.766 seconds (skipped 0)\n",
      "INFO:analytics:Finished 9400 in 370.766 seconds (skipped 0)\n",
      "2024-06-21 06:10:33,356 INFO Finished 9500 in 374.710 seconds (skipped 0)\n",
      "INFO:analytics:Finished 9500 in 374.710 seconds (skipped 0)\n",
      "2024-06-21 06:10:37,210 INFO Finished 9600 in 378.564 seconds (skipped 0)\n",
      "INFO:analytics:Finished 9600 in 378.564 seconds (skipped 0)\n",
      "2024-06-21 06:10:41,170 INFO Finished 9700 in 382.524 seconds (skipped 0)\n",
      "INFO:analytics:Finished 9700 in 382.524 seconds (skipped 0)\n",
      "2024-06-21 06:10:45,293 INFO Finished 9800 in 386.647 seconds (skipped 0)\n",
      "INFO:analytics:Finished 9800 in 386.647 seconds (skipped 0)\n",
      "2024-06-21 06:10:49,353 INFO Finished 9900 in 390.707 seconds (skipped 0)\n",
      "INFO:analytics:Finished 9900 in 390.707 seconds (skipped 0)\n",
      "2024-06-21 06:10:53,263 INFO Finished 10000 in 394.617 seconds (skipped 0)\n",
      "INFO:analytics:Finished 10000 in 394.617 seconds (skipped 0)\n",
      "2024-06-21 06:10:57,212 INFO Finished 10100 in 398.566 seconds (skipped 0)\n",
      "INFO:analytics:Finished 10100 in 398.566 seconds (skipped 0)\n",
      "2024-06-21 06:11:01,261 INFO Finished 10200 in 402.615 seconds (skipped 0)\n",
      "INFO:analytics:Finished 10200 in 402.615 seconds (skipped 0)\n",
      "2024-06-21 06:11:05,252 INFO Finished 10300 in 406.606 seconds (skipped 0)\n",
      "INFO:analytics:Finished 10300 in 406.606 seconds (skipped 0)\n",
      "2024-06-21 06:11:09,247 INFO Finished 10400 in 410.601 seconds (skipped 0)\n",
      "INFO:analytics:Finished 10400 in 410.601 seconds (skipped 0)\n",
      "2024-06-21 06:11:13,192 INFO Finished 10500 in 414.546 seconds (skipped 0)\n",
      "INFO:analytics:Finished 10500 in 414.546 seconds (skipped 0)\n",
      "2024-06-21 06:11:17,152 INFO Finished 10600 in 418.506 seconds (skipped 0)\n",
      "INFO:analytics:Finished 10600 in 418.506 seconds (skipped 0)\n",
      "2024-06-21 06:11:21,103 INFO Finished 10700 in 422.457 seconds (skipped 0)\n",
      "INFO:analytics:Finished 10700 in 422.457 seconds (skipped 0)\n",
      "2024-06-21 06:11:25,064 INFO Finished 10800 in 426.418 seconds (skipped 0)\n",
      "INFO:analytics:Finished 10800 in 426.418 seconds (skipped 0)\n",
      "2024-06-21 06:11:29,105 INFO Finished 10900 in 430.459 seconds (skipped 0)\n",
      "INFO:analytics:Finished 10900 in 430.459 seconds (skipped 0)\n",
      "2024-06-21 06:11:32,999 INFO Finished 11000 in 434.353 seconds (skipped 0)\n",
      "INFO:analytics:Finished 11000 in 434.353 seconds (skipped 0)\n",
      "2024-06-21 06:11:36,842 INFO Finished 11100 in 438.196 seconds (skipped 0)\n",
      "INFO:analytics:Finished 11100 in 438.196 seconds (skipped 0)\n",
      "2024-06-21 06:11:40,809 INFO Finished 11200 in 442.163 seconds (skipped 0)\n",
      "INFO:analytics:Finished 11200 in 442.163 seconds (skipped 0)\n",
      "2024-06-21 06:11:42,379 INFO \n",
      "Number of analytes analyzed: 11238\n",
      "INFO:analytics:\n",
      "Number of analytes analyzed: 11238\n",
      "2024-06-21 06:11:42,381 INFO Number of analytes with converged formula: 11105\n",
      "INFO:analytics:Number of analytes with converged formula: 11105\n",
      "2024-06-21 06:11:42,886 INFO Number of analytes whose levels are significantly regulated by gestational weeks as a function of pregravid bmi, labor initiation, smoking status, and illicit drug use status: 310\n",
      "INFO:analytics:Number of analytes whose levels are significantly regulated by gestational weeks as a function of pregravid bmi, labor initiation, smoking status, and illicit drug use status: 310\n"
     ]
    }
   ],
   "source": [
    "os.remove('output/glm.single.male.all.miniDP3.log')\n",
    "os.remove('output/failed.glm.single.male.all.miniDP3.txt')\n",
    "os.remove('output/glm.single.male.all.miniDP3.txt')\n",
    "os.remove('output/glm.single.male.sig.miniDP3.txt')\n",
    "glm_male = run_glm(df_male, analytes, 'male')"
   ]
  },
  {
   "cell_type": "code",
   "execution_count": 116,
   "metadata": {},
   "outputs": [
    {
     "data": {
      "image/png": "[encoded data removed]",
      "text/plain": [
       "<Figure size 432x288 with 1 Axes>"
      ]
     },
     "metadata": {
      "needs_background": "light"
     },
     "output_type": "display_data"
    }
   ],
   "source": [
    "glm_male['WksGest'].hist()\n",
    "plt.savefig('output/male_weeks_gestation_coef_histogram.pdf', bbox_inches='tight')"
   ]
  },
  {
   "cell_type": "code",
   "execution_count": 117,
   "metadata": {},
   "outputs": [
    {
     "data": {
      "image/png": "[encoded data removed]",
      "text/plain": [
       "<Figure size 432x288 with 1 Axes>"
      ]
     },
     "metadata": {
      "needs_background": "light"
     },
     "output_type": "display_data"
    }
   ],
   "source": [
    "glm_male['PregravidBMISquared'].hist()\n",
    "plt.savefig('output/male_pregravid_bmi_squared_coef_histogram.pdf', bbox_inches='tight')"
   ]
  },
  {
   "cell_type": "code",
   "execution_count": 118,
   "metadata": {},
   "outputs": [
    {
     "data": {
      "image/png": "[encoded data removed]",
      "text/plain": [
       "<Figure size 432x288 with 1 Axes>"
      ]
     },
     "metadata": {
      "needs_background": "light"
     },
     "output_type": "display_data"
    }
   ],
   "source": [
    "glm_male['C(LaborInitiation)[T.1]'].hist()\n",
    "plt.savefig('output/male_labor_initiation_coef_histogram.pdf', bbox_inches='tight')"
   ]
  },
  {
   "cell_type": "code",
   "execution_count": 119,
   "metadata": {},
   "outputs": [
    {
     "data": {
      "image/png": "[encoded data removed]",
      "text/plain": [
       "<Figure size 432x288 with 1 Axes>"
      ]
     },
     "metadata": {
      "needs_background": "light"
     },
     "output_type": "display_data"
    }
   ],
   "source": [
    "glm_male['C(Smoker)[T.1.0]'].hist()\n",
    "plt.savefig('output/male_smoker_coef_histogram.pdf', bbox_inches='tight')"
   ]
  },
  {
   "cell_type": "code",
   "execution_count": 120,
   "metadata": {},
   "outputs": [
    {
     "data": {
      "image/png": "[encoded data removed]",
      "text/plain": [
       "<Figure size 432x288 with 1 Axes>"
      ]
     },
     "metadata": {
      "needs_background": "light"
     },
     "output_type": "display_data"
    }
   ],
   "source": [
    "glm_male['C(IllicitDrugUser)[T.1.0]'].hist()\n",
    "plt.savefig('output/male_illicit_drug_user_coef_histogram.pdf', bbox_inches='tight')"
   ]
  },
  {
   "cell_type": "code",
   "execution_count": 121,
   "metadata": {},
   "outputs": [
    {
     "data": {
      "image/png": "[encoded data removed]",
      "text/plain": [
       "<Figure size 432x288 with 1 Axes>"
      ]
     },
     "metadata": {
      "needs_background": "light"
     },
     "output_type": "display_data"
    }
   ],
   "source": [
    "glm_male['Intercept'].hist()\n",
    "plt.savefig('output/male_intercept_coef_histogram.pdf', bbox_inches='tight')"
   ]
  },
  {
   "cell_type": "code",
   "execution_count": 122,
   "metadata": {},
   "outputs": [],
   "source": [
    "def write_list_to_file(my_list, file_path):\n",
    "    \"\"\"\n",
    "    Write a list to a text file with one item per line.\n",
    "\n",
    "    Parameters:\n",
    "    - my_list: List to be written to the file.\n",
    "    - file_path: Path to the output text file.\n",
    "    \"\"\"\n",
    "    # Open the file in write mode ('w')\n",
    "    with open(file_path, 'w') as file:\n",
    "        # Write each item in the list to a new line\n",
    "        for item in my_list:\n",
    "            file.write(str(item) + '\\n')"
   ]
  },
  {
   "cell_type": "code",
   "execution_count": 123,
   "metadata": {},
   "outputs": [
    {
     "name": "stdout",
     "output_type": "stream",
     "text": [
      "# Number of analytes with significant regulation of gestational weeks in males and females: 136\n",
      "# Number of analytes with significant regulation of gestational weeks in females only: 422\n",
      "# Number of analytes with significant regulation of gestational weeks in males only: 174\n"
     ]
    }
   ],
   "source": [
    "# Number of analytes with significant regulation of gestational weeks in males and females: 136\n",
    "# Number of analytes with significant regulation of gestational weeks in females only: 422\n",
    "# Number of analytes with significant regulation of gestational weeks in males only: 174\n",
    "list_sig_female_only = []\n",
    "list_sig_male_only = []\n",
    "list_sig_both = []\n",
    "\n",
    "for item in glm_female['Analyte']:\n",
    "    if item in list(glm_male['Analyte']):\n",
    "        list_sig_both.append(item)\n",
    "    else:\n",
    "        list_sig_female_only.append(item)\n",
    "\n",
    "for item in glm_male['Analyte']:\n",
    "    if item not in list_sig_both:\n",
    "        list_sig_male_only.append(item)\n",
    "        \n",
    "write_list_to_file(list_sig_both, 'output/sig_analytes_both_sexes.txt')\n",
    "print('# Number of analytes with significant regulation of gestational weeks in males and females: ' + str(len(list_sig_both)))\n",
    "write_list_to_file(list_sig_female_only, 'output/sig_analytes_female_only.txt')\n",
    "print('# Number of analytes with significant regulation of gestational weeks in females only: ' + str(len(list_sig_female_only)))\n",
    "write_list_to_file(list_sig_male_only, 'output/sig_analytes_male_only.txt')\n",
    "print('# Number of analytes with significant regulation of gestational weeks in males only: ' + str(len(list_sig_male_only)))\n",
    "\n",
    "# without illicit drug use as a variable\n",
    "# Number of analytes with significant regulation of gestational weeks in males and females: 155\n",
    "# Number of analytes with significant regulation of gestational weeks in females only: 343\n",
    "# Number of analytes with significant regulation of gestational weeks in males only: 254\n",
    "\n",
    "# Number of analytes with significant regulation of gestational weeks in males and females: 136\n",
    "# Number of analytes with significant regulation of gestational weeks in females only: 422\n",
    "# Number of analytes with significant regulation of gestational weeks in males only: 174"
   ]
  },
  {
   "cell_type": "code",
   "execution_count": 124,
   "metadata": {},
   "outputs": [],
   "source": [
    "# save lists of analytes significantly regulated by gestational weeks to files\n",
    "def write_list_to_file(l, f):\n",
    "    w = open(f, mode='w')\n",
    "    w.write(('\\n').join(l))\n",
    "    w.write('\\n')\n",
    "    w.close()\n",
    "\n",
    "write_list_to_file(list(glm_female['Analyte']), 'analytes.glm.single.female.sig.miniDP3.txt')\n",
    "write_list_to_file(list(glm_male['Analyte']), 'analytes.glm.single.male.sig.miniDP3.txt')\n",
    "write_list_to_file(list_sig_both, 'analytes.glm.single.bothSexes.sig.miniDP3.txt')\n",
    "write_list_to_file(list_sig_female_only, 'analytes.glm.single.femaleOnly.sig.miniDP3.txt')\n",
    "write_list_to_file(list_sig_male_only, 'analytes.glm.single.maleOnly.sig.miniDP3.txt')"
   ]
  },
  {
   "cell_type": "code",
   "execution_count": 125,
   "metadata": {},
   "outputs": [],
   "source": [
    "def adjust_analytes(dat, clinical, glm):\n",
    "    dict_adjust = {\n",
    "        'WksGest': 40,\n",
    "        'PregravidBMI': 26,\n",
    "        'LaborInitiation[T.True]': 1,  # 1 indicates labor onset\n",
    "        'Smoker[T.False]': 0,  # 0 indicates smoker status\n",
    "        'IllicitDrugUser[T.False]': 0  # 0 indicates not illicit drug status\n",
    "    }\n",
    "    dat = dat[dat['Patient-ID'].isin(list(clinical['Patient-ID']))]\n",
    "    dat = dat.merge(clinical[['Patient-ID', 'WksGest', 'PregravidBMI', 'LaborInitiation', 'Smoker', 'IllicitDrugUser']], how='left')\n",
    "    for index, row in glm.iterrows():\n",
    "        analyte = row['Analyte']\n",
    "        if analyte in list(dat.columns):\n",
    "            wg_coef = row['WksGest']\n",
    "            bmi_coef = row['PregravidBMISquared']\n",
    "            l_coef = row['C(LaborInitiation)[T.1]']\n",
    "            s_coef = row['C(Smoker)[T.1.0]']\n",
    "            d_coef = row['C(IllicitDrugUser)[T.1.0]']\n",
    "            for i, r in dat.iterrows():\n",
    "                value = r[analyte]\n",
    "                wg = r['WksGest']\n",
    "                bmi = r['PregravidBMI']\n",
    "                l = r['LaborInitiation']\n",
    "                s = r['Smoker']\n",
    "                d = r['IllicitDrugUser']\n",
    "                dat.loc[i, analyte]  = value + wg_coef*(dict_adjust['WksGest']-wg) + bmi_coef*(dict_adjust['PregravidBMI']**2-bmi**2) + l_coef*(dict_adjust['LaborInitiation[T.True]']-l) + s_coef*(dict_adjust['Smoker[T.False]']-s)  + d_coef*(dict_adjust['IllicitDrugUser[T.False]']-d) \n",
    "    return dat.drop(['WksGest', 'PregravidBMI', 'LaborInitiation', 'Smoker', 'IllicitDrugUser'], axis=1)"
   ]
  },
  {
   "cell_type": "code",
   "execution_count": 126,
   "metadata": {},
   "outputs": [],
   "source": [
    "# save results of linear regressions to output files\n",
    "df_female.to_csv('output/female_gestational_weeks_regression_results.csv', index=False, sep=',')\n",
    "df_male.to_csv('output/male_gestational_weeks_regression_results.csv', index=False, sep=',')\n",
    "\n",
    "# use glm to adjust analyte values to 40 weeks gestation\n",
    "dfmb_female_adjusted = adjust_analytes(dfmb, df_female, glm_female)\n",
    "dfmirna_female_adjusted = adjust_analytes(dfmirna, df_female, glm_female)\n",
    "dfpb_female_adjusted = adjust_analytes(dfpb, df_female, glm_female)\n",
    "dftb_female_adjusted = adjust_analytes(dftb, df_female, glm_female)\n",
    "\n",
    "dfmb_male_adjusted = adjust_analytes(dfmb, df_male, glm_male)\n",
    "dfmirna_male_adjusted = adjust_analytes(dfmirna, df_male, glm_male)\n",
    "dfpb_male_adjusted = adjust_analytes(dfpb, df_male, glm_male)\n",
    "dftb_male_adjusted = adjust_analytes(dftb, df_male, glm_male)\n",
    "\n",
    "# save adjusted analytes\n",
    "dfmb_adjusted = pd.concat([dfmb_female_adjusted, dfmb_male_adjusted]).sort_values(by='Patient-ID')\n",
    "dfmb_adjusted.to_csv('output/metabolites-final-adjusted.csv', index=False, sep=',')\n",
    "dfmirna_adjusted = pd.concat([dfmirna_female_adjusted, dfmirna_male_adjusted]).sort_values(by='Patient-ID')\n",
    "dfmirna_adjusted.to_csv('output/mirna-final-adjusted.csv', index=False, sep=',')\n",
    "dfpb_adjusted = pd.concat([dfpb_female_adjusted, dfpb_male_adjusted]).sort_values(by='Patient-ID')\n",
    "dfpb_adjusted.to_csv('output/proteins-final-adjusted.csv', index=False, sep=',')\n",
    "dftb_adjusted = pd.concat([dftb_female_adjusted, dftb_male_adjusted]).sort_values(by='Patient-ID')\n",
    "dftb_adjusted.to_csv('output/transcripts-final-adjusted.csv', index=False, sep=',')"
   ]
  },
  {
   "cell_type": "code",
   "execution_count": 127,
   "metadata": {},
   "outputs": [
    {
     "data": {
      "text/html": [
       "<div>\n",
       "<style scoped>\n",
       "    .dataframe tbody tr th:only-of-type {\n",
       "        vertical-align: middle;\n",
       "    }\n",
       "\n",
       "    .dataframe tbody tr th {\n",
       "        vertical-align: top;\n",
       "    }\n",
       "\n",
       "    .dataframe thead th {\n",
       "        text-align: right;\n",
       "    }\n",
       "</style>\n",
       "<table border=\"1\" class=\"dataframe\">\n",
       "  <thead>\n",
       "    <tr style=\"text-align: right;\">\n",
       "      <th></th>\n",
       "      <th>Patient-ID</th>\n",
       "      <th>Condition</th>\n",
       "      <th>LaborInitiation</th>\n",
       "      <th>MaternalAge</th>\n",
       "      <th>isAsian</th>\n",
       "      <th>isBlack</th>\n",
       "      <th>isNativeAmerican</th>\n",
       "      <th>isPacificIslander</th>\n",
       "      <th>isWhite</th>\n",
       "      <th>RaceMissing</th>\n",
       "      <th>...</th>\n",
       "      <th>MAN1A1</th>\n",
       "      <th>PLD3</th>\n",
       "      <th>SUCO</th>\n",
       "      <th>RAC1</th>\n",
       "      <th>IGFBP5</th>\n",
       "      <th>COX7C</th>\n",
       "      <th>RIC8A</th>\n",
       "      <th>WksGestSquared</th>\n",
       "      <th>MaternalAgeSquared</th>\n",
       "      <th>PregravidBMISquared</th>\n",
       "    </tr>\n",
       "  </thead>\n",
       "  <tbody>\n",
       "    <tr>\n",
       "      <th>0</th>\n",
       "      <td>KH-1100</td>\n",
       "      <td>PTD</td>\n",
       "      <td>1</td>\n",
       "      <td>42.0</td>\n",
       "      <td>0.0</td>\n",
       "      <td>0.0</td>\n",
       "      <td>0.0</td>\n",
       "      <td>0.0</td>\n",
       "      <td>1.0</td>\n",
       "      <td>0.0</td>\n",
       "      <td>...</td>\n",
       "      <td>628.0</td>\n",
       "      <td>1777.0</td>\n",
       "      <td>2933.0</td>\n",
       "      <td>2738.0</td>\n",
       "      <td>1164.0</td>\n",
       "      <td>1400.0</td>\n",
       "      <td>1129.0</td>\n",
       "      <td>1225.000000</td>\n",
       "      <td>1764.0</td>\n",
       "      <td>806.279531</td>\n",
       "    </tr>\n",
       "    <tr>\n",
       "      <th>1</th>\n",
       "      <td>KH-1149</td>\n",
       "      <td>Severe PE</td>\n",
       "      <td>0</td>\n",
       "      <td>29.0</td>\n",
       "      <td>0.0</td>\n",
       "      <td>0.0</td>\n",
       "      <td>1.0</td>\n",
       "      <td>0.0</td>\n",
       "      <td>0.0</td>\n",
       "      <td>0.0</td>\n",
       "      <td>...</td>\n",
       "      <td>881.0</td>\n",
       "      <td>2543.0</td>\n",
       "      <td>2167.0</td>\n",
       "      <td>2480.0</td>\n",
       "      <td>17921.0</td>\n",
       "      <td>527.0</td>\n",
       "      <td>932.0</td>\n",
       "      <td>1146.306123</td>\n",
       "      <td>841.0</td>\n",
       "      <td>567.779541</td>\n",
       "    </tr>\n",
       "    <tr>\n",
       "      <th>2</th>\n",
       "      <td>MJ-0015</td>\n",
       "      <td>FGR+hyp</td>\n",
       "      <td>0</td>\n",
       "      <td>28.0</td>\n",
       "      <td>0.0</td>\n",
       "      <td>0.0</td>\n",
       "      <td>0.0</td>\n",
       "      <td>0.0</td>\n",
       "      <td>1.0</td>\n",
       "      <td>0.0</td>\n",
       "      <td>...</td>\n",
       "      <td>952.0</td>\n",
       "      <td>2216.0</td>\n",
       "      <td>1793.0</td>\n",
       "      <td>2002.0</td>\n",
       "      <td>3465.0</td>\n",
       "      <td>360.0</td>\n",
       "      <td>691.0</td>\n",
       "      <td>908.591837</td>\n",
       "      <td>784.0</td>\n",
       "      <td>1345.896634</td>\n",
       "    </tr>\n",
       "    <tr>\n",
       "      <th>3</th>\n",
       "      <td>MJ-0025</td>\n",
       "      <td>FGR+hyp</td>\n",
       "      <td>0</td>\n",
       "      <td>20.0</td>\n",
       "      <td>0.0</td>\n",
       "      <td>1.0</td>\n",
       "      <td>0.0</td>\n",
       "      <td>0.0</td>\n",
       "      <td>0.0</td>\n",
       "      <td>0.0</td>\n",
       "      <td>...</td>\n",
       "      <td>1854.0</td>\n",
       "      <td>3226.0</td>\n",
       "      <td>2450.0</td>\n",
       "      <td>3792.0</td>\n",
       "      <td>11002.0</td>\n",
       "      <td>574.0</td>\n",
       "      <td>1052.0</td>\n",
       "      <td>900.000000</td>\n",
       "      <td>400.0</td>\n",
       "      <td>717.448076</td>\n",
       "    </tr>\n",
       "    <tr>\n",
       "      <th>4</th>\n",
       "      <td>MJ-0034</td>\n",
       "      <td>FGR+hyp</td>\n",
       "      <td>0</td>\n",
       "      <td>18.0</td>\n",
       "      <td>0.0</td>\n",
       "      <td>1.0</td>\n",
       "      <td>0.0</td>\n",
       "      <td>0.0</td>\n",
       "      <td>0.0</td>\n",
       "      <td>0.0</td>\n",
       "      <td>...</td>\n",
       "      <td>570.0</td>\n",
       "      <td>5074.0</td>\n",
       "      <td>1213.0</td>\n",
       "      <td>2512.0</td>\n",
       "      <td>6799.0</td>\n",
       "      <td>477.0</td>\n",
       "      <td>1204.0</td>\n",
       "      <td>1465.795919</td>\n",
       "      <td>324.0</td>\n",
       "      <td>1076.660156</td>\n",
       "    </tr>\n",
       "  </tbody>\n",
       "</table>\n",
       "<p>5 rows × 11265 columns</p>\n",
       "</div>"
      ],
      "text/plain": [
       "  Patient-ID  Condition  LaborInitiation  MaternalAge  isAsian  isBlack  \\\n",
       "0    KH-1100        PTD                1         42.0      0.0      0.0   \n",
       "1    KH-1149  Severe PE                0         29.0      0.0      0.0   \n",
       "2    MJ-0015    FGR+hyp                0         28.0      0.0      0.0   \n",
       "3    MJ-0025    FGR+hyp                0         20.0      0.0      1.0   \n",
       "4    MJ-0034    FGR+hyp                0         18.0      0.0      1.0   \n",
       "\n",
       "   isNativeAmerican  isPacificIslander  isWhite  RaceMissing  ...  MAN1A1  \\\n",
       "0               0.0                0.0      1.0          0.0  ...   628.0   \n",
       "1               1.0                0.0      0.0          0.0  ...   881.0   \n",
       "2               0.0                0.0      1.0          0.0  ...   952.0   \n",
       "3               0.0                0.0      0.0          0.0  ...  1854.0   \n",
       "4               0.0                0.0      0.0          0.0  ...   570.0   \n",
       "\n",
       "     PLD3    SUCO    RAC1   IGFBP5   COX7C   RIC8A  WksGestSquared  \\\n",
       "0  1777.0  2933.0  2738.0   1164.0  1400.0  1129.0     1225.000000   \n",
       "1  2543.0  2167.0  2480.0  17921.0   527.0   932.0     1146.306123   \n",
       "2  2216.0  1793.0  2002.0   3465.0   360.0   691.0      908.591837   \n",
       "3  3226.0  2450.0  3792.0  11002.0   574.0  1052.0      900.000000   \n",
       "4  5074.0  1213.0  2512.0   6799.0   477.0  1204.0     1465.795919   \n",
       "\n",
       "   MaternalAgeSquared  PregravidBMISquared  \n",
       "0              1764.0           806.279531  \n",
       "1               841.0           567.779541  \n",
       "2               784.0          1345.896634  \n",
       "3               400.0           717.448076  \n",
       "4               324.0          1076.660156  \n",
       "\n",
       "[5 rows x 11265 columns]"
      ]
     },
     "execution_count": 127,
     "metadata": {},
     "output_type": "execute_result"
    }
   ],
   "source": [
    "df_female.head()"
   ]
  },
  {
   "cell_type": "code",
   "execution_count": 128,
   "metadata": {},
   "outputs": [
    {
     "name": "stderr",
     "output_type": "stream",
     "text": [
      "/opt/conda/envs/arivale-py3/lib/python3.7/site-packages/ipykernel_launcher.py:34: UserWarning: Tight layout not applied. The left and right margins cannot be made large enough to accommodate all axes decorations.\n"
     ]
    },
    {
     "data": {
      "image/png": "[encoded data removed]",
      "text/plain": [
       "<Figure size 144x1440 with 2 Axes>"
      ]
     },
     "metadata": {
      "needs_background": "light"
     },
     "output_type": "display_data"
    },
    {
     "data": {
      "text/plain": [
       "<Figure size 144x1440 with 0 Axes>"
      ]
     },
     "metadata": {},
     "output_type": "display_data"
    }
   ],
   "source": [
    "def make_list_of_slopes(df, analyte):\n",
    "    l = []\n",
    "    for item in analyte:\n",
    "        row = df.loc[df['Analyte'] == item]\n",
    "        slope = row['WksGest']\n",
    "        l.append(slope)\n",
    "    return l\n",
    "\n",
    "\n",
    "def plot_heatmap(df_female, df_male, analytes):\n",
    "    plt.rcParams['figure.figsize'] = [2, 20]\n",
    "    gender = ['Female', 'Male']\n",
    "    l_slopes_female = make_list_of_slopes(df_female, analytes)\n",
    "    l_slopes_male = make_list_of_slopes(df_male, analytes)\n",
    "\n",
    "    slopes = np.column_stack((l_slopes_female, l_slopes_male))\n",
    "\n",
    "\n",
    "    fig, ax = plt.subplots()\n",
    "    im = ax.imshow(slopes)\n",
    "    \n",
    "    # add colorbar\n",
    "    cbm = ax.matshow(slopes, interpolation=None, aspect='auto');\n",
    "    cb = plt.colorbar(cbm, ax=ax)\n",
    "\n",
    "    # Show all ticks and label them with the respective list entries\n",
    "    ax.set_xticks(np.arange(len(gender)), labels=gender)\n",
    "    ax.set_yticks(np.arange(len(analytes)), labels=analytes)\n",
    "\n",
    "    # Rotate the tick labels and set their alignment.\n",
    "    plt.setp(ax.get_xticklabels(), rotation=0, ha=\"right\",\n",
    "             rotation_mode=\"anchor\")\n",
    "\n",
    "    fig.tight_layout()\n",
    "    plt.show()\n",
    "    plt.savefig('sig_analytes_slope_both_sexes_heatmap.pdf')  \n",
    "    \n",
    "plot_heatmap(glm_female, glm_male, list_sig_both)\n",
    "plt.savefig('output/gestational_weeks_coef_sig_both_sexes_heatmap.pdf', bbox_inches='tight')"
   ]
  },
  {
   "cell_type": "code",
   "execution_count": 129,
   "metadata": {},
   "outputs": [
    {
     "data": {
      "text/html": [
       "<div>\n",
       "<style scoped>\n",
       "    .dataframe tbody tr th:only-of-type {\n",
       "        vertical-align: middle;\n",
       "    }\n",
       "\n",
       "    .dataframe tbody tr th {\n",
       "        vertical-align: top;\n",
       "    }\n",
       "\n",
       "    .dataframe thead th {\n",
       "        text-align: right;\n",
       "    }\n",
       "</style>\n",
       "<table border=\"1\" class=\"dataframe\">\n",
       "  <thead>\n",
       "    <tr style=\"text-align: right;\">\n",
       "      <th></th>\n",
       "      <th>Patient-ID</th>\n",
       "      <th>Condition</th>\n",
       "      <th>LaborInitiation</th>\n",
       "      <th>MaternalAge</th>\n",
       "      <th>isAsian</th>\n",
       "      <th>isBlack</th>\n",
       "      <th>isNativeAmerican</th>\n",
       "      <th>isPacificIslander</th>\n",
       "      <th>isWhite</th>\n",
       "      <th>RaceMissing</th>\n",
       "      <th>...</th>\n",
       "      <th>MAN1A1</th>\n",
       "      <th>PLD3</th>\n",
       "      <th>SUCO</th>\n",
       "      <th>RAC1</th>\n",
       "      <th>IGFBP5</th>\n",
       "      <th>COX7C</th>\n",
       "      <th>RIC8A</th>\n",
       "      <th>WksGestSquared</th>\n",
       "      <th>MaternalAgeSquared</th>\n",
       "      <th>PregravidBMISquared</th>\n",
       "    </tr>\n",
       "  </thead>\n",
       "  <tbody>\n",
       "    <tr>\n",
       "      <th>0</th>\n",
       "      <td>KH-1100</td>\n",
       "      <td>PTD</td>\n",
       "      <td>1</td>\n",
       "      <td>42.0</td>\n",
       "      <td>0.0</td>\n",
       "      <td>0.0</td>\n",
       "      <td>0.0</td>\n",
       "      <td>0.0</td>\n",
       "      <td>1.0</td>\n",
       "      <td>0.0</td>\n",
       "      <td>...</td>\n",
       "      <td>628.0</td>\n",
       "      <td>1777.0</td>\n",
       "      <td>2933.0</td>\n",
       "      <td>2738.0</td>\n",
       "      <td>1164.0</td>\n",
       "      <td>1400.0</td>\n",
       "      <td>1129.0</td>\n",
       "      <td>1225.000000</td>\n",
       "      <td>1764.0</td>\n",
       "      <td>806.279531</td>\n",
       "    </tr>\n",
       "    <tr>\n",
       "      <th>1</th>\n",
       "      <td>KH-1149</td>\n",
       "      <td>Severe PE</td>\n",
       "      <td>0</td>\n",
       "      <td>29.0</td>\n",
       "      <td>0.0</td>\n",
       "      <td>0.0</td>\n",
       "      <td>1.0</td>\n",
       "      <td>0.0</td>\n",
       "      <td>0.0</td>\n",
       "      <td>0.0</td>\n",
       "      <td>...</td>\n",
       "      <td>881.0</td>\n",
       "      <td>2543.0</td>\n",
       "      <td>2167.0</td>\n",
       "      <td>2480.0</td>\n",
       "      <td>17921.0</td>\n",
       "      <td>527.0</td>\n",
       "      <td>932.0</td>\n",
       "      <td>1146.306123</td>\n",
       "      <td>841.0</td>\n",
       "      <td>567.779541</td>\n",
       "    </tr>\n",
       "    <tr>\n",
       "      <th>2</th>\n",
       "      <td>MJ-0015</td>\n",
       "      <td>FGR+hyp</td>\n",
       "      <td>0</td>\n",
       "      <td>28.0</td>\n",
       "      <td>0.0</td>\n",
       "      <td>0.0</td>\n",
       "      <td>0.0</td>\n",
       "      <td>0.0</td>\n",
       "      <td>1.0</td>\n",
       "      <td>0.0</td>\n",
       "      <td>...</td>\n",
       "      <td>952.0</td>\n",
       "      <td>2216.0</td>\n",
       "      <td>1793.0</td>\n",
       "      <td>2002.0</td>\n",
       "      <td>3465.0</td>\n",
       "      <td>360.0</td>\n",
       "      <td>691.0</td>\n",
       "      <td>908.591837</td>\n",
       "      <td>784.0</td>\n",
       "      <td>1345.896634</td>\n",
       "    </tr>\n",
       "    <tr>\n",
       "      <th>3</th>\n",
       "      <td>MJ-0025</td>\n",
       "      <td>FGR+hyp</td>\n",
       "      <td>0</td>\n",
       "      <td>20.0</td>\n",
       "      <td>0.0</td>\n",
       "      <td>1.0</td>\n",
       "      <td>0.0</td>\n",
       "      <td>0.0</td>\n",
       "      <td>0.0</td>\n",
       "      <td>0.0</td>\n",
       "      <td>...</td>\n",
       "      <td>1854.0</td>\n",
       "      <td>3226.0</td>\n",
       "      <td>2450.0</td>\n",
       "      <td>3792.0</td>\n",
       "      <td>11002.0</td>\n",
       "      <td>574.0</td>\n",
       "      <td>1052.0</td>\n",
       "      <td>900.000000</td>\n",
       "      <td>400.0</td>\n",
       "      <td>717.448076</td>\n",
       "    </tr>\n",
       "    <tr>\n",
       "      <th>4</th>\n",
       "      <td>MJ-0034</td>\n",
       "      <td>FGR+hyp</td>\n",
       "      <td>0</td>\n",
       "      <td>18.0</td>\n",
       "      <td>0.0</td>\n",
       "      <td>1.0</td>\n",
       "      <td>0.0</td>\n",
       "      <td>0.0</td>\n",
       "      <td>0.0</td>\n",
       "      <td>0.0</td>\n",
       "      <td>...</td>\n",
       "      <td>570.0</td>\n",
       "      <td>5074.0</td>\n",
       "      <td>1213.0</td>\n",
       "      <td>2512.0</td>\n",
       "      <td>6799.0</td>\n",
       "      <td>477.0</td>\n",
       "      <td>1204.0</td>\n",
       "      <td>1465.795919</td>\n",
       "      <td>324.0</td>\n",
       "      <td>1076.660156</td>\n",
       "    </tr>\n",
       "  </tbody>\n",
       "</table>\n",
       "<p>5 rows × 11265 columns</p>\n",
       "</div>"
      ],
      "text/plain": [
       "  Patient-ID  Condition  LaborInitiation  MaternalAge  isAsian  isBlack  \\\n",
       "0    KH-1100        PTD                1         42.0      0.0      0.0   \n",
       "1    KH-1149  Severe PE                0         29.0      0.0      0.0   \n",
       "2    MJ-0015    FGR+hyp                0         28.0      0.0      0.0   \n",
       "3    MJ-0025    FGR+hyp                0         20.0      0.0      1.0   \n",
       "4    MJ-0034    FGR+hyp                0         18.0      0.0      1.0   \n",
       "\n",
       "   isNativeAmerican  isPacificIslander  isWhite  RaceMissing  ...  MAN1A1  \\\n",
       "0               0.0                0.0      1.0          0.0  ...   628.0   \n",
       "1               1.0                0.0      0.0          0.0  ...   881.0   \n",
       "2               0.0                0.0      1.0          0.0  ...   952.0   \n",
       "3               0.0                0.0      0.0          0.0  ...  1854.0   \n",
       "4               0.0                0.0      0.0          0.0  ...   570.0   \n",
       "\n",
       "     PLD3    SUCO    RAC1   IGFBP5   COX7C   RIC8A  WksGestSquared  \\\n",
       "0  1777.0  2933.0  2738.0   1164.0  1400.0  1129.0     1225.000000   \n",
       "1  2543.0  2167.0  2480.0  17921.0   527.0   932.0     1146.306123   \n",
       "2  2216.0  1793.0  2002.0   3465.0   360.0   691.0      908.591837   \n",
       "3  3226.0  2450.0  3792.0  11002.0   574.0  1052.0      900.000000   \n",
       "4  5074.0  1213.0  2512.0   6799.0   477.0  1204.0     1465.795919   \n",
       "\n",
       "   MaternalAgeSquared  PregravidBMISquared  \n",
       "0              1764.0           806.279531  \n",
       "1               841.0           567.779541  \n",
       "2               784.0          1345.896634  \n",
       "3               400.0           717.448076  \n",
       "4               324.0          1076.660156  \n",
       "\n",
       "[5 rows x 11265 columns]"
      ]
     },
     "execution_count": 129,
     "metadata": {},
     "output_type": "execute_result"
    }
   ],
   "source": [
    "df_female.head()"
   ]
  },
  {
   "cell_type": "code",
   "execution_count": 130,
   "metadata": {},
   "outputs": [
    {
     "data": {
      "text/html": [
       "<div>\n",
       "<style scoped>\n",
       "    .dataframe tbody tr th:only-of-type {\n",
       "        vertical-align: middle;\n",
       "    }\n",
       "\n",
       "    .dataframe tbody tr th {\n",
       "        vertical-align: top;\n",
       "    }\n",
       "\n",
       "    .dataframe thead th {\n",
       "        text-align: right;\n",
       "    }\n",
       "</style>\n",
       "<table border=\"1\" class=\"dataframe\">\n",
       "  <thead>\n",
       "    <tr style=\"text-align: right;\">\n",
       "      <th></th>\n",
       "      <th>Analyte</th>\n",
       "      <th>N</th>\n",
       "      <th>Model Family</th>\n",
       "      <th>Link Function</th>\n",
       "      <th>Extreme Outliers</th>\n",
       "      <th>K-S Statistic</th>\n",
       "      <th>K-S p-value</th>\n",
       "      <th>Converged</th>\n",
       "      <th>Intercept</th>\n",
       "      <th>C(LaborInitiation)[T.1]</th>\n",
       "      <th>...</th>\n",
       "      <th>WksGest</th>\n",
       "      <th>PregravidBMISquared</th>\n",
       "      <th>Intercept_p</th>\n",
       "      <th>C(LaborInitiation)[T.1]_p</th>\n",
       "      <th>C(Smoker)[T.1.0]_p</th>\n",
       "      <th>C(IllicitDrugUser)[T.1.0]_p</th>\n",
       "      <th>WksGest_p</th>\n",
       "      <th>PregravidBMISquared_p</th>\n",
       "      <th>Pseudo_R_Squared</th>\n",
       "      <th>pval_adj</th>\n",
       "    </tr>\n",
       "  </thead>\n",
       "  <tbody>\n",
       "    <tr>\n",
       "      <th>5702</th>\n",
       "      <td>HTRA4</td>\n",
       "      <td>160</td>\n",
       "      <td>Gamma</td>\n",
       "      <td>Log</td>\n",
       "      <td>False</td>\n",
       "      <td>0.931250</td>\n",
       "      <td>1.840387e-186</td>\n",
       "      <td>True</td>\n",
       "      <td>16.587617</td>\n",
       "      <td>-0.426140</td>\n",
       "      <td>...</td>\n",
       "      <td>-0.224347</td>\n",
       "      <td>-0.000484</td>\n",
       "      <td>4.237540e-53</td>\n",
       "      <td>0.022804</td>\n",
       "      <td>0.909824</td>\n",
       "      <td>0.249773</td>\n",
       "      <td>7.220523e-16</td>\n",
       "      <td>0.057010</td>\n",
       "      <td>0.099194</td>\n",
       "      <td>7.854484e-12</td>\n",
       "    </tr>\n",
       "    <tr>\n",
       "      <th>1133</th>\n",
       "      <td>SELE (protein)</td>\n",
       "      <td>160</td>\n",
       "      <td>Gamma</td>\n",
       "      <td>Log</td>\n",
       "      <td>False</td>\n",
       "      <td>0.989607</td>\n",
       "      <td>9.519489e-318</td>\n",
       "      <td>True</td>\n",
       "      <td>0.162204</td>\n",
       "      <td>0.034214</td>\n",
       "      <td>...</td>\n",
       "      <td>0.033929</td>\n",
       "      <td>0.000042</td>\n",
       "      <td>3.333790e-01</td>\n",
       "      <td>0.238434</td>\n",
       "      <td>0.885935</td>\n",
       "      <td>0.881640</td>\n",
       "      <td>3.603841e-15</td>\n",
       "      <td>0.283229</td>\n",
       "      <td>0.010246</td>\n",
       "      <td>1.960129e-11</td>\n",
       "    </tr>\n",
       "    <tr>\n",
       "      <th>998</th>\n",
       "      <td>IL2-RA (protein)</td>\n",
       "      <td>160</td>\n",
       "      <td>Gamma</td>\n",
       "      <td>Log</td>\n",
       "      <td>False</td>\n",
       "      <td>0.684640</td>\n",
       "      <td>4.542064e-75</td>\n",
       "      <td>True</td>\n",
       "      <td>-4.040373</td>\n",
       "      <td>0.019762</td>\n",
       "      <td>...</td>\n",
       "      <td>0.114151</td>\n",
       "      <td>0.000107</td>\n",
       "      <td>1.093489e-11</td>\n",
       "      <td>0.847754</td>\n",
       "      <td>0.699276</td>\n",
       "      <td>0.452158</td>\n",
       "      <td>8.426738e-14</td>\n",
       "      <td>0.445794</td>\n",
       "      <td>0.040606</td>\n",
       "      <td>3.055535e-10</td>\n",
       "    </tr>\n",
       "    <tr>\n",
       "      <th>1068</th>\n",
       "      <td>MFGE8 (protein)</td>\n",
       "      <td>160</td>\n",
       "      <td>Gamma</td>\n",
       "      <td>Log</td>\n",
       "      <td>False</td>\n",
       "      <td>0.993750</td>\n",
       "      <td>0.000000e+00</td>\n",
       "      <td>True</td>\n",
       "      <td>1.498400</td>\n",
       "      <td>-0.014442</td>\n",
       "      <td>...</td>\n",
       "      <td>0.017164</td>\n",
       "      <td>0.000008</td>\n",
       "      <td>5.344482e-57</td>\n",
       "      <td>0.375604</td>\n",
       "      <td>0.109078</td>\n",
       "      <td>0.642250</td>\n",
       "      <td>1.371150e-12</td>\n",
       "      <td>0.718927</td>\n",
       "      <td>0.202445</td>\n",
       "      <td>3.728842e-09</td>\n",
       "    </tr>\n",
       "    <tr>\n",
       "      <th>1914</th>\n",
       "      <td>ADAMTS3</td>\n",
       "      <td>160</td>\n",
       "      <td>Gamma</td>\n",
       "      <td>Log</td>\n",
       "      <td>False</td>\n",
       "      <td>0.931250</td>\n",
       "      <td>1.840387e-186</td>\n",
       "      <td>True</td>\n",
       "      <td>2.156924</td>\n",
       "      <td>0.080192</td>\n",
       "      <td>...</td>\n",
       "      <td>0.096969</td>\n",
       "      <td>0.000190</td>\n",
       "      <td>5.542570e-05</td>\n",
       "      <td>0.386485</td>\n",
       "      <td>0.030095</td>\n",
       "      <td>0.113468</td>\n",
       "      <td>1.819550e-12</td>\n",
       "      <td>0.130065</td>\n",
       "      <td>0.017729</td>\n",
       "      <td>3.958613e-09</td>\n",
       "    </tr>\n",
       "  </tbody>\n",
       "</table>\n",
       "<p>5 rows × 22 columns</p>\n",
       "</div>"
      ],
      "text/plain": [
       "               Analyte    N Model Family Link Function  Extreme Outliers  \\\n",
       "5702             HTRA4  160        Gamma           Log             False   \n",
       "1133    SELE (protein)  160        Gamma           Log             False   \n",
       "998   IL2-RA (protein)  160        Gamma           Log             False   \n",
       "1068   MFGE8 (protein)  160        Gamma           Log             False   \n",
       "1914           ADAMTS3  160        Gamma           Log             False   \n",
       "\n",
       "      K-S Statistic    K-S p-value  Converged  Intercept  \\\n",
       "5702       0.931250  1.840387e-186       True  16.587617   \n",
       "1133       0.989607  9.519489e-318       True   0.162204   \n",
       "998        0.684640   4.542064e-75       True  -4.040373   \n",
       "1068       0.993750   0.000000e+00       True   1.498400   \n",
       "1914       0.931250  1.840387e-186       True   2.156924   \n",
       "\n",
       "      C(LaborInitiation)[T.1]  ...   WksGest  PregravidBMISquared  \\\n",
       "5702                -0.426140  ... -0.224347            -0.000484   \n",
       "1133                 0.034214  ...  0.033929             0.000042   \n",
       "998                  0.019762  ...  0.114151             0.000107   \n",
       "1068                -0.014442  ...  0.017164             0.000008   \n",
       "1914                 0.080192  ...  0.096969             0.000190   \n",
       "\n",
       "       Intercept_p  C(LaborInitiation)[T.1]_p  C(Smoker)[T.1.0]_p  \\\n",
       "5702  4.237540e-53                   0.022804            0.909824   \n",
       "1133  3.333790e-01                   0.238434            0.885935   \n",
       "998   1.093489e-11                   0.847754            0.699276   \n",
       "1068  5.344482e-57                   0.375604            0.109078   \n",
       "1914  5.542570e-05                   0.386485            0.030095   \n",
       "\n",
       "      C(IllicitDrugUser)[T.1.0]_p     WksGest_p  PregravidBMISquared_p  \\\n",
       "5702                     0.249773  7.220523e-16               0.057010   \n",
       "1133                     0.881640  3.603841e-15               0.283229   \n",
       "998                      0.452158  8.426738e-14               0.445794   \n",
       "1068                     0.642250  1.371150e-12               0.718927   \n",
       "1914                     0.113468  1.819550e-12               0.130065   \n",
       "\n",
       "      Pseudo_R_Squared      pval_adj  \n",
       "5702          0.099194  7.854484e-12  \n",
       "1133          0.010246  1.960129e-11  \n",
       "998           0.040606  3.055535e-10  \n",
       "1068          0.202445  3.728842e-09  \n",
       "1914          0.017729  3.958613e-09  \n",
       "\n",
       "[5 rows x 22 columns]"
      ]
     },
     "execution_count": 130,
     "metadata": {},
     "output_type": "execute_result"
    }
   ],
   "source": [
    "glm_female.head()"
   ]
  },
  {
   "cell_type": "code",
   "execution_count": null,
   "metadata": {},
   "outputs": [],
   "source": []
  }
 ],
 "metadata": {
  "kernelspec": {
   "display_name": "arivale-py3",
   "language": "python",
   "name": "arivale-py3"
  },
  "language_info": {
   "codemirror_mode": {
    "name": "ipython",
    "version": 3
   },
   "file_extension": ".py",
   "mimetype": "text/x-python",
   "name": "python",
   "nbconvert_exporter": "python",
   "pygments_lexer": "ipython3",
   "version": "3.7.6"
  }
 },
 "nbformat": 4,
 "nbformat_minor": 4
}
